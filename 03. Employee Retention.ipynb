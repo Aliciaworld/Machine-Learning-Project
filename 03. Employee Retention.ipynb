{
 "cells": [
  {
   "cell_type": "markdown",
   "metadata": {},
   "source": [
    "# Project 03. Employee Retention"
   ]
  },
  {
   "cell_type": "code",
   "execution_count": 1,
   "metadata": {},
   "outputs": [
    {
     "data": {
      "text/plain": [
       "<Figure size 432x288 with 0 Axes>"
      ]
     },
     "metadata": {},
     "output_type": "display_data"
    }
   ],
   "source": [
    "import numpy as np\n",
    "import pandas as pd\n",
    "\n",
    "import matplotlib.pyplot as plt\n",
    "import seaborn as sns\n",
    "%matplotlib inline\n",
    "plt.tight_layout()\n",
    "plt.rcParams[\"patch.force_edgecolor\"] = True\n",
    "\n",
    "import warnings\n",
    "warnings.simplefilter('ignore')\n"
   ]
  },
  {
   "cell_type": "markdown",
   "metadata": {},
   "source": [
    "# Table of Contents\n",
    "  1. [Read data](#readdata)\n",
    "  2. [Create Headcount Table](#createheadcounttable)\n",
    "  3. [Employee Churn Analysis](#employeechurnanalysis)\n",
    "  4. [Machine Learning](#machinelearning)"
   ]
  },
  {
   "cell_type": "markdown",
   "metadata": {},
   "source": [
    "<a id='read_data'></a>\n",
    "## Read Data"
   ]
  },
  {
   "cell_type": "code",
   "execution_count": 2,
   "metadata": {},
   "outputs": [
    {
     "data": {
      "text/html": [
       "<div>\n",
       "<style scoped>\n",
       "    .dataframe tbody tr th:only-of-type {\n",
       "        vertical-align: middle;\n",
       "    }\n",
       "\n",
       "    .dataframe tbody tr th {\n",
       "        vertical-align: top;\n",
       "    }\n",
       "\n",
       "    .dataframe thead th {\n",
       "        text-align: right;\n",
       "    }\n",
       "</style>\n",
       "<table border=\"1\" class=\"dataframe\">\n",
       "  <thead>\n",
       "    <tr style=\"text-align: right;\">\n",
       "      <th></th>\n",
       "      <th>employee_id</th>\n",
       "      <th>company_id</th>\n",
       "      <th>dept</th>\n",
       "      <th>seniority</th>\n",
       "      <th>salary</th>\n",
       "      <th>join_date</th>\n",
       "      <th>quit_date</th>\n",
       "    </tr>\n",
       "  </thead>\n",
       "  <tbody>\n",
       "    <tr>\n",
       "      <th>0</th>\n",
       "      <td>13021.0</td>\n",
       "      <td>7</td>\n",
       "      <td>customer_service</td>\n",
       "      <td>28</td>\n",
       "      <td>89000.0</td>\n",
       "      <td>2014-03-24</td>\n",
       "      <td>2015-10-30</td>\n",
       "    </tr>\n",
       "    <tr>\n",
       "      <th>1</th>\n",
       "      <td>825355.0</td>\n",
       "      <td>7</td>\n",
       "      <td>marketing</td>\n",
       "      <td>20</td>\n",
       "      <td>183000.0</td>\n",
       "      <td>2013-04-29</td>\n",
       "      <td>2014-04-04</td>\n",
       "    </tr>\n",
       "    <tr>\n",
       "      <th>2</th>\n",
       "      <td>927315.0</td>\n",
       "      <td>4</td>\n",
       "      <td>marketing</td>\n",
       "      <td>14</td>\n",
       "      <td>101000.0</td>\n",
       "      <td>2014-10-13</td>\n",
       "      <td>NaN</td>\n",
       "    </tr>\n",
       "    <tr>\n",
       "      <th>3</th>\n",
       "      <td>662910.0</td>\n",
       "      <td>7</td>\n",
       "      <td>customer_service</td>\n",
       "      <td>20</td>\n",
       "      <td>115000.0</td>\n",
       "      <td>2012-05-14</td>\n",
       "      <td>2013-06-07</td>\n",
       "    </tr>\n",
       "    <tr>\n",
       "      <th>4</th>\n",
       "      <td>256971.0</td>\n",
       "      <td>2</td>\n",
       "      <td>data_science</td>\n",
       "      <td>23</td>\n",
       "      <td>276000.0</td>\n",
       "      <td>2011-10-17</td>\n",
       "      <td>2014-08-22</td>\n",
       "    </tr>\n",
       "  </tbody>\n",
       "</table>\n",
       "</div>"
      ],
      "text/plain": [
       "   employee_id  company_id              dept  seniority    salary   join_date  \\\n",
       "0      13021.0           7  customer_service         28   89000.0  2014-03-24   \n",
       "1     825355.0           7         marketing         20  183000.0  2013-04-29   \n",
       "2     927315.0           4         marketing         14  101000.0  2014-10-13   \n",
       "3     662910.0           7  customer_service         20  115000.0  2012-05-14   \n",
       "4     256971.0           2      data_science         23  276000.0  2011-10-17   \n",
       "\n",
       "    quit_date  \n",
       "0  2015-10-30  \n",
       "1  2014-04-04  \n",
       "2         NaN  \n",
       "3  2013-06-07  \n",
       "4  2014-08-22  "
      ]
     },
     "execution_count": 2,
     "metadata": {},
     "output_type": "execute_result"
    }
   ],
   "source": [
    "data=pd.read_csv('C:/Users/xiaoj/Desktop/CS/collection of data science-take home challenges/Data/3. employee_retention.csv')\n",
    "data.head()"
   ]
  },
  {
   "cell_type": "code",
   "execution_count": 3,
   "metadata": {},
   "outputs": [
    {
     "name": "stdout",
     "output_type": "stream",
     "text": [
      "<class 'pandas.core.frame.DataFrame'>\n",
      "RangeIndex: 24702 entries, 0 to 24701\n",
      "Data columns (total 7 columns):\n",
      " #   Column       Non-Null Count  Dtype  \n",
      "---  ------       --------------  -----  \n",
      " 0   employee_id  24702 non-null  float64\n",
      " 1   company_id   24702 non-null  int64  \n",
      " 2   dept         24702 non-null  object \n",
      " 3   seniority    24702 non-null  int64  \n",
      " 4   salary       24702 non-null  float64\n",
      " 5   join_date    24702 non-null  object \n",
      " 6   quit_date    13510 non-null  object \n",
      "dtypes: float64(2), int64(2), object(3)\n",
      "memory usage: 1.3+ MB\n"
     ]
    }
   ],
   "source": [
    "data.info()"
   ]
  },
  {
   "cell_type": "code",
   "execution_count": 4,
   "metadata": {},
   "outputs": [],
   "source": [
    "# transfer join_date and quit_date to datetime\n",
    "data['join_date'] = pd.to_datetime(data['join_date'])\n",
    "data['quit_date'] = pd.to_datetime(data['quit_date'])           "
   ]
  },
  {
   "cell_type": "code",
   "execution_count": 5,
   "metadata": {},
   "outputs": [
    {
     "name": "stdout",
     "output_type": "stream",
     "text": [
      "company_id:  12\n",
      "dept:        6\n"
     ]
    }
   ],
   "source": [
    "# Check the unique numbers of some columns\n",
    "print('company_id: ', data['company_id'].nunique())\n",
    "print('dept:       ', data['dept'].nunique())"
   ]
  },
  {
   "cell_type": "code",
   "execution_count": 6,
   "metadata": {},
   "outputs": [
    {
     "data": {
      "text/plain": [
       "employee_id        0\n",
       "company_id         0\n",
       "dept               0\n",
       "seniority          0\n",
       "salary             0\n",
       "join_date          0\n",
       "quit_date      11192\n",
       "dtype: int64"
      ]
     },
     "execution_count": 6,
     "metadata": {},
     "output_type": "execute_result"
    }
   ],
   "source": [
    "# Check the Null values in dataset\n",
    "data.isnull().sum()"
   ]
  },
  {
   "cell_type": "code",
   "execution_count": 7,
   "metadata": {},
   "outputs": [
    {
     "data": {
      "text/html": [
       "<div>\n",
       "<style scoped>\n",
       "    .dataframe tbody tr th:only-of-type {\n",
       "        vertical-align: middle;\n",
       "    }\n",
       "\n",
       "    .dataframe tbody tr th {\n",
       "        vertical-align: top;\n",
       "    }\n",
       "\n",
       "    .dataframe thead th {\n",
       "        text-align: right;\n",
       "    }\n",
       "</style>\n",
       "<table border=\"1\" class=\"dataframe\">\n",
       "  <thead>\n",
       "    <tr style=\"text-align: right;\">\n",
       "      <th></th>\n",
       "      <th>employee_id</th>\n",
       "      <th>company_id</th>\n",
       "      <th>seniority</th>\n",
       "      <th>salary</th>\n",
       "    </tr>\n",
       "  </thead>\n",
       "  <tbody>\n",
       "    <tr>\n",
       "      <th>count</th>\n",
       "      <td>24702.000000</td>\n",
       "      <td>24702.000000</td>\n",
       "      <td>24702.000000</td>\n",
       "      <td>24702.000000</td>\n",
       "    </tr>\n",
       "    <tr>\n",
       "      <th>mean</th>\n",
       "      <td>501604.403530</td>\n",
       "      <td>3.426969</td>\n",
       "      <td>14.127803</td>\n",
       "      <td>138183.345478</td>\n",
       "    </tr>\n",
       "    <tr>\n",
       "      <th>std</th>\n",
       "      <td>288909.026101</td>\n",
       "      <td>2.700011</td>\n",
       "      <td>8.089520</td>\n",
       "      <td>76058.184573</td>\n",
       "    </tr>\n",
       "    <tr>\n",
       "      <th>min</th>\n",
       "      <td>36.000000</td>\n",
       "      <td>1.000000</td>\n",
       "      <td>1.000000</td>\n",
       "      <td>17000.000000</td>\n",
       "    </tr>\n",
       "    <tr>\n",
       "      <th>25%</th>\n",
       "      <td>250133.750000</td>\n",
       "      <td>1.000000</td>\n",
       "      <td>7.000000</td>\n",
       "      <td>79000.000000</td>\n",
       "    </tr>\n",
       "    <tr>\n",
       "      <th>50%</th>\n",
       "      <td>500793.000000</td>\n",
       "      <td>2.000000</td>\n",
       "      <td>14.000000</td>\n",
       "      <td>123000.000000</td>\n",
       "    </tr>\n",
       "    <tr>\n",
       "      <th>75%</th>\n",
       "      <td>753137.250000</td>\n",
       "      <td>5.000000</td>\n",
       "      <td>21.000000</td>\n",
       "      <td>187000.000000</td>\n",
       "    </tr>\n",
       "    <tr>\n",
       "      <th>max</th>\n",
       "      <td>999969.000000</td>\n",
       "      <td>12.000000</td>\n",
       "      <td>99.000000</td>\n",
       "      <td>408000.000000</td>\n",
       "    </tr>\n",
       "  </tbody>\n",
       "</table>\n",
       "</div>"
      ],
      "text/plain": [
       "         employee_id    company_id     seniority         salary\n",
       "count   24702.000000  24702.000000  24702.000000   24702.000000\n",
       "mean   501604.403530      3.426969     14.127803  138183.345478\n",
       "std    288909.026101      2.700011      8.089520   76058.184573\n",
       "min        36.000000      1.000000      1.000000   17000.000000\n",
       "25%    250133.750000      1.000000      7.000000   79000.000000\n",
       "50%    500793.000000      2.000000     14.000000  123000.000000\n",
       "75%    753137.250000      5.000000     21.000000  187000.000000\n",
       "max    999969.000000     12.000000     99.000000  408000.000000"
      ]
     },
     "execution_count": 7,
     "metadata": {},
     "output_type": "execute_result"
    }
   ],
   "source": [
    "data.describe()"
   ]
  },
  {
   "cell_type": "code",
   "execution_count": 8,
   "metadata": {},
   "outputs": [],
   "source": [
    "# Since seniority denote the number of yeas of work experience when hired, so the max is abnormal\n",
    "# remove outliers\n",
    "data = data[data['seniority']<=40]"
   ]
  },
  {
   "cell_type": "markdown",
   "metadata": {},
   "source": [
    "<a id='createheadcounttable'></a>\n",
    "## Create HeadCount Table"
   ]
  },
  {
   "cell_type": "code",
   "execution_count": 9,
   "metadata": {},
   "outputs": [
    {
     "data": {
      "text/html": [
       "<div>\n",
       "<style scoped>\n",
       "    .dataframe tbody tr th:only-of-type {\n",
       "        vertical-align: middle;\n",
       "    }\n",
       "\n",
       "    .dataframe tbody tr th {\n",
       "        vertical-align: top;\n",
       "    }\n",
       "\n",
       "    .dataframe thead th {\n",
       "        text-align: right;\n",
       "    }\n",
       "</style>\n",
       "<table border=\"1\" class=\"dataframe\">\n",
       "  <thead>\n",
       "    <tr style=\"text-align: right;\">\n",
       "      <th></th>\n",
       "      <th>Day</th>\n",
       "      <th>Company ID</th>\n",
       "      <th>Employee Headcount</th>\n",
       "    </tr>\n",
       "  </thead>\n",
       "  <tbody>\n",
       "    <tr>\n",
       "      <th>0</th>\n",
       "      <td>2011-01-24</td>\n",
       "      <td>7</td>\n",
       "      <td>350664.0</td>\n",
       "    </tr>\n",
       "    <tr>\n",
       "      <th>1</th>\n",
       "      <td>2011-01-24</td>\n",
       "      <td>4</td>\n",
       "      <td>6288524.0</td>\n",
       "    </tr>\n",
       "    <tr>\n",
       "      <th>2</th>\n",
       "      <td>2011-01-24</td>\n",
       "      <td>2</td>\n",
       "      <td>7538709.0</td>\n",
       "    </tr>\n",
       "    <tr>\n",
       "      <th>3</th>\n",
       "      <td>2011-01-24</td>\n",
       "      <td>9</td>\n",
       "      <td>1718984.0</td>\n",
       "    </tr>\n",
       "    <tr>\n",
       "      <th>4</th>\n",
       "      <td>2011-01-24</td>\n",
       "      <td>1</td>\n",
       "      <td>12874805.0</td>\n",
       "    </tr>\n",
       "  </tbody>\n",
       "</table>\n",
       "</div>"
      ],
      "text/plain": [
       "         Day  Company ID  Employee Headcount\n",
       "0 2011-01-24           7            350664.0\n",
       "1 2011-01-24           4           6288524.0\n",
       "2 2011-01-24           2           7538709.0\n",
       "3 2011-01-24           9           1718984.0\n",
       "4 2011-01-24           1          12874805.0"
      ]
     },
     "execution_count": 9,
     "metadata": {},
     "output_type": "execute_result"
    }
   ],
   "source": [
    "# create a new table including day,company_id,employee_headcount\n",
    "date = pd.date_range(start='2011-01-24', end='2015-12-13', freq='D')\n",
    "company = data['company_id'].unique()\n",
    "\n",
    "day = []\n",
    "companyid = []\n",
    "headcount = []\n",
    "\n",
    "for date in date:\n",
    "    for id in company:\n",
    "        quit = data[(data['quit_date'] <=date)&(data['company_id'] == id)]['employee_id'].sum()\n",
    "        join = data[(data['join_date'] <=date)&(data['company_id'] == id)]['employee_id'].sum()                                         \n",
    "        day.append(date)                                                  \n",
    "        companyid.append(id)                                                  \n",
    "        headcount.append(join-quit)\n",
    "\n",
    "HeadCount = pd.DataFrame()\n",
    "HeadCount['Day'],HeadCount['Company ID'],HeadCount['Employee Headcount'] = day,companyid,headcount\n",
    "HeadCount.head()       "
   ]
  },
  {
   "cell_type": "markdown",
   "metadata": {},
   "source": [
    "<a id='employeechurnanalysis'></a>\n",
    "## Employee Churn Analysis"
   ]
  },
  {
   "cell_type": "code",
   "execution_count": 10,
   "metadata": {},
   "outputs": [],
   "source": [
    "# Get the empolyee quit and stay data \n",
    "quit = data[data['quit_date'].notnull()]\n",
    "stay = data[data['quit_date'].isnull()]"
   ]
  },
  {
   "cell_type": "code",
   "execution_count": 11,
   "metadata": {},
   "outputs": [
    {
     "data": {
      "text/plain": [
       "Text(0.5, 0, 'Total Working Years')"
      ]
     },
     "execution_count": 11,
     "metadata": {},
     "output_type": "execute_result"
    },
    {
     "data": {
      "image/png": "[encoded data removed]",
      "text/plain": [
       "<Figure size 720x288 with 1 Axes>"
      ]
     },
     "metadata": {
      "needs_background": "light"
     },
     "output_type": "display_data"
    }
   ],
   "source": [
    "# Check the total working years and distribution\n",
    "total_working_years = (quit['quit_date']-quit['join_date']).apply(lambda x:x.days/365)\n",
    "plt.figure(figsize=(10,4))\n",
    "sns.distplot(total_working_years,bins=100)\n",
    "plt.title('Histogram of Total Working Years',fontsize=18)\n",
    "plt.xlabel('Total Working Years',fontsize=14)"
   ]
  },
  {
   "cell_type": "code",
   "execution_count": 12,
   "metadata": {},
   "outputs": [
    {
     "data": {
      "text/plain": [
       "Text(0, 0.5, 'Count')"
      ]
     },
     "execution_count": 12,
     "metadata": {},
     "output_type": "execute_result"
    },
    {
     "data": {
      "image/png": "[encoded data removed]",
      "text/plain": [
       "<Figure size 720x216 with 1 Axes>"
      ]
     },
     "metadata": {
      "needs_background": "light"
     },
     "output_type": "display_data"
    }
   ],
   "source": [
    "# Check the Week Number of Empolyee Quiting\n",
    "quit_month = quit['quit_date'].apply(lambda x:x.month)\n",
    "plt.figure(figsize=(10,3))\n",
    "sns.countplot(quit_month)\n",
    "plt.title('Counts of Quitting Empolyees in Every Month',fontsize=14)\n",
    "plt.xlabel('Month')\n",
    "plt.ylabel('Count')"
   ]
  },
  {
   "cell_type": "code",
   "execution_count": 13,
   "metadata": {},
   "outputs": [
    {
     "data": {
      "text/plain": [
       "Text(0, 0.5, 'Quit Rate')"
      ]
     },
     "execution_count": 13,
     "metadata": {},
     "output_type": "execute_result"
    },
    {
     "data": {
      "image/png": "[encoded data removed]",
      "text/plain": [
       "<Figure size 1008x360 with 2 Axes>"
      ]
     },
     "metadata": {
      "needs_background": "light"
     },
     "output_type": "display_data"
    }
   ],
   "source": [
    "# Check the relationship between quit-numbers and headcount in different company\n",
    "HeadCount_company = HeadCount[HeadCount['Day']=='2015-12-13'].sort_values('Company ID').set_index('Company ID')['Employee Headcount']\n",
    "quit_company = quit.groupby('company_id')['employee_id'].count()\n",
    "\n",
    "fig,ax=plt.subplots(1,2,figsize=(14,5))\n",
    "ax[0].plot(quit_company,marker='o')\n",
    "ax[0].set_title('Company Vs Quit',fontsize=14)\n",
    "ax[0].set_xlabel('Company ID')\n",
    "ax[0].set_ylabel('Counts of Employee Quitting')\n",
    "   \n",
    "ax[1].plot(quit_company/HeadCount_company,marker='o')\n",
    "ax[1].set_title('Mean Company Quit Rate Vs Quit',fontsize=14)\n",
    "ax[1].set_xlabel('Company ID')\n",
    "ax[1].set_ylabel('Quit Rate')"
   ]
  },
  {
   "cell_type": "code",
   "execution_count": 15,
   "metadata": {},
   "outputs": [
    {
     "data": {
      "text/plain": [
       "company_id\n",
       "1     4620\n",
       "2     2206\n",
       "3     1531\n",
       "4     1153\n",
       "5      983\n",
       "6      712\n",
       "7      692\n",
       "8      579\n",
       "9      529\n",
       "10     479\n",
       "11      12\n",
       "12      12\n",
       "Name: employee_id, dtype: int64"
      ]
     },
     "execution_count": 15,
     "metadata": {},
     "output_type": "execute_result"
    }
   ],
   "source": [
    "quit_company = quit.groupby('company_id',as_index=True)['employee_id'].count()\n",
    "quit_company"
   ]
  },
  {
   "cell_type": "code",
   "execution_count": 16,
   "metadata": {},
   "outputs": [
    {
     "data": {
      "text/plain": [
       "company_id\n",
       "1     4620\n",
       "2     2206\n",
       "3     1531\n",
       "4     1153\n",
       "5      983\n",
       "6      712\n",
       "7      692\n",
       "8      579\n",
       "9      529\n",
       "10     479\n",
       "11      12\n",
       "12      12\n",
       "Name: employee_id, dtype: int64"
      ]
     },
     "execution_count": 16,
     "metadata": {},
     "output_type": "execute_result"
    }
   ],
   "source": [
    "quit.groupby('company_id')['employee_id'].count()"
   ]
  },
  {
   "cell_type": "code",
   "execution_count": 22,
   "metadata": {},
   "outputs": [
    {
     "data": {
      "text/plain": [
       "[<matplotlib.lines.Line2D at 0x27631d29700>]"
      ]
     },
     "execution_count": 22,
     "metadata": {},
     "output_type": "execute_result"
    },
    {
     "data": {
      "image/png": "[encoded data removed]",
      "text/plain": [
       "<Figure size 1008x360 with 2 Axes>"
      ]
     },
     "metadata": {
      "needs_background": "light"
     },
     "output_type": "display_data"
    }
   ],
   "source": [
    "# Check the department Vs quit\n",
    "final_data = pd.merge(data,HeadCount,how='left',left_on='company_id',right_on='Company ID')\n",
    "final_data_dept = final_data[final_data['Day']=='2015-12-13'].groupby('dept').sum()['Employee Headcount']\n",
    "quit_dept = quit.groupby('dept')['employee_id'].count()\n",
    "\n",
    "fig,ax=plt.subplots(1,2,figsize=(14,5))\n",
    "ax[0].plot(quit_dept,marker='o')\n",
    "ax[0].set_title('Department vs Quit',fontsize=14)\n",
    "ax[0].set_xlabel('Department',fontsize=12)\n",
    "ax[0].set_ylabel('Counts of Employee Quitting',fontsize=12)\n",
    "ax[0].set_xticklabels(quit['dept'].unique(), rotation=45, fontsize=10)\n",
    "\n",
    "\n",
    "ax[1].set_title('Mean Department Quit Rate vs Quit',fontsize=14)\n",
    "ax[1].set_xlabel('Department',fontsize=12)\n",
    "ax[1].set_ylabel('Quit Rate',fontsize=12)\n",
    "ax[1].set_xticklabels(quit['dept'].unique(),rotation=45, fontsize=10)\n",
    "ax[1].plot(quit_dept/final_data_dept,marker='o')"
   ]
  },
  {
   "cell_type": "code",
   "execution_count": 23,
   "metadata": {},
   "outputs": [
    {
     "data": {
      "text/plain": [
       "<matplotlib.axes._subplots.AxesSubplot at 0x27631bd92b0>"
      ]
     },
     "execution_count": 23,
     "metadata": {},
     "output_type": "execute_result"
    },
    {
     "data": {
      "image/png": "[encoded data removed]",
      "text/plain": [
       "<Figure size 432x288 with 1 Axes>"
      ]
     },
     "metadata": {
      "needs_background": "light"
     },
     "output_type": "display_data"
    }
   ],
   "source": [
    "# Check relationship between 'Seniority' and Quit\n",
    "sns.distplot(quit['seniority'],kde=False,bins=100)"
   ]
  },
  {
   "cell_type": "code",
   "execution_count": 24,
   "metadata": {},
   "outputs": [
    {
     "data": {
      "text/plain": [
       "<matplotlib.axes._subplots.AxesSubplot at 0x27631effee0>"
      ]
     },
     "execution_count": 24,
     "metadata": {},
     "output_type": "execute_result"
    },
    {
     "data": {
      "image/png": "[encoded data removed]",
      "text/plain": [
       "<Figure size 432x288 with 1 Axes>"
      ]
     },
     "metadata": {
      "needs_background": "light"
     },
     "output_type": "display_data"
    }
   ],
   "source": [
    "# Check relationship between 'Salary' and Quit\n",
    "sns.distplot(quit['salary'],bins=100)"
   ]
  },
  {
   "cell_type": "markdown",
   "metadata": {},
   "source": [
    "<a id='machinelearning'></a>\n",
    "## Machine Learning"
   ]
  },
  {
   "cell_type": "markdown",
   "metadata": {},
   "source": [
    "Here machine learning is not used to predict but mainly used as a descriptive stat tool"
   ]
  },
  {
   "cell_type": "code",
   "execution_count": 111,
   "metadata": {},
   "outputs": [
    {
     "name": "stdout",
     "output_type": "stream",
     "text": [
      "<class 'pandas.core.frame.DataFrame'>\n",
      "Int64Index: 19447 entries, 0 to 24699\n",
      "Data columns (total 7 columns):\n",
      " #   Column       Non-Null Count  Dtype         \n",
      "---  ------       --------------  -----         \n",
      " 0   employee_id  19447 non-null  float64       \n",
      " 1   company_id   19447 non-null  int64         \n",
      " 2   dept         19447 non-null  object        \n",
      " 3   seniority    19447 non-null  int64         \n",
      " 4   salary       19447 non-null  float64       \n",
      " 5   join_date    19447 non-null  datetime64[ns]\n",
      " 6   quit_date    13508 non-null  datetime64[ns]\n",
      "dtypes: datetime64[ns](2), float64(2), int64(2), object(1)\n",
      "memory usage: 1.2+ MB\n"
     ]
    }
   ],
   "source": [
    "#remove those who still stay in the current company but less than 13 months\n",
    "# 1.calculate date point at which employee stay in current company less than 13 months\n",
    "cut_off = pd.to_datetime('2015-12-13')-pd.DateOffset(days=365+31)\n",
    "\n",
    "# 2. get the dataset which only includes empolyee who work in the current company for less than 13 months\n",
    "not_quit = data[data['quit_date'].isnull()==True]\n",
    "subset0 = not_quit[not_quit['join_date']>=cut_off]\n",
    "\n",
    "# 3. remove the employee who work in current company for less than 13 months\n",
    "subset=pd.concat([data,subset0]).drop_duplicates(keep=False)\n",
    "subset.info()"
   ]
  },
  {
   "cell_type": "code",
   "execution_count": 114,
   "metadata": {},
   "outputs": [],
   "source": [
    "# Buit a new column 'quit<=13m' which indicate those who work in a company less than or equal 13 months and quit.\n",
    "subset['quit<=13m'] = subset['quit_date']<=subset['join_date']+pd.DateOffset(396)\n",
    "subset['quit<=13m'] = subset['quit<=13m'].astype('int')"
   ]
  },
  {
   "cell_type": "code",
   "execution_count": 115,
   "metadata": {},
   "outputs": [
    {
     "data": {
      "text/html": [
       "<div>\n",
       "<style scoped>\n",
       "    .dataframe tbody tr th:only-of-type {\n",
       "        vertical-align: middle;\n",
       "    }\n",
       "\n",
       "    .dataframe tbody tr th {\n",
       "        vertical-align: top;\n",
       "    }\n",
       "\n",
       "    .dataframe thead th {\n",
       "        text-align: right;\n",
       "    }\n",
       "</style>\n",
       "<table border=\"1\" class=\"dataframe\">\n",
       "  <thead>\n",
       "    <tr style=\"text-align: right;\">\n",
       "      <th></th>\n",
       "      <th>company_id</th>\n",
       "      <th>seniority</th>\n",
       "      <th>salary</th>\n",
       "      <th>customer_service</th>\n",
       "      <th>data_science</th>\n",
       "      <th>design</th>\n",
       "      <th>engineer</th>\n",
       "      <th>marketing</th>\n",
       "      <th>sales</th>\n",
       "    </tr>\n",
       "  </thead>\n",
       "  <tbody>\n",
       "    <tr>\n",
       "      <th>0</th>\n",
       "      <td>7</td>\n",
       "      <td>28</td>\n",
       "      <td>89000.0</td>\n",
       "      <td>1</td>\n",
       "      <td>0</td>\n",
       "      <td>0</td>\n",
       "      <td>0</td>\n",
       "      <td>0</td>\n",
       "      <td>0</td>\n",
       "    </tr>\n",
       "    <tr>\n",
       "      <th>1</th>\n",
       "      <td>7</td>\n",
       "      <td>20</td>\n",
       "      <td>183000.0</td>\n",
       "      <td>0</td>\n",
       "      <td>0</td>\n",
       "      <td>0</td>\n",
       "      <td>0</td>\n",
       "      <td>1</td>\n",
       "      <td>0</td>\n",
       "    </tr>\n",
       "    <tr>\n",
       "      <th>2</th>\n",
       "      <td>4</td>\n",
       "      <td>14</td>\n",
       "      <td>101000.0</td>\n",
       "      <td>0</td>\n",
       "      <td>0</td>\n",
       "      <td>0</td>\n",
       "      <td>0</td>\n",
       "      <td>1</td>\n",
       "      <td>0</td>\n",
       "    </tr>\n",
       "    <tr>\n",
       "      <th>3</th>\n",
       "      <td>7</td>\n",
       "      <td>20</td>\n",
       "      <td>115000.0</td>\n",
       "      <td>1</td>\n",
       "      <td>0</td>\n",
       "      <td>0</td>\n",
       "      <td>0</td>\n",
       "      <td>0</td>\n",
       "      <td>0</td>\n",
       "    </tr>\n",
       "    <tr>\n",
       "      <th>4</th>\n",
       "      <td>2</td>\n",
       "      <td>23</td>\n",
       "      <td>276000.0</td>\n",
       "      <td>0</td>\n",
       "      <td>1</td>\n",
       "      <td>0</td>\n",
       "      <td>0</td>\n",
       "      <td>0</td>\n",
       "      <td>0</td>\n",
       "    </tr>\n",
       "    <tr>\n",
       "      <th>...</th>\n",
       "      <td>...</td>\n",
       "      <td>...</td>\n",
       "      <td>...</td>\n",
       "      <td>...</td>\n",
       "      <td>...</td>\n",
       "      <td>...</td>\n",
       "      <td>...</td>\n",
       "      <td>...</td>\n",
       "      <td>...</td>\n",
       "    </tr>\n",
       "    <tr>\n",
       "      <th>24692</th>\n",
       "      <td>1</td>\n",
       "      <td>28</td>\n",
       "      <td>249000.0</td>\n",
       "      <td>0</td>\n",
       "      <td>1</td>\n",
       "      <td>0</td>\n",
       "      <td>0</td>\n",
       "      <td>0</td>\n",
       "      <td>0</td>\n",
       "    </tr>\n",
       "    <tr>\n",
       "      <th>24693</th>\n",
       "      <td>9</td>\n",
       "      <td>10</td>\n",
       "      <td>173000.0</td>\n",
       "      <td>0</td>\n",
       "      <td>1</td>\n",
       "      <td>0</td>\n",
       "      <td>0</td>\n",
       "      <td>0</td>\n",
       "      <td>0</td>\n",
       "    </tr>\n",
       "    <tr>\n",
       "      <th>24695</th>\n",
       "      <td>1</td>\n",
       "      <td>5</td>\n",
       "      <td>172000.0</td>\n",
       "      <td>0</td>\n",
       "      <td>1</td>\n",
       "      <td>0</td>\n",
       "      <td>0</td>\n",
       "      <td>0</td>\n",
       "      <td>0</td>\n",
       "    </tr>\n",
       "    <tr>\n",
       "      <th>24696</th>\n",
       "      <td>6</td>\n",
       "      <td>7</td>\n",
       "      <td>88000.0</td>\n",
       "      <td>0</td>\n",
       "      <td>0</td>\n",
       "      <td>0</td>\n",
       "      <td>0</td>\n",
       "      <td>1</td>\n",
       "      <td>0</td>\n",
       "    </tr>\n",
       "    <tr>\n",
       "      <th>24699</th>\n",
       "      <td>4</td>\n",
       "      <td>11</td>\n",
       "      <td>67000.0</td>\n",
       "      <td>1</td>\n",
       "      <td>0</td>\n",
       "      <td>0</td>\n",
       "      <td>0</td>\n",
       "      <td>0</td>\n",
       "      <td>0</td>\n",
       "    </tr>\n",
       "  </tbody>\n",
       "</table>\n",
       "<p>19447 rows × 9 columns</p>\n",
       "</div>"
      ],
      "text/plain": [
       "       company_id  seniority    salary  customer_service  data_science  \\\n",
       "0               7         28   89000.0                 1             0   \n",
       "1               7         20  183000.0                 0             0   \n",
       "2               4         14  101000.0                 0             0   \n",
       "3               7         20  115000.0                 1             0   \n",
       "4               2         23  276000.0                 0             1   \n",
       "...           ...        ...       ...               ...           ...   \n",
       "24692           1         28  249000.0                 0             1   \n",
       "24693           9         10  173000.0                 0             1   \n",
       "24695           1          5  172000.0                 0             1   \n",
       "24696           6          7   88000.0                 0             0   \n",
       "24699           4         11   67000.0                 1             0   \n",
       "\n",
       "       design  engineer  marketing  sales  \n",
       "0           0         0          0      0  \n",
       "1           0         0          1      0  \n",
       "2           0         0          1      0  \n",
       "3           0         0          0      0  \n",
       "4           0         0          0      0  \n",
       "...       ...       ...        ...    ...  \n",
       "24692       0         0          0      0  \n",
       "24693       0         0          0      0  \n",
       "24695       0         0          0      0  \n",
       "24696       0         0          1      0  \n",
       "24699       0         0          0      0  \n",
       "\n",
       "[19447 rows x 9 columns]"
      ]
     },
     "execution_count": 115,
     "metadata": {},
     "output_type": "execute_result"
    }
   ],
   "source": [
    "# dept_dummies = pd.get_dummies(subset['dept'])\n",
    "# pd.concat([subset[['company_id','seniority','salary']],dept_dummies],axis=1)"
   ]
  },
  {
   "cell_type": "code",
   "execution_count": 67,
   "metadata": {},
   "outputs": [
    {
     "data": {
      "text/html": [
       "<div>\n",
       "<style scoped>\n",
       "    .dataframe tbody tr th:only-of-type {\n",
       "        vertical-align: middle;\n",
       "    }\n",
       "\n",
       "    .dataframe tbody tr th {\n",
       "        vertical-align: top;\n",
       "    }\n",
       "\n",
       "    .dataframe thead th {\n",
       "        text-align: right;\n",
       "    }\n",
       "</style>\n",
       "<table border=\"1\" class=\"dataframe\">\n",
       "  <thead>\n",
       "    <tr style=\"text-align: right;\">\n",
       "      <th></th>\n",
       "      <th>company_id</th>\n",
       "      <th>seniority</th>\n",
       "      <th>salary</th>\n",
       "      <th>dept</th>\n",
       "    </tr>\n",
       "  </thead>\n",
       "  <tbody>\n",
       "    <tr>\n",
       "      <th>0</th>\n",
       "      <td>7</td>\n",
       "      <td>28</td>\n",
       "      <td>89000.0</td>\n",
       "      <td>0</td>\n",
       "    </tr>\n",
       "    <tr>\n",
       "      <th>1</th>\n",
       "      <td>7</td>\n",
       "      <td>20</td>\n",
       "      <td>183000.0</td>\n",
       "      <td>4</td>\n",
       "    </tr>\n",
       "    <tr>\n",
       "      <th>2</th>\n",
       "      <td>4</td>\n",
       "      <td>14</td>\n",
       "      <td>101000.0</td>\n",
       "      <td>4</td>\n",
       "    </tr>\n",
       "    <tr>\n",
       "      <th>3</th>\n",
       "      <td>7</td>\n",
       "      <td>20</td>\n",
       "      <td>115000.0</td>\n",
       "      <td>0</td>\n",
       "    </tr>\n",
       "    <tr>\n",
       "      <th>4</th>\n",
       "      <td>2</td>\n",
       "      <td>23</td>\n",
       "      <td>276000.0</td>\n",
       "      <td>1</td>\n",
       "    </tr>\n",
       "  </tbody>\n",
       "</table>\n",
       "</div>"
      ],
      "text/plain": [
       "   company_id  seniority    salary  dept\n",
       "0           7         28   89000.0     0\n",
       "1           7         20  183000.0     4\n",
       "2           4         14  101000.0     4\n",
       "3           7         20  115000.0     0\n",
       "4           2         23  276000.0     1"
      ]
     },
     "execution_count": 67,
     "metadata": {},
     "output_type": "execute_result"
    }
   ],
   "source": [
    "from sklearn.preprocessing import LabelEncoder\n",
    "le = LabelEncoder()\n",
    "x_train = subset[['company_id','seniority','salary']]\n",
    "x_train['dept'] = le.fit_transform(subset['dept'])\n",
    "y_train=subset['quit<=13m']"
   ]
  },
  {
   "cell_type": "code",
   "execution_count": 97,
   "metadata": {},
   "outputs": [],
   "source": [
    "# Buid decision tree\n",
    "from sklearn import tree\n",
    "from sklearn.tree import DecisionTreeClassifier\n",
    "clf = DecisionTreeClassifier(max_depth=3)\n",
    "clf = clf.fit(X=x_train, y=y_train)"
   ]
  },
  {
   "cell_type": "code",
   "execution_count": 98,
   "metadata": {
    "scrolled": false
   },
   "outputs": [
    {
     "data": {
      "image/svg+xml": [
       "<?xml version=\"1.0\" encoding=\"UTF-8\" standalone=\"no\"?>\r\n",
       "<!DOCTYPE svg PUBLIC \"-//W3C//DTD SVG 1.1//EN\"\r\n",
       " \"http://www.w3.org/Graphics/SVG/1.1/DTD/svg11.dtd\">\r\n",
       "<!-- Generated by graphviz version 2.38.0 (20140413.2041)\r\n",
       " -->\r\n",
       "<!-- Title: Tree Pages: 1 -->\r\n",
       "<svg width=\"1112pt\" height=\"433pt\"\r\n",
       " viewBox=\"0.00 0.00 1112.00 433.00\" xmlns=\"http://www.w3.org/2000/svg\" xmlns:xlink=\"http://www.w3.org/1999/xlink\">\r\n",
       "<g id=\"graph0\" class=\"graph\" transform=\"scale(1 1) rotate(0) translate(4 429)\">\r\n",
       "<title>Tree</title>\r\n",
       "<polygon fill=\"white\" stroke=\"none\" points=\"-4,4 -4,-429 1108,-429 1108,4 -4,4\"/>\r\n",
       "<!-- 0 -->\r\n",
       "<g id=\"node1\" class=\"node\"><title>0</title>\r\n",
       "<polygon fill=\"#f1b991\" stroke=\"black\" points=\"640.5,-425 502.5,-425 502.5,-342 640.5,-342 640.5,-425\"/>\r\n",
       "<text text-anchor=\"middle\" x=\"571.5\" y=\"-409.8\" font-family=\"Times New Roman,serif\" font-size=\"14.00\">salary &lt;= 224500.0</text>\r\n",
       "<text text-anchor=\"middle\" x=\"571.5\" y=\"-394.8\" font-family=\"Times New Roman,serif\" font-size=\"14.00\">gini = 0.425</text>\r\n",
       "<text text-anchor=\"middle\" x=\"571.5\" y=\"-379.8\" font-family=\"Times New Roman,serif\" font-size=\"14.00\">samples = 19447</text>\r\n",
       "<text text-anchor=\"middle\" x=\"571.5\" y=\"-364.8\" font-family=\"Times New Roman,serif\" font-size=\"14.00\">value = [13478, 5969]</text>\r\n",
       "<text text-anchor=\"middle\" x=\"571.5\" y=\"-349.8\" font-family=\"Times New Roman,serif\" font-size=\"14.00\">class = &gt;13m</text>\r\n",
       "</g>\r\n",
       "<!-- 1 -->\r\n",
       "<g id=\"node2\" class=\"node\"><title>1</title>\r\n",
       "<polygon fill=\"#f2be99\" stroke=\"black\" points=\"531.5,-306 393.5,-306 393.5,-223 531.5,-223 531.5,-306\"/>\r\n",
       "<text text-anchor=\"middle\" x=\"462.5\" y=\"-290.8\" font-family=\"Times New Roman,serif\" font-size=\"14.00\">salary &lt;= 75500.0</text>\r\n",
       "<text text-anchor=\"middle\" x=\"462.5\" y=\"-275.8\" font-family=\"Times New Roman,serif\" font-size=\"14.00\">gini = 0.44</text>\r\n",
       "<text text-anchor=\"middle\" x=\"462.5\" y=\"-260.8\" font-family=\"Times New Roman,serif\" font-size=\"14.00\">samples = 16672</text>\r\n",
       "<text text-anchor=\"middle\" x=\"462.5\" y=\"-245.8\" font-family=\"Times New Roman,serif\" font-size=\"14.00\">value = [11229, 5443]</text>\r\n",
       "<text text-anchor=\"middle\" x=\"462.5\" y=\"-230.8\" font-family=\"Times New Roman,serif\" font-size=\"14.00\">class = &gt;13m</text>\r\n",
       "</g>\r\n",
       "<!-- 0&#45;&gt;1 -->\r\n",
       "<g id=\"edge1\" class=\"edge\"><title>0&#45;&gt;1</title>\r\n",
       "<path fill=\"none\" stroke=\"black\" d=\"M533.683,-341.907C525.144,-332.742 516,-322.927 507.208,-313.489\"/>\r\n",
       "<polygon fill=\"black\" stroke=\"black\" points=\"509.628,-310.952 500.25,-306.021 504.506,-315.723 509.628,-310.952\"/>\r\n",
       "<text text-anchor=\"middle\" x=\"499.366\" y=\"-327.305\" font-family=\"Times New Roman,serif\" font-size=\"14.00\">True</text>\r\n",
       "</g>\r\n",
       "<!-- 8 -->\r\n",
       "<g id=\"node9\" class=\"node\"><title>8</title>\r\n",
       "<polygon fill=\"#eb9e67\" stroke=\"black\" points=\"744,-306 619,-306 619,-223 744,-223 744,-306\"/>\r\n",
       "<text text-anchor=\"middle\" x=\"681.5\" y=\"-290.8\" font-family=\"Times New Roman,serif\" font-size=\"14.00\">salary &lt;= 274500.0</text>\r\n",
       "<text text-anchor=\"middle\" x=\"681.5\" y=\"-275.8\" font-family=\"Times New Roman,serif\" font-size=\"14.00\">gini = 0.307</text>\r\n",
       "<text text-anchor=\"middle\" x=\"681.5\" y=\"-260.8\" font-family=\"Times New Roman,serif\" font-size=\"14.00\">samples = 2775</text>\r\n",
       "<text text-anchor=\"middle\" x=\"681.5\" y=\"-245.8\" font-family=\"Times New Roman,serif\" font-size=\"14.00\">value = [2249, 526]</text>\r\n",
       "<text text-anchor=\"middle\" x=\"681.5\" y=\"-230.8\" font-family=\"Times New Roman,serif\" font-size=\"14.00\">class = &gt;13m</text>\r\n",
       "</g>\r\n",
       "<!-- 0&#45;&gt;8 -->\r\n",
       "<g id=\"edge8\" class=\"edge\"><title>0&#45;&gt;8</title>\r\n",
       "<path fill=\"none\" stroke=\"black\" d=\"M609.664,-341.907C618.281,-332.742 627.509,-322.927 636.382,-313.489\"/>\r\n",
       "<polygon fill=\"black\" stroke=\"black\" points=\"639.104,-315.704 643.404,-306.021 634.004,-310.909 639.104,-315.704\"/>\r\n",
       "<text text-anchor=\"middle\" x=\"644.174\" y=\"-327.309\" font-family=\"Times New Roman,serif\" font-size=\"14.00\">False</text>\r\n",
       "</g>\r\n",
       "<!-- 2 -->\r\n",
       "<g id=\"node3\" class=\"node\"><title>2</title>\r\n",
       "<polygon fill=\"#efb286\" stroke=\"black\" points=\"271,-187 140,-187 140,-104 271,-104 271,-187\"/>\r\n",
       "<text text-anchor=\"middle\" x=\"205.5\" y=\"-171.8\" font-family=\"Times New Roman,serif\" font-size=\"14.00\">salary &lt;= 62500.0</text>\r\n",
       "<text text-anchor=\"middle\" x=\"205.5\" y=\"-156.8\" font-family=\"Times New Roman,serif\" font-size=\"14.00\">gini = 0.404</text>\r\n",
       "<text text-anchor=\"middle\" x=\"205.5\" y=\"-141.8\" font-family=\"Times New Roman,serif\" font-size=\"14.00\">samples = 4486</text>\r\n",
       "<text text-anchor=\"middle\" x=\"205.5\" y=\"-126.8\" font-family=\"Times New Roman,serif\" font-size=\"14.00\">value = [3225, 1261]</text>\r\n",
       "<text text-anchor=\"middle\" x=\"205.5\" y=\"-111.8\" font-family=\"Times New Roman,serif\" font-size=\"14.00\">class = &gt;13m</text>\r\n",
       "</g>\r\n",
       "<!-- 1&#45;&gt;2 -->\r\n",
       "<g id=\"edge2\" class=\"edge\"><title>1&#45;&gt;2</title>\r\n",
       "<path fill=\"none\" stroke=\"black\" d=\"M393.291,-231.992C358.489,-216.149 316.257,-196.922 280.663,-180.718\"/>\r\n",
       "<polygon fill=\"black\" stroke=\"black\" points=\"281.841,-177.409 271.29,-176.451 278.941,-183.78 281.841,-177.409\"/>\r\n",
       "</g>\r\n",
       "<!-- 5 -->\r\n",
       "<g id=\"node6\" class=\"node\"><title>5</title>\r\n",
       "<polygon fill=\"#f3c3a0\" stroke=\"black\" points=\"528,-187 397,-187 397,-104 528,-104 528,-187\"/>\r\n",
       "<text text-anchor=\"middle\" x=\"462.5\" y=\"-171.8\" font-family=\"Times New Roman,serif\" font-size=\"14.00\">salary &lt;= 169500.0</text>\r\n",
       "<text text-anchor=\"middle\" x=\"462.5\" y=\"-156.8\" font-family=\"Times New Roman,serif\" font-size=\"14.00\">gini = 0.451</text>\r\n",
       "<text text-anchor=\"middle\" x=\"462.5\" y=\"-141.8\" font-family=\"Times New Roman,serif\" font-size=\"14.00\">samples = 12186</text>\r\n",
       "<text text-anchor=\"middle\" x=\"462.5\" y=\"-126.8\" font-family=\"Times New Roman,serif\" font-size=\"14.00\">value = [8004, 4182]</text>\r\n",
       "<text text-anchor=\"middle\" x=\"462.5\" y=\"-111.8\" font-family=\"Times New Roman,serif\" font-size=\"14.00\">class = &gt;13m</text>\r\n",
       "</g>\r\n",
       "<!-- 1&#45;&gt;5 -->\r\n",
       "<g id=\"edge5\" class=\"edge\"><title>1&#45;&gt;5</title>\r\n",
       "<path fill=\"none\" stroke=\"black\" d=\"M462.5,-222.907C462.5,-214.649 462.5,-205.864 462.5,-197.302\"/>\r\n",
       "<polygon fill=\"black\" stroke=\"black\" points=\"466,-197.021 462.5,-187.021 459,-197.021 466,-197.021\"/>\r\n",
       "</g>\r\n",
       "<!-- 3 -->\r\n",
       "<g id=\"node4\" class=\"node\"><title>3</title>\r\n",
       "<polygon fill=\"#eeaf81\" stroke=\"black\" points=\"125,-68 0,-68 0,-0 125,-0 125,-68\"/>\r\n",
       "<text text-anchor=\"middle\" x=\"62.5\" y=\"-52.8\" font-family=\"Times New Roman,serif\" font-size=\"14.00\">gini = 0.391</text>\r\n",
       "<text text-anchor=\"middle\" x=\"62.5\" y=\"-37.8\" font-family=\"Times New Roman,serif\" font-size=\"14.00\">samples = 2913</text>\r\n",
       "<text text-anchor=\"middle\" x=\"62.5\" y=\"-22.8\" font-family=\"Times New Roman,serif\" font-size=\"14.00\">value = [2136, 777]</text>\r\n",
       "<text text-anchor=\"middle\" x=\"62.5\" y=\"-7.8\" font-family=\"Times New Roman,serif\" font-size=\"14.00\">class = &gt;13m</text>\r\n",
       "</g>\r\n",
       "<!-- 2&#45;&gt;3 -->\r\n",
       "<g id=\"edge3\" class=\"edge\"><title>2&#45;&gt;3</title>\r\n",
       "<path fill=\"none\" stroke=\"black\" d=\"M152.252,-103.726C139.745,-94.1494 126.44,-83.9611 114.011,-74.4438\"/>\r\n",
       "<polygon fill=\"black\" stroke=\"black\" points=\"116.055,-71.6004 105.987,-68.2996 111.799,-77.1582 116.055,-71.6004\"/>\r\n",
       "</g>\r\n",
       "<!-- 4 -->\r\n",
       "<g id=\"node5\" class=\"node\"><title>4</title>\r\n",
       "<polygon fill=\"#f1b991\" stroke=\"black\" points=\"268,-68 143,-68 143,-0 268,-0 268,-68\"/>\r\n",
       "<text text-anchor=\"middle\" x=\"205.5\" y=\"-52.8\" font-family=\"Times New Roman,serif\" font-size=\"14.00\">gini = 0.426</text>\r\n",
       "<text text-anchor=\"middle\" x=\"205.5\" y=\"-37.8\" font-family=\"Times New Roman,serif\" font-size=\"14.00\">samples = 1573</text>\r\n",
       "<text text-anchor=\"middle\" x=\"205.5\" y=\"-22.8\" font-family=\"Times New Roman,serif\" font-size=\"14.00\">value = [1089, 484]</text>\r\n",
       "<text text-anchor=\"middle\" x=\"205.5\" y=\"-7.8\" font-family=\"Times New Roman,serif\" font-size=\"14.00\">class = &gt;13m</text>\r\n",
       "</g>\r\n",
       "<!-- 2&#45;&gt;4 -->\r\n",
       "<g id=\"edge4\" class=\"edge\"><title>2&#45;&gt;4</title>\r\n",
       "<path fill=\"none\" stroke=\"black\" d=\"M205.5,-103.726C205.5,-95.5175 205.5,-86.8595 205.5,-78.56\"/>\r\n",
       "<polygon fill=\"black\" stroke=\"black\" points=\"209,-78.2996 205.5,-68.2996 202,-78.2996 209,-78.2996\"/>\r\n",
       "</g>\r\n",
       "<!-- 6 -->\r\n",
       "<g id=\"node7\" class=\"node\"><title>6</title>\r\n",
       "<polygon fill=\"#f3c6a5\" stroke=\"black\" points=\"417,-68 286,-68 286,-0 417,-0 417,-68\"/>\r\n",
       "<text text-anchor=\"middle\" x=\"351.5\" y=\"-52.8\" font-family=\"Times New Roman,serif\" font-size=\"14.00\">gini = 0.457</text>\r\n",
       "<text text-anchor=\"middle\" x=\"351.5\" y=\"-37.8\" font-family=\"Times New Roman,serif\" font-size=\"14.00\">samples = 8896</text>\r\n",
       "<text text-anchor=\"middle\" x=\"351.5\" y=\"-22.8\" font-family=\"Times New Roman,serif\" font-size=\"14.00\">value = [5753, 3143]</text>\r\n",
       "<text text-anchor=\"middle\" x=\"351.5\" y=\"-7.8\" font-family=\"Times New Roman,serif\" font-size=\"14.00\">class = &gt;13m</text>\r\n",
       "</g>\r\n",
       "<!-- 5&#45;&gt;6 -->\r\n",
       "<g id=\"edge6\" class=\"edge\"><title>5&#45;&gt;6</title>\r\n",
       "<path fill=\"none\" stroke=\"black\" d=\"M421.168,-103.726C411.829,-94.5142 401.918,-84.7364 392.59,-75.5343\"/>\r\n",
       "<polygon fill=\"black\" stroke=\"black\" points=\"394.833,-72.8308 385.256,-68.2996 389.917,-77.8141 394.833,-72.8308\"/>\r\n",
       "</g>\r\n",
       "<!-- 7 -->\r\n",
       "<g id=\"node8\" class=\"node\"><title>7</title>\r\n",
       "<polygon fill=\"#f1bb94\" stroke=\"black\" points=\"566,-68 435,-68 435,-0 566,-0 566,-68\"/>\r\n",
       "<text text-anchor=\"middle\" x=\"500.5\" y=\"-52.8\" font-family=\"Times New Roman,serif\" font-size=\"14.00\">gini = 0.432</text>\r\n",
       "<text text-anchor=\"middle\" x=\"500.5\" y=\"-37.8\" font-family=\"Times New Roman,serif\" font-size=\"14.00\">samples = 3290</text>\r\n",
       "<text text-anchor=\"middle\" x=\"500.5\" y=\"-22.8\" font-family=\"Times New Roman,serif\" font-size=\"14.00\">value = [2251, 1039]</text>\r\n",
       "<text text-anchor=\"middle\" x=\"500.5\" y=\"-7.8\" font-family=\"Times New Roman,serif\" font-size=\"14.00\">class = &gt;13m</text>\r\n",
       "</g>\r\n",
       "<!-- 5&#45;&gt;7 -->\r\n",
       "<g id=\"edge7\" class=\"edge\"><title>5&#45;&gt;7</title>\r\n",
       "<path fill=\"none\" stroke=\"black\" d=\"M476.65,-103.726C479.562,-95.3351 482.637,-86.4745 485.575,-78.0072\"/>\r\n",
       "<polygon fill=\"black\" stroke=\"black\" points=\"488.972,-78.8944 488.944,-68.2996 482.359,-76.5994 488.972,-78.8944\"/>\r\n",
       "</g>\r\n",
       "<!-- 9 -->\r\n",
       "<g id=\"node10\" class=\"node\"><title>9</title>\r\n",
       "<polygon fill=\"#eda674\" stroke=\"black\" points=\"744,-187 619,-187 619,-104 744,-104 744,-187\"/>\r\n",
       "<text text-anchor=\"middle\" x=\"681.5\" y=\"-171.8\" font-family=\"Times New Roman,serif\" font-size=\"14.00\">seniority &lt;= 17.5</text>\r\n",
       "<text text-anchor=\"middle\" x=\"681.5\" y=\"-156.8\" font-family=\"Times New Roman,serif\" font-size=\"14.00\">gini = 0.352</text>\r\n",
       "<text text-anchor=\"middle\" x=\"681.5\" y=\"-141.8\" font-family=\"Times New Roman,serif\" font-size=\"14.00\">samples = 1441</text>\r\n",
       "<text text-anchor=\"middle\" x=\"681.5\" y=\"-126.8\" font-family=\"Times New Roman,serif\" font-size=\"14.00\">value = [1112, 329]</text>\r\n",
       "<text text-anchor=\"middle\" x=\"681.5\" y=\"-111.8\" font-family=\"Times New Roman,serif\" font-size=\"14.00\">class = &gt;13m</text>\r\n",
       "</g>\r\n",
       "<!-- 8&#45;&gt;9 -->\r\n",
       "<g id=\"edge9\" class=\"edge\"><title>8&#45;&gt;9</title>\r\n",
       "<path fill=\"none\" stroke=\"black\" d=\"M681.5,-222.907C681.5,-214.649 681.5,-205.864 681.5,-197.302\"/>\r\n",
       "<polygon fill=\"black\" stroke=\"black\" points=\"685,-197.021 681.5,-187.021 678,-197.021 685,-197.021\"/>\r\n",
       "</g>\r\n",
       "<!-- 12 -->\r\n",
       "<g id=\"node13\" class=\"node\"><title>12</title>\r\n",
       "<polygon fill=\"#ea975b\" stroke=\"black\" points=\"978,-187 853,-187 853,-104 978,-104 978,-187\"/>\r\n",
       "<text text-anchor=\"middle\" x=\"915.5\" y=\"-171.8\" font-family=\"Times New Roman,serif\" font-size=\"14.00\">salary &lt;= 327500.0</text>\r\n",
       "<text text-anchor=\"middle\" x=\"915.5\" y=\"-156.8\" font-family=\"Times New Roman,serif\" font-size=\"14.00\">gini = 0.252</text>\r\n",
       "<text text-anchor=\"middle\" x=\"915.5\" y=\"-141.8\" font-family=\"Times New Roman,serif\" font-size=\"14.00\">samples = 1334</text>\r\n",
       "<text text-anchor=\"middle\" x=\"915.5\" y=\"-126.8\" font-family=\"Times New Roman,serif\" font-size=\"14.00\">value = [1137, 197]</text>\r\n",
       "<text text-anchor=\"middle\" x=\"915.5\" y=\"-111.8\" font-family=\"Times New Roman,serif\" font-size=\"14.00\">class = &gt;13m</text>\r\n",
       "</g>\r\n",
       "<!-- 8&#45;&gt;12 -->\r\n",
       "<g id=\"edge12\" class=\"edge\"><title>8&#45;&gt;12</title>\r\n",
       "<path fill=\"none\" stroke=\"black\" d=\"M744.208,-232.146C774.765,-216.867 811.671,-198.414 843.389,-182.555\"/>\r\n",
       "<polygon fill=\"black\" stroke=\"black\" points=\"845.24,-185.543 852.619,-177.94 842.11,-179.282 845.24,-185.543\"/>\r\n",
       "</g>\r\n",
       "<!-- 10 -->\r\n",
       "<g id=\"node11\" class=\"node\"><title>10</title>\r\n",
       "<polygon fill=\"#eeae80\" stroke=\"black\" points=\"702.5,-68 584.5,-68 584.5,-0 702.5,-0 702.5,-68\"/>\r\n",
       "<text text-anchor=\"middle\" x=\"643.5\" y=\"-52.8\" font-family=\"Times New Roman,serif\" font-size=\"14.00\">gini = 0.39</text>\r\n",
       "<text text-anchor=\"middle\" x=\"643.5\" y=\"-37.8\" font-family=\"Times New Roman,serif\" font-size=\"14.00\">samples = 415</text>\r\n",
       "<text text-anchor=\"middle\" x=\"643.5\" y=\"-22.8\" font-family=\"Times New Roman,serif\" font-size=\"14.00\">value = [305, 110]</text>\r\n",
       "<text text-anchor=\"middle\" x=\"643.5\" y=\"-7.8\" font-family=\"Times New Roman,serif\" font-size=\"14.00\">class = &gt;13m</text>\r\n",
       "</g>\r\n",
       "<!-- 9&#45;&gt;10 -->\r\n",
       "<g id=\"edge10\" class=\"edge\"><title>9&#45;&gt;10</title>\r\n",
       "<path fill=\"none\" stroke=\"black\" d=\"M667.35,-103.726C664.438,-95.3351 661.363,-86.4745 658.425,-78.0072\"/>\r\n",
       "<polygon fill=\"black\" stroke=\"black\" points=\"661.641,-76.5994 655.056,-68.2996 655.028,-78.8944 661.641,-76.5994\"/>\r\n",
       "</g>\r\n",
       "<!-- 11 -->\r\n",
       "<g id=\"node12\" class=\"node\"><title>11</title>\r\n",
       "<polygon fill=\"#eca36f\" stroke=\"black\" points=\"838.5,-68 720.5,-68 720.5,-0 838.5,-0 838.5,-68\"/>\r\n",
       "<text text-anchor=\"middle\" x=\"779.5\" y=\"-52.8\" font-family=\"Times New Roman,serif\" font-size=\"14.00\">gini = 0.336</text>\r\n",
       "<text text-anchor=\"middle\" x=\"779.5\" y=\"-37.8\" font-family=\"Times New Roman,serif\" font-size=\"14.00\">samples = 1026</text>\r\n",
       "<text text-anchor=\"middle\" x=\"779.5\" y=\"-22.8\" font-family=\"Times New Roman,serif\" font-size=\"14.00\">value = [807, 219]</text>\r\n",
       "<text text-anchor=\"middle\" x=\"779.5\" y=\"-7.8\" font-family=\"Times New Roman,serif\" font-size=\"14.00\">class = &gt;13m</text>\r\n",
       "</g>\r\n",
       "<!-- 9&#45;&gt;11 -->\r\n",
       "<g id=\"edge11\" class=\"edge\"><title>9&#45;&gt;11</title>\r\n",
       "<path fill=\"none\" stroke=\"black\" d=\"M717.992,-103.726C726.155,-94.6054 734.814,-84.93 742.978,-75.8078\"/>\r\n",
       "<polygon fill=\"black\" stroke=\"black\" points=\"745.637,-78.0853 749.698,-68.2996 740.421,-73.417 745.637,-78.0853\"/>\r\n",
       "</g>\r\n",
       "<!-- 13 -->\r\n",
       "<g id=\"node14\" class=\"node\"><title>13</title>\r\n",
       "<polygon fill=\"#ea995f\" stroke=\"black\" points=\"974.5,-68 856.5,-68 856.5,-0 974.5,-0 974.5,-68\"/>\r\n",
       "<text text-anchor=\"middle\" x=\"915.5\" y=\"-52.8\" font-family=\"Times New Roman,serif\" font-size=\"14.00\">gini = 0.272</text>\r\n",
       "<text text-anchor=\"middle\" x=\"915.5\" y=\"-37.8\" font-family=\"Times New Roman,serif\" font-size=\"14.00\">samples = 1072</text>\r\n",
       "<text text-anchor=\"middle\" x=\"915.5\" y=\"-22.8\" font-family=\"Times New Roman,serif\" font-size=\"14.00\">value = [898, 174]</text>\r\n",
       "<text text-anchor=\"middle\" x=\"915.5\" y=\"-7.8\" font-family=\"Times New Roman,serif\" font-size=\"14.00\">class = &gt;13m</text>\r\n",
       "</g>\r\n",
       "<!-- 12&#45;&gt;13 -->\r\n",
       "<g id=\"edge13\" class=\"edge\"><title>12&#45;&gt;13</title>\r\n",
       "<path fill=\"none\" stroke=\"black\" d=\"M915.5,-103.726C915.5,-95.5175 915.5,-86.8595 915.5,-78.56\"/>\r\n",
       "<polygon fill=\"black\" stroke=\"black\" points=\"919,-78.2996 915.5,-68.2996 912,-78.2996 919,-78.2996\"/>\r\n",
       "</g>\r\n",
       "<!-- 14 -->\r\n",
       "<g id=\"node15\" class=\"node\"><title>14</title>\r\n",
       "<polygon fill=\"#e88d4c\" stroke=\"black\" points=\"1104,-68 993,-68 993,-0 1104,-0 1104,-68\"/>\r\n",
       "<text text-anchor=\"middle\" x=\"1048.5\" y=\"-52.8\" font-family=\"Times New Roman,serif\" font-size=\"14.00\">gini = 0.16</text>\r\n",
       "<text text-anchor=\"middle\" x=\"1048.5\" y=\"-37.8\" font-family=\"Times New Roman,serif\" font-size=\"14.00\">samples = 262</text>\r\n",
       "<text text-anchor=\"middle\" x=\"1048.5\" y=\"-22.8\" font-family=\"Times New Roman,serif\" font-size=\"14.00\">value = [239, 23]</text>\r\n",
       "<text text-anchor=\"middle\" x=\"1048.5\" y=\"-7.8\" font-family=\"Times New Roman,serif\" font-size=\"14.00\">class = &gt;13m</text>\r\n",
       "</g>\r\n",
       "<!-- 12&#45;&gt;14 -->\r\n",
       "<g id=\"edge14\" class=\"edge\"><title>12&#45;&gt;14</title>\r\n",
       "<path fill=\"none\" stroke=\"black\" d=\"M965.024,-103.726C976.546,-94.2406 988.796,-84.1551 1000.26,-74.7159\"/>\r\n",
       "<polygon fill=\"black\" stroke=\"black\" points=\"1002.56,-77.3577 1008.05,-68.2996 998.109,-71.9536 1002.56,-77.3577\"/>\r\n",
       "</g>\r\n",
       "</g>\r\n",
       "</svg>\r\n"
      ],
      "text/plain": [
       "<graphviz.files.Source at 0x2763370d310>"
      ]
     },
     "execution_count": 98,
     "metadata": {},
     "output_type": "execute_result"
    }
   ],
   "source": [
    "# Visualization\n",
    "import graphviz\n",
    "features = list(x_train.columns)\n",
    "targets = ['>13m','quit<=13m']\n",
    "dot_data = tree.export_graphviz(clf,feature_names=features, class_names=targets, filled=True)\n",
    "graph = graphviz.Source(dot_data)\n",
    "graph"
   ]
  },
  {
   "cell_type": "code",
   "execution_count": 80,
   "metadata": {},
   "outputs": [
    {
     "data": {
      "text/plain": [
       "Text(0.5, 1.0, 'Feature Importances')"
      ]
     },
     "execution_count": 80,
     "metadata": {},
     "output_type": "execute_result"
    },
    {
     "data": {
      "image/png": "[encoded data removed]",
      "text/plain": [
       "<Figure size 432x288 with 1 Axes>"
      ]
     },
     "metadata": {
      "needs_background": "light"
     },
     "output_type": "display_data"
    }
   ],
   "source": [
    "# feature importance and visulisation\n",
    "importance = clf.feature_importances_\n",
    "sorted_idx = clf.feature_importances_.argsort()\n",
    "\n",
    "plt.figure()\n",
    "plt.barh(x_train.columns[sorted_idx],clf.feature_importances_[sorted_idx])\n",
    "plt.title('Feature Importances')"
   ]
  },
  {
   "cell_type": "markdown",
   "metadata": {},
   "source": [
    "It can be seen from above analysis that 'salary' is the most important factor that drive people to leave."
   ]
  },
  {
   "cell_type": "code",
   "execution_count": 137,
   "metadata": {},
   "outputs": [
    {
     "data": {
      "text/plain": [
       "(0.1, 0.4)"
      ]
     },
     "execution_count": 137,
     "metadata": {},
     "output_type": "execute_result"
    },
    {
     "data": {
      "image/png": "[encoded data removed]",
      "text/plain": [
       "<Figure size 1296x432 with 4 Axes>"
      ]
     },
     "metadata": {
      "needs_background": "light"
     },
     "output_type": "display_data"
    }
   ],
   "source": [
    "# Check the plot_partial_dependence\n",
    "from sklearn.inspection import plot_partial_dependence\n",
    "from sklearn.model_selection import train_test_split\n",
    "x_train1,x_test,y_train1,y_test = train_test_split(x_train,y_train,test_size=0.33)\n",
    "clf.fit(x_test,y_test)\n",
    "\n",
    "fig,ax=plt.subplots(1,4,figsize=(18,6))\n",
    "features=['company_id','seniority','dept','salary']\n",
    "plot_partial_dependence(clf,x_train,features,ax=ax)\n",
    "ax[0].set_ylim(0.3,0.325)\n",
    "ax[1].set_ylim(0.30,0.35)\n",
    "ax[2].set_ylim(0.29,0.35)\n",
    "ax[3].set_ylim(0.1,0.4)"
   ]
  },
  {
   "cell_type": "markdown",
   "metadata": {},
   "source": [
    "Summary:\n",
    "1. There are peaks around empolyee working years anniversary. It makes sense since after working for one or more anniversaies, people can have a better resume and often get stocks.\n",
    "\n",
    "2. There are no obvious trend to show at which month in a year people would like to quit.\n",
    "\n",
    "3. It seems that company culture has great effects on quitting. In the current dataset, empolyees in company 1 are prone to leaving.But if compared the mean quitting rate, company 1 is still ok since it also recruit the most people whereas company 11 has the smallest quitting employee but highest mean quitting rate.\n",
    "\n",
    "4. Cutermer service has higher empolyee churn, while some department which need more technique, such as design,data_science, showed relatively lower emplyee churn. \n",
    "\n",
    "5. If peole have more seniority, such as more than 20 years, they prefer to stay. This also make sense, since if people have more than 20 years working experience, they perfer to stay at the current place instead of pursuing new company.\n",
    "\n",
    "6. Combined with feature importance and salary vs.quit, it can be found that salary is the most importact factor that drive people to quite. And employee with low and high salaries are less likely to quit. It maybe because people with high salaries are happy there and those with low salaries are not easy to find job. And people with meidum income are most likely to quit and pursue new job. "
   ]
  }
 ],
 "metadata": {
  "kernelspec": {
   "display_name": "Python 3",
   "language": "python",
   "name": "python3"
  },
  "language_info": {
   "codemirror_mode": {
    "name": "ipython",
    "version": 3
   },
   "file_extension": ".py",
   "mimetype": "text/x-python",
   "name": "python",
   "nbconvert_exporter": "python",
   "pygments_lexer": "ipython3",
   "version": "3.8.3"
  }
 },
 "nbformat": 4,
 "nbformat_minor": 4
}
