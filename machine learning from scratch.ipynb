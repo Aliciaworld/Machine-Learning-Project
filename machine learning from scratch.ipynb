{
 "cells": [
  {
   "cell_type": "markdown",
   "metadata": {},
   "source": [
    "#   Machine Learning Workflow:\n",
    "\n",
    "The general machine learning projects will follow the following pipeline. However, the detailed implementation can vary. For example, oftentimes we will iterate some procedures, such as feature engineering and selection etc.\n",
    "1. Data cleaning and formatting\n",
    "2. Exploratory Data Analysis(EDA)\n",
    "3. Feature engineering and selection\n",
    "4. Establish a baseline and compare different models on a performance metric\n",
    "5. Perform hyperparameter tuning on the best model to optimize it \n",
    "6. Evaluate the best model on the testing set\n",
    "7. Interpret the model results\n",
    "8. Draw conclusions and write a well-documented report"
   ]
  },
  {
   "cell_type": "markdown",
   "metadata": {},
   "source": [
    "## 1. Data Clearning and formatting\n",
    "### 1.1  check the data type\n",
    "- data.info()"
   ]
  },
  {
   "cell_type": "markdown",
   "metadata": {},
   "source": [
    "### 1.2 Convert to correct types\n",
    "a) convert 'object' columns with numbers and 'Not Available'to np.nan:\n",
    "- data.replace({'Not Available': np.nan})\n",
    "\n",
    "b) convert 'object' columns to numeric: "
   ]
  },
  {
   "cell_type": "raw",
   "metadata": {},
   "source": [
    "    for col in list(data.columns):\n",
    "        if('??' in col or \"??\" in col):\n",
    "            data[col] = data[col].astype(float)"
   ]
  },
  {
   "cell_type": "markdown",
   "metadata": {},
   "source": [
    "### 1.3 Define the target"
   ]
  },
  {
   "cell_type": "markdown",
   "metadata": {},
   "source": [
    "### 1.4 Check missing values\n",
    "Missing values are fine when we do exploratory data analysis(EDA), but they have to be filled in Maching Learning models.\n",
    "- method 1:using mapping\n",
    "    - sns.heatmap(data.isnull(), yticklabels=False, cbar=False)"
   ]
  },
  {
   "cell_type": "markdown",
   "metadata": {},
   "source": [
    "- method 2: using defined functions"
   ]
  },
  {
   "cell_type": "raw",
   "metadata": {},
   "source": [
    "def missing_values(df):\n",
    "    mis_val = df.isnull().sum()\n",
    "    mis_val_percent = 100 * df.isnull().sum() / len(df)\n",
    "   \n",
    "    mis_val_table = pd.concat([mis_val,mis_val_percent], axis=1)\n",
    "    mis_val_table = mis_val_table.rename(columns = {0:'Missing Values', 1: '% of Toal Values'})\n",
    "    \n",
    "    # sort the tabel by percentage of missing descending\n",
    "    mis_val_table = mis_val_table[mis_val_table.iloc[:, 1] !=0].sort_values(ascending = Flase).round(1)\n",
    "    \n",
    "    # print summary information\n",
    "    print('The data has' + str(df.shape[1]) + ' columns.\\n'\n",
    "        'There are ' + str(mis_val_table.shape[0] + ' columns that have missing values.')\n",
    "    \n",
    "    return mis_val_table"
   ]
  },
  {
   "cell_type": "raw",
   "metadata": {},
   "source": [
    "# get the columns with > 50 % missing values\n",
    "missing_data = missing_values(data)\n",
    "missing_columns = list(missing_data[missing_data['% of Total Values']>50].index)\n",
    "data = data.drop(columns = list(missing_columns))\n",
    "print('%d columns that have more than 50% missing values will be removed.'% len(missing_columns)"
   ]
  },
  {
   "cell_type": "markdown",
   "metadata": {},
   "source": [
    "### 1.5 Check outlier and remove:\n",
    "- method 1: using build-in function\n",
    "    - data.describe()\n",
    "    \n",
    "- method 2: using other function:\n",
    "\n",
    "Outlier are extreme values. One of its definationa are any data values which lie more than 3 times the interquartile range below the first quartile or above the thir quartile. Therefore, the lower end will be 'First Quartile - 3 * Interquartile Range', and the higher end will be 'Third Quartile + 3 * Interquartile Range'"
   ]
  },
  {
   "cell_type": "raw",
   "metadata": {},
   "source": [
    "first_quantile = data['???'].describe()['25%']\n",
    "third_quartile = data['???'].describe()['75%']\n",
    "\n",
    "# Interquartile range\n",
    "iqr = thir_quartile - first_quantile\n",
    "\n",
    "# remove outliers\n",
    "data = data[(data['???'] > (first_quartile - 3 * iqr)) & (data['???'] < (third_quartile - 3 * iqr))]"
   ]
  },
  {
   "cell_type": "markdown",
   "metadata": {},
   "source": [
    "## 2. EDA\n",
    "### 2.1 Single Variable Plots(distribution of targets)\n",
    "- plt.his(data['target'].dropna())"
   ]
  },
  {
   "cell_type": "markdown",
   "metadata": {},
   "source": [
    "[This question](https://stackoverflow.com/questions/tagged/python)"
   ]
  },
  {
   "cell_type": "code",
   "execution_count": null,
   "metadata": {},
   "outputs": [],
   "source": []
  }
 ],
 "metadata": {
  "kernelspec": {
   "display_name": "Python 3",
   "language": "python",
   "name": "python3"
  },
  "language_info": {
   "codemirror_mode": {
    "name": "ipython",
    "version": 3
   },
   "file_extension": ".py",
   "mimetype": "text/x-python",
   "name": "python",
   "nbconvert_exporter": "python",
   "pygments_lexer": "ipython3",
   "version": "3.8.3"
  }
 },
 "nbformat": 4,
 "nbformat_minor": 4
}
