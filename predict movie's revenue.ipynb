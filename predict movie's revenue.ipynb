{
 "cells": [
  {
   "cell_type": "code",
   "execution_count": 1,
   "metadata": {},
   "outputs": [],
   "source": [
    "import pandas as pd\n",
    "import matplotlib.pyplot as plt\n",
    "import seaborn as sns\n",
    "import numpy as np\n",
    "from scipy import stats\n",
    "%matplotlib inline"
   ]
  },
  {
   "cell_type": "code",
   "execution_count": 3,
   "metadata": {},
   "outputs": [
    {
     "name": "stderr",
     "output_type": "stream",
     "text": [
      "C:\\Users\\xiaoj\\anaconda3\\lib\\site-packages\\IPython\\core\\interactiveshell.py:3071: DtypeWarning: Columns (10) have mixed types.Specify dtype option on import or set low_memory=False.\n",
      "  has_raised = await self.run_ast_nodes(code_ast.body, cell_name,\n"
     ]
    },
    {
     "data": {
      "text/html": [
       "<div>\n",
       "<style scoped>\n",
       "    .dataframe tbody tr th:only-of-type {\n",
       "        vertical-align: middle;\n",
       "    }\n",
       "\n",
       "    .dataframe tbody tr th {\n",
       "        vertical-align: top;\n",
       "    }\n",
       "\n",
       "    .dataframe thead th {\n",
       "        text-align: right;\n",
       "    }\n",
       "</style>\n",
       "<table border=\"1\" class=\"dataframe\">\n",
       "  <thead>\n",
       "    <tr style=\"text-align: right;\">\n",
       "      <th></th>\n",
       "      <th>0</th>\n",
       "      <th>1</th>\n",
       "    </tr>\n",
       "  </thead>\n",
       "  <tbody>\n",
       "    <tr>\n",
       "      <th>adult</th>\n",
       "      <td>False</td>\n",
       "      <td>False</td>\n",
       "    </tr>\n",
       "    <tr>\n",
       "      <th>belongs_to_collection</th>\n",
       "      <td>{'id': 10194, 'name': 'Toy Story Collection', ...</td>\n",
       "      <td>NaN</td>\n",
       "    </tr>\n",
       "    <tr>\n",
       "      <th>budget</th>\n",
       "      <td>30000000</td>\n",
       "      <td>65000000</td>\n",
       "    </tr>\n",
       "    <tr>\n",
       "      <th>genres</th>\n",
       "      <td>[{'id': 16, 'name': 'Animation'}, {'id': 35, '...</td>\n",
       "      <td>[{'id': 12, 'name': 'Adventure'}, {'id': 14, '...</td>\n",
       "    </tr>\n",
       "    <tr>\n",
       "      <th>homepage</th>\n",
       "      <td>http://toystory.disney.com/toy-story</td>\n",
       "      <td>NaN</td>\n",
       "    </tr>\n",
       "    <tr>\n",
       "      <th>id</th>\n",
       "      <td>862</td>\n",
       "      <td>8844</td>\n",
       "    </tr>\n",
       "    <tr>\n",
       "      <th>imdb_id</th>\n",
       "      <td>tt0114709</td>\n",
       "      <td>tt0113497</td>\n",
       "    </tr>\n",
       "    <tr>\n",
       "      <th>original_language</th>\n",
       "      <td>en</td>\n",
       "      <td>en</td>\n",
       "    </tr>\n",
       "    <tr>\n",
       "      <th>original_title</th>\n",
       "      <td>Toy Story</td>\n",
       "      <td>Jumanji</td>\n",
       "    </tr>\n",
       "    <tr>\n",
       "      <th>overview</th>\n",
       "      <td>Led by Woody, Andy's toys live happily in his ...</td>\n",
       "      <td>When siblings Judy and Peter discover an encha...</td>\n",
       "    </tr>\n",
       "    <tr>\n",
       "      <th>popularity</th>\n",
       "      <td>21.9469</td>\n",
       "      <td>17.0155</td>\n",
       "    </tr>\n",
       "    <tr>\n",
       "      <th>poster_path</th>\n",
       "      <td>/rhIRbceoE9lR4veEXuwCC2wARtG.jpg</td>\n",
       "      <td>/vzmL6fP7aPKNKPRTFnZmiUfciyV.jpg</td>\n",
       "    </tr>\n",
       "    <tr>\n",
       "      <th>production_companies</th>\n",
       "      <td>[{'name': 'Pixar Animation Studios', 'id': 3}]</td>\n",
       "      <td>[{'name': 'TriStar Pictures', 'id': 559}, {'na...</td>\n",
       "    </tr>\n",
       "    <tr>\n",
       "      <th>production_countries</th>\n",
       "      <td>[{'iso_3166_1': 'US', 'name': 'United States o...</td>\n",
       "      <td>[{'iso_3166_1': 'US', 'name': 'United States o...</td>\n",
       "    </tr>\n",
       "    <tr>\n",
       "      <th>release_date</th>\n",
       "      <td>1995-10-30</td>\n",
       "      <td>1995-12-15</td>\n",
       "    </tr>\n",
       "    <tr>\n",
       "      <th>revenue</th>\n",
       "      <td>3.73554e+08</td>\n",
       "      <td>2.62797e+08</td>\n",
       "    </tr>\n",
       "    <tr>\n",
       "      <th>runtime</th>\n",
       "      <td>81</td>\n",
       "      <td>104</td>\n",
       "    </tr>\n",
       "    <tr>\n",
       "      <th>spoken_languages</th>\n",
       "      <td>[{'iso_639_1': 'en', 'name': 'English'}]</td>\n",
       "      <td>[{'iso_639_1': 'en', 'name': 'English'}, {'iso...</td>\n",
       "    </tr>\n",
       "    <tr>\n",
       "      <th>status</th>\n",
       "      <td>Released</td>\n",
       "      <td>Released</td>\n",
       "    </tr>\n",
       "    <tr>\n",
       "      <th>tagline</th>\n",
       "      <td>NaN</td>\n",
       "      <td>Roll the dice and unleash the excitement!</td>\n",
       "    </tr>\n",
       "    <tr>\n",
       "      <th>title</th>\n",
       "      <td>Toy Story</td>\n",
       "      <td>Jumanji</td>\n",
       "    </tr>\n",
       "    <tr>\n",
       "      <th>video</th>\n",
       "      <td>False</td>\n",
       "      <td>False</td>\n",
       "    </tr>\n",
       "    <tr>\n",
       "      <th>vote_average</th>\n",
       "      <td>7.7</td>\n",
       "      <td>6.9</td>\n",
       "    </tr>\n",
       "    <tr>\n",
       "      <th>vote_count</th>\n",
       "      <td>5415</td>\n",
       "      <td>2413</td>\n",
       "    </tr>\n",
       "  </tbody>\n",
       "</table>\n",
       "</div>"
      ],
      "text/plain": [
       "                                                                       0  \\\n",
       "adult                                                              False   \n",
       "belongs_to_collection  {'id': 10194, 'name': 'Toy Story Collection', ...   \n",
       "budget                                                          30000000   \n",
       "genres                 [{'id': 16, 'name': 'Animation'}, {'id': 35, '...   \n",
       "homepage                            http://toystory.disney.com/toy-story   \n",
       "id                                                                   862   \n",
       "imdb_id                                                        tt0114709   \n",
       "original_language                                                     en   \n",
       "original_title                                                 Toy Story   \n",
       "overview               Led by Woody, Andy's toys live happily in his ...   \n",
       "popularity                                                       21.9469   \n",
       "poster_path                             /rhIRbceoE9lR4veEXuwCC2wARtG.jpg   \n",
       "production_companies      [{'name': 'Pixar Animation Studios', 'id': 3}]   \n",
       "production_countries   [{'iso_3166_1': 'US', 'name': 'United States o...   \n",
       "release_date                                                  1995-10-30   \n",
       "revenue                                                      3.73554e+08   \n",
       "runtime                                                               81   \n",
       "spoken_languages                [{'iso_639_1': 'en', 'name': 'English'}]   \n",
       "status                                                          Released   \n",
       "tagline                                                              NaN   \n",
       "title                                                          Toy Story   \n",
       "video                                                              False   \n",
       "vote_average                                                         7.7   \n",
       "vote_count                                                          5415   \n",
       "\n",
       "                                                                       1  \n",
       "adult                                                              False  \n",
       "belongs_to_collection                                                NaN  \n",
       "budget                                                          65000000  \n",
       "genres                 [{'id': 12, 'name': 'Adventure'}, {'id': 14, '...  \n",
       "homepage                                                             NaN  \n",
       "id                                                                  8844  \n",
       "imdb_id                                                        tt0113497  \n",
       "original_language                                                     en  \n",
       "original_title                                                   Jumanji  \n",
       "overview               When siblings Judy and Peter discover an encha...  \n",
       "popularity                                                       17.0155  \n",
       "poster_path                             /vzmL6fP7aPKNKPRTFnZmiUfciyV.jpg  \n",
       "production_companies   [{'name': 'TriStar Pictures', 'id': 559}, {'na...  \n",
       "production_countries   [{'iso_3166_1': 'US', 'name': 'United States o...  \n",
       "release_date                                                  1995-12-15  \n",
       "revenue                                                      2.62797e+08  \n",
       "runtime                                                              104  \n",
       "spoken_languages       [{'iso_639_1': 'en', 'name': 'English'}, {'iso...  \n",
       "status                                                          Released  \n",
       "tagline                        Roll the dice and unleash the excitement!  \n",
       "title                                                            Jumanji  \n",
       "video                                                              False  \n",
       "vote_average                                                         6.9  \n",
       "vote_count                                                          2413  "
      ]
     },
     "execution_count": 3,
     "metadata": {},
     "output_type": "execute_result"
    }
   ],
   "source": [
    "df = pd.read_csv('C:/Users/xiaoj/Desktop/CS/collection of data science-take home challenges/kaggle-Recommendation/movies_metadata.csv')\n",
    "df.head(2).T"
   ]
  },
  {
   "cell_type": "code",
   "execution_count": 4,
   "metadata": {},
   "outputs": [
    {
     "data": {
      "text/plain": [
       "Index(['adult', 'belongs_to_collection', 'budget', 'genres', 'homepage', 'id',\n",
       "       'imdb_id', 'original_language', 'original_title', 'overview',\n",
       "       'popularity', 'poster_path', 'production_companies',\n",
       "       'production_countries', 'release_date', 'revenue', 'runtime',\n",
       "       'spoken_languages', 'status', 'tagline', 'title', 'video',\n",
       "       'vote_average', 'vote_count'],\n",
       "      dtype='object')"
      ]
     },
     "execution_count": 4,
     "metadata": {},
     "output_type": "execute_result"
    }
   ],
   "source": [
    "df.columns"
   ]
  },
  {
   "cell_type": "code",
   "execution_count": 5,
   "metadata": {},
   "outputs": [
    {
     "data": {
      "text/plain": [
       "(45466, 24)"
      ]
     },
     "execution_count": 5,
     "metadata": {},
     "output_type": "execute_result"
    }
   ],
   "source": [
    "df.shape"
   ]
  },
  {
   "cell_type": "code",
   "execution_count": 6,
   "metadata": {},
   "outputs": [
    {
     "name": "stdout",
     "output_type": "stream",
     "text": [
      "<class 'pandas.core.frame.DataFrame'>\n",
      "RangeIndex: 45466 entries, 0 to 45465\n",
      "Data columns (total 24 columns):\n",
      " #   Column                 Non-Null Count  Dtype  \n",
      "---  ------                 --------------  -----  \n",
      " 0   adult                  45466 non-null  object \n",
      " 1   belongs_to_collection  4494 non-null   object \n",
      " 2   budget                 45466 non-null  object \n",
      " 3   genres                 45466 non-null  object \n",
      " 4   homepage               7782 non-null   object \n",
      " 5   id                     45466 non-null  object \n",
      " 6   imdb_id                45449 non-null  object \n",
      " 7   original_language      45455 non-null  object \n",
      " 8   original_title         45466 non-null  object \n",
      " 9   overview               44512 non-null  object \n",
      " 10  popularity             45461 non-null  object \n",
      " 11  poster_path            45080 non-null  object \n",
      " 12  production_companies   45463 non-null  object \n",
      " 13  production_countries   45463 non-null  object \n",
      " 14  release_date           45379 non-null  object \n",
      " 15  revenue                45460 non-null  float64\n",
      " 16  runtime                45203 non-null  float64\n",
      " 17  spoken_languages       45460 non-null  object \n",
      " 18  status                 45379 non-null  object \n",
      " 19  tagline                20412 non-null  object \n",
      " 20  title                  45460 non-null  object \n",
      " 21  video                  45460 non-null  object \n",
      " 22  vote_average           45460 non-null  float64\n",
      " 23  vote_count             45460 non-null  float64\n",
      "dtypes: float64(4), object(20)\n",
      "memory usage: 8.3+ MB\n"
     ]
    }
   ],
   "source": [
    "df.info()"
   ]
  },
  {
   "cell_type": "code",
   "execution_count": 7,
   "metadata": {},
   "outputs": [],
   "source": [
    "df = df.drop(['imdb_id'], axis=1)"
   ]
  },
  {
   "cell_type": "code",
   "execution_count": 8,
   "metadata": {},
   "outputs": [
    {
     "data": {
      "text/html": [
       "<div>\n",
       "<style scoped>\n",
       "    .dataframe tbody tr th:only-of-type {\n",
       "        vertical-align: middle;\n",
       "    }\n",
       "\n",
       "    .dataframe tbody tr th {\n",
       "        vertical-align: top;\n",
       "    }\n",
       "\n",
       "    .dataframe thead th {\n",
       "        text-align: right;\n",
       "    }\n",
       "</style>\n",
       "<table border=\"1\" class=\"dataframe\">\n",
       "  <thead>\n",
       "    <tr style=\"text-align: right;\">\n",
       "      <th></th>\n",
       "      <th>title</th>\n",
       "      <th>original_title</th>\n",
       "    </tr>\n",
       "  </thead>\n",
       "  <tbody>\n",
       "    <tr>\n",
       "      <th>28</th>\n",
       "      <td>The City of Lost Children</td>\n",
       "      <td>La Cité des Enfants Perdus</td>\n",
       "    </tr>\n",
       "    <tr>\n",
       "      <th>29</th>\n",
       "      <td>Shanghai Triad</td>\n",
       "      <td>摇啊摇，摇到外婆桥</td>\n",
       "    </tr>\n",
       "    <tr>\n",
       "      <th>32</th>\n",
       "      <td>Wings of Courage</td>\n",
       "      <td>Guillaumet, les ailes du courage</td>\n",
       "    </tr>\n",
       "    <tr>\n",
       "      <th>57</th>\n",
       "      <td>The Postman</td>\n",
       "      <td>Il postino</td>\n",
       "    </tr>\n",
       "    <tr>\n",
       "      <th>58</th>\n",
       "      <td>The Confessional</td>\n",
       "      <td>Le confessionnal</td>\n",
       "    </tr>\n",
       "  </tbody>\n",
       "</table>\n",
       "</div>"
      ],
      "text/plain": [
       "                        title                    original_title\n",
       "28  The City of Lost Children        La Cité des Enfants Perdus\n",
       "29             Shanghai Triad                         摇啊摇，摇到外婆桥\n",
       "32           Wings of Courage  Guillaumet, les ailes du courage\n",
       "57                The Postman                        Il postino\n",
       "58           The Confessional                  Le confessionnal"
      ]
     },
     "execution_count": 8,
     "metadata": {},
     "output_type": "execute_result"
    }
   ],
   "source": [
    "df[df['original_title'] != df['title']][['title', 'original_title']].head()"
   ]
  },
  {
   "cell_type": "code",
   "execution_count": 16,
   "metadata": {},
   "outputs": [],
   "source": [
    "df = df.drop('original_title', axis=1)"
   ]
  },
  {
   "cell_type": "code",
   "execution_count": 9,
   "metadata": {},
   "outputs": [
    {
     "data": {
      "text/plain": [
       "(38052, 23)"
      ]
     },
     "execution_count": 9,
     "metadata": {},
     "output_type": "execute_result"
    }
   ],
   "source": [
    "df[df['revenue'] == 0].shape"
   ]
  },
  {
   "cell_type": "code",
   "execution_count": 10,
   "metadata": {},
   "outputs": [],
   "source": [
    "df['revenue'] = df['revenue'].replace(0, np.nan)"
   ]
  },
  {
   "cell_type": "code",
   "execution_count": 11,
   "metadata": {},
   "outputs": [
    {
     "data": {
      "text/plain": [
       "(36576, 23)"
      ]
     },
     "execution_count": 11,
     "metadata": {},
     "output_type": "execute_result"
    }
   ],
   "source": [
    "df['budget'] = pd.to_numeric(df['budget'], errors='coerce')\n",
    "df['budget'] = df['budget'].replace(0, np.nan)\n",
    "df[df['budget'].isnull()].shape"
   ]
  },
  {
   "cell_type": "code",
   "execution_count": 12,
   "metadata": {},
   "outputs": [
    {
     "data": {
      "text/plain": [
       "(40085, 24)"
      ]
     },
     "execution_count": 12,
     "metadata": {},
     "output_type": "execute_result"
    }
   ],
   "source": [
    "df['return'] = df['revenue'] / df['budget']\n",
    "df[df['return'].isnull()].shape"
   ]
  },
  {
   "cell_type": "code",
   "execution_count": 13,
   "metadata": {},
   "outputs": [],
   "source": [
    "df['year'] = pd.to_datetime(df['release_date'], errors='coerce').apply(lambda x: str(x).split('-')[0] if x != np.nan else np.nan)"
   ]
  },
  {
   "cell_type": "code",
   "execution_count": 14,
   "metadata": {},
   "outputs": [
    {
     "data": {
      "text/plain": [
       "False                                                                                                                             45454\n",
       "True                                                                                                                                  9\n",
       " Rune Balot goes to a casino connected to the October corporation to try to wrap up her case once and for all.                        1\n",
       " Avalanche Sharks tells the story of a bikini contest that turns into a horrifying affair when it is hit by a shark avalanche.        1\n",
       " - Written by Ørnås                                                                                                                   1\n",
       "Name: adult, dtype: int64"
      ]
     },
     "execution_count": 14,
     "metadata": {},
     "output_type": "execute_result"
    }
   ],
   "source": [
    "df['adult'].value_counts()"
   ]
  },
  {
   "cell_type": "markdown",
   "metadata": {},
   "source": [
    "There are close to 0 adult movies in this dataset. The adult feature therefore is not of much use to us and can be safely dropped."
   ]
  },
  {
   "cell_type": "code",
   "execution_count": 15,
   "metadata": {},
   "outputs": [],
   "source": [
    "df = df.drop('adult', axis=1)"
   ]
  },
  {
   "cell_type": "code",
   "execution_count": null,
   "metadata": {},
   "outputs": [],
   "source": []
  },
  {
   "cell_type": "code",
   "execution_count": 17,
   "metadata": {},
   "outputs": [],
   "source": [
    "df['title'] = df['title'].astype('str')\n",
    "df['overview'] = df['overview'].astype('str')\n",
    "# The following I did not fill is to draw a wordcloud"
   ]
  },
  {
   "cell_type": "code",
   "execution_count": 19,
   "metadata": {},
   "outputs": [],
   "source": [
    "import ast\n",
    "\n",
    "df['production_countries'] = df['production_countries'].fillna('[]').apply(ast.literal_eval)\n",
    "df['production_countries'] = df['production_countries'].apply(lambda x: [i['name'] for i in x] if isinstance(x, list) else [])"
   ]
  },
  {
   "cell_type": "code",
   "execution_count": 20,
   "metadata": {},
   "outputs": [
    {
     "name": "stderr",
     "output_type": "stream",
     "text": [
      "<ipython-input-20-ae01bc924e33>:1: DeprecationWarning: The default dtype for empty Series will be 'object' instead of 'float64' in a future version. Specify a dtype explicitly to silence this warning.\n",
      "  s = df.apply(lambda x: pd.Series(x['production_countries']),axis=1).stack().reset_index(level=1, drop=True)\n"
     ]
    }
   ],
   "source": [
    "s = df.apply(lambda x: pd.Series(x['production_countries']),axis=1).stack().reset_index(level=1, drop=True)\n",
    "s.name = 'countries'"
   ]
  },
  {
   "cell_type": "code",
   "execution_count": 21,
   "metadata": {},
   "outputs": [
    {
     "data": {
      "text/html": [
       "<div>\n",
       "<style scoped>\n",
       "    .dataframe tbody tr th:only-of-type {\n",
       "        vertical-align: middle;\n",
       "    }\n",
       "\n",
       "    .dataframe tbody tr th {\n",
       "        vertical-align: top;\n",
       "    }\n",
       "\n",
       "    .dataframe thead th {\n",
       "        text-align: right;\n",
       "    }\n",
       "</style>\n",
       "<table border=\"1\" class=\"dataframe\">\n",
       "  <thead>\n",
       "    <tr style=\"text-align: right;\">\n",
       "      <th></th>\n",
       "      <th>num_movies</th>\n",
       "      <th>country</th>\n",
       "    </tr>\n",
       "  </thead>\n",
       "  <tbody>\n",
       "    <tr>\n",
       "      <th>0</th>\n",
       "      <td>21153</td>\n",
       "      <td>United States of America</td>\n",
       "    </tr>\n",
       "    <tr>\n",
       "      <th>1</th>\n",
       "      <td>4094</td>\n",
       "      <td>United Kingdom</td>\n",
       "    </tr>\n",
       "    <tr>\n",
       "      <th>2</th>\n",
       "      <td>3940</td>\n",
       "      <td>France</td>\n",
       "    </tr>\n",
       "    <tr>\n",
       "      <th>3</th>\n",
       "      <td>2254</td>\n",
       "      <td>Germany</td>\n",
       "    </tr>\n",
       "    <tr>\n",
       "      <th>4</th>\n",
       "      <td>2169</td>\n",
       "      <td>Italy</td>\n",
       "    </tr>\n",
       "    <tr>\n",
       "      <th>5</th>\n",
       "      <td>1765</td>\n",
       "      <td>Canada</td>\n",
       "    </tr>\n",
       "    <tr>\n",
       "      <th>6</th>\n",
       "      <td>1648</td>\n",
       "      <td>Japan</td>\n",
       "    </tr>\n",
       "    <tr>\n",
       "      <th>7</th>\n",
       "      <td>964</td>\n",
       "      <td>Spain</td>\n",
       "    </tr>\n",
       "    <tr>\n",
       "      <th>8</th>\n",
       "      <td>912</td>\n",
       "      <td>Russia</td>\n",
       "    </tr>\n",
       "    <tr>\n",
       "      <th>9</th>\n",
       "      <td>828</td>\n",
       "      <td>India</td>\n",
       "    </tr>\n",
       "  </tbody>\n",
       "</table>\n",
       "</div>"
      ],
      "text/plain": [
       "   num_movies                   country\n",
       "0       21153  United States of America\n",
       "1        4094            United Kingdom\n",
       "2        3940                    France\n",
       "3        2254                   Germany\n",
       "4        2169                     Italy\n",
       "5        1765                    Canada\n",
       "6        1648                     Japan\n",
       "7         964                     Spain\n",
       "8         912                    Russia\n",
       "9         828                     India"
      ]
     },
     "execution_count": 21,
     "metadata": {},
     "output_type": "execute_result"
    }
   ],
   "source": [
    "con_df = df.drop('production_countries', axis=1).join(s)\n",
    "con_df = pd.DataFrame(con_df['countries'].value_counts())\n",
    "con_df['country'] = con_df.index\n",
    "con_df.columns = ['num_movies', 'country']\n",
    "con_df = con_df.reset_index().drop('index', axis=1)\n",
    "con_df.head(10)"
   ]
  },
  {
   "cell_type": "code",
   "execution_count": 22,
   "metadata": {},
   "outputs": [
    {
     "name": "stderr",
     "output_type": "stream",
     "text": [
      "<ipython-input-22-2ba282283898>:2: SettingWithCopyWarning: \n",
      "A value is trying to be set on a copy of a slice from a DataFrame.\n",
      "Try using .loc[row_indexer,col_indexer] = value instead\n",
      "\n",
      "See the caveats in the documentation: https://pandas.pydata.org/pandas-docs/stable/user_guide/indexing.html#returning-a-view-versus-a-copy\n",
      "  df_fran['belongs_to_collection'] = df_fran['belongs_to_collection'].apply(ast.literal_eval).apply(lambda x: x['name'] if isinstance(x, dict) else np.nan)\n"
     ]
    }
   ],
   "source": [
    "df_fran = df[df['belongs_to_collection'].notnull()]\n",
    "df_fran['belongs_to_collection'] = df_fran['belongs_to_collection'].apply(ast.literal_eval).apply(lambda x: x['name'] if isinstance(x, dict) else np.nan)\n",
    "df_fran = df_fran[df_fran['belongs_to_collection'].notnull()]"
   ]
  },
  {
   "cell_type": "code",
   "execution_count": 23,
   "metadata": {},
   "outputs": [],
   "source": [
    "fran_pivot = df_fran.pivot_table(index='belongs_to_collection', values='revenue', aggfunc={'revenue': ['mean', 'sum', 'count']}).reset_index()"
   ]
  },
  {
   "cell_type": "code",
   "execution_count": 24,
   "metadata": {},
   "outputs": [
    {
     "data": {
      "text/html": [
       "<div>\n",
       "<style scoped>\n",
       "    .dataframe tbody tr th:only-of-type {\n",
       "        vertical-align: middle;\n",
       "    }\n",
       "\n",
       "    .dataframe tbody tr th {\n",
       "        vertical-align: top;\n",
       "    }\n",
       "\n",
       "    .dataframe thead th {\n",
       "        text-align: right;\n",
       "    }\n",
       "</style>\n",
       "<table border=\"1\" class=\"dataframe\">\n",
       "  <thead>\n",
       "    <tr style=\"text-align: right;\">\n",
       "      <th></th>\n",
       "      <th>belongs_to_collection</th>\n",
       "      <th>count</th>\n",
       "      <th>mean</th>\n",
       "      <th>sum</th>\n",
       "    </tr>\n",
       "  </thead>\n",
       "  <tbody>\n",
       "    <tr>\n",
       "      <th>552</th>\n",
       "      <td>Harry Potter Collection</td>\n",
       "      <td>8</td>\n",
       "      <td>9.634209e+08</td>\n",
       "      <td>7.707367e+09</td>\n",
       "    </tr>\n",
       "    <tr>\n",
       "      <th>1160</th>\n",
       "      <td>Star Wars Collection</td>\n",
       "      <td>8</td>\n",
       "      <td>9.293118e+08</td>\n",
       "      <td>7.434495e+09</td>\n",
       "    </tr>\n",
       "    <tr>\n",
       "      <th>646</th>\n",
       "      <td>James Bond Collection</td>\n",
       "      <td>26</td>\n",
       "      <td>2.733450e+08</td>\n",
       "      <td>7.106970e+09</td>\n",
       "    </tr>\n",
       "    <tr>\n",
       "      <th>1317</th>\n",
       "      <td>The Fast and the Furious Collection</td>\n",
       "      <td>8</td>\n",
       "      <td>6.406373e+08</td>\n",
       "      <td>5.125099e+09</td>\n",
       "    </tr>\n",
       "    <tr>\n",
       "      <th>968</th>\n",
       "      <td>Pirates of the Caribbean Collection</td>\n",
       "      <td>5</td>\n",
       "      <td>9.043154e+08</td>\n",
       "      <td>4.521577e+09</td>\n",
       "    </tr>\n",
       "    <tr>\n",
       "      <th>1550</th>\n",
       "      <td>Transformers Collection</td>\n",
       "      <td>5</td>\n",
       "      <td>8.732202e+08</td>\n",
       "      <td>4.366101e+09</td>\n",
       "    </tr>\n",
       "    <tr>\n",
       "      <th>325</th>\n",
       "      <td>Despicable Me Collection</td>\n",
       "      <td>4</td>\n",
       "      <td>9.227676e+08</td>\n",
       "      <td>3.691070e+09</td>\n",
       "    </tr>\n",
       "    <tr>\n",
       "      <th>1491</th>\n",
       "      <td>The Twilight Collection</td>\n",
       "      <td>5</td>\n",
       "      <td>6.684215e+08</td>\n",
       "      <td>3.342107e+09</td>\n",
       "    </tr>\n",
       "    <tr>\n",
       "      <th>610</th>\n",
       "      <td>Ice Age Collection</td>\n",
       "      <td>5</td>\n",
       "      <td>6.433417e+08</td>\n",
       "      <td>3.216709e+09</td>\n",
       "    </tr>\n",
       "    <tr>\n",
       "      <th>666</th>\n",
       "      <td>Jurassic Park Collection</td>\n",
       "      <td>4</td>\n",
       "      <td>7.578710e+08</td>\n",
       "      <td>3.031484e+09</td>\n",
       "    </tr>\n",
       "  </tbody>\n",
       "</table>\n",
       "</div>"
      ],
      "text/plain": [
       "                    belongs_to_collection  count          mean           sum\n",
       "552               Harry Potter Collection      8  9.634209e+08  7.707367e+09\n",
       "1160                 Star Wars Collection      8  9.293118e+08  7.434495e+09\n",
       "646                 James Bond Collection     26  2.733450e+08  7.106970e+09\n",
       "1317  The Fast and the Furious Collection      8  6.406373e+08  5.125099e+09\n",
       "968   Pirates of the Caribbean Collection      5  9.043154e+08  4.521577e+09\n",
       "1550              Transformers Collection      5  8.732202e+08  4.366101e+09\n",
       "325              Despicable Me Collection      4  9.227676e+08  3.691070e+09\n",
       "1491              The Twilight Collection      5  6.684215e+08  3.342107e+09\n",
       "610                    Ice Age Collection      5  6.433417e+08  3.216709e+09\n",
       "666              Jurassic Park Collection      4  7.578710e+08  3.031484e+09"
      ]
     },
     "execution_count": 24,
     "metadata": {},
     "output_type": "execute_result"
    }
   ],
   "source": [
    "fran_pivot.sort_values('sum', ascending=False).head(10)"
   ]
  },
  {
   "cell_type": "code",
   "execution_count": 25,
   "metadata": {
    "scrolled": true
   },
   "outputs": [
    {
     "data": {
      "text/html": [
       "<div>\n",
       "<style scoped>\n",
       "    .dataframe tbody tr th:only-of-type {\n",
       "        vertical-align: middle;\n",
       "    }\n",
       "\n",
       "    .dataframe tbody tr th {\n",
       "        vertical-align: top;\n",
       "    }\n",
       "\n",
       "    .dataframe thead th {\n",
       "        text-align: right;\n",
       "    }\n",
       "</style>\n",
       "<table border=\"1\" class=\"dataframe\">\n",
       "  <thead>\n",
       "    <tr style=\"text-align: right;\">\n",
       "      <th></th>\n",
       "      <th>belongs_to_collection</th>\n",
       "      <th>count</th>\n",
       "      <th>mean</th>\n",
       "      <th>sum</th>\n",
       "    </tr>\n",
       "  </thead>\n",
       "  <tbody>\n",
       "    <tr>\n",
       "      <th>112</th>\n",
       "      <td>Avatar Collection</td>\n",
       "      <td>1</td>\n",
       "      <td>2.787965e+09</td>\n",
       "      <td>2.787965e+09</td>\n",
       "    </tr>\n",
       "    <tr>\n",
       "      <th>1245</th>\n",
       "      <td>The Avengers Collection</td>\n",
       "      <td>2</td>\n",
       "      <td>1.462481e+09</td>\n",
       "      <td>2.924962e+09</td>\n",
       "    </tr>\n",
       "    <tr>\n",
       "      <th>479</th>\n",
       "      <td>Frozen Collection</td>\n",
       "      <td>1</td>\n",
       "      <td>1.274219e+09</td>\n",
       "      <td>1.274219e+09</td>\n",
       "    </tr>\n",
       "    <tr>\n",
       "      <th>446</th>\n",
       "      <td>Finding Nemo Collection</td>\n",
       "      <td>2</td>\n",
       "      <td>9.844532e+08</td>\n",
       "      <td>1.968906e+09</td>\n",
       "    </tr>\n",
       "    <tr>\n",
       "      <th>1352</th>\n",
       "      <td>The Hobbit Collection</td>\n",
       "      <td>3</td>\n",
       "      <td>9.785078e+08</td>\n",
       "      <td>2.935523e+09</td>\n",
       "    </tr>\n",
       "    <tr>\n",
       "      <th>1388</th>\n",
       "      <td>The Lord of the Rings Collection</td>\n",
       "      <td>3</td>\n",
       "      <td>9.721816e+08</td>\n",
       "      <td>2.916545e+09</td>\n",
       "    </tr>\n",
       "    <tr>\n",
       "      <th>552</th>\n",
       "      <td>Harry Potter Collection</td>\n",
       "      <td>8</td>\n",
       "      <td>9.634209e+08</td>\n",
       "      <td>7.707367e+09</td>\n",
       "    </tr>\n",
       "    <tr>\n",
       "      <th>1160</th>\n",
       "      <td>Star Wars Collection</td>\n",
       "      <td>8</td>\n",
       "      <td>9.293118e+08</td>\n",
       "      <td>7.434495e+09</td>\n",
       "    </tr>\n",
       "    <tr>\n",
       "      <th>325</th>\n",
       "      <td>Despicable Me Collection</td>\n",
       "      <td>4</td>\n",
       "      <td>9.227676e+08</td>\n",
       "      <td>3.691070e+09</td>\n",
       "    </tr>\n",
       "    <tr>\n",
       "      <th>968</th>\n",
       "      <td>Pirates of the Caribbean Collection</td>\n",
       "      <td>5</td>\n",
       "      <td>9.043154e+08</td>\n",
       "      <td>4.521577e+09</td>\n",
       "    </tr>\n",
       "  </tbody>\n",
       "</table>\n",
       "</div>"
      ],
      "text/plain": [
       "                    belongs_to_collection  count          mean           sum\n",
       "112                     Avatar Collection      1  2.787965e+09  2.787965e+09\n",
       "1245              The Avengers Collection      2  1.462481e+09  2.924962e+09\n",
       "479                     Frozen Collection      1  1.274219e+09  1.274219e+09\n",
       "446               Finding Nemo Collection      2  9.844532e+08  1.968906e+09\n",
       "1352                The Hobbit Collection      3  9.785078e+08  2.935523e+09\n",
       "1388     The Lord of the Rings Collection      3  9.721816e+08  2.916545e+09\n",
       "552               Harry Potter Collection      8  9.634209e+08  7.707367e+09\n",
       "1160                 Star Wars Collection      8  9.293118e+08  7.434495e+09\n",
       "325              Despicable Me Collection      4  9.227676e+08  3.691070e+09\n",
       "968   Pirates of the Caribbean Collection      5  9.043154e+08  4.521577e+09"
      ]
     },
     "execution_count": 25,
     "metadata": {},
     "output_type": "execute_result"
    }
   ],
   "source": [
    "fran_pivot.sort_values('mean', ascending=False).head(10)"
   ]
  },
  {
   "cell_type": "markdown",
   "metadata": {},
   "source": [
    "[The most commonly used word in movie titles](#themostcommonlyusedwordinmovietitles) \n",
    "\n",
    "[The most popular destinations for shooting movies](#themostpopulardestinationsforshootingmovies) \n",
    "\n",
    "[Highest Grossing Movie Franchises](#highestgrossingmoviefranchises) \n",
    "\n",
    "[Most Successful Movie Franchises](#mostsuccessfulmoviefranchises) \n",
    "\n",
    "[Longest Running Franchises](#longestrunningfranchises) \n",
    "\n",
    "[Highest Earning Production Companies](#highestearningproductioncompanies) \n",
    "\n",
    "[Most Succesful Production Companies](#mostsuccesfulproductioncompanies) \n",
    "\n",
    "[Original Language Distribution](#originallanguagedistribution) \n",
    "\n",
    "[Most Popular Movies by Popularity Score](#mostpopularmoviesbypopularityscore) \n",
    "\n",
    "[Most Voted on Movies](#mostvotedonmovies) \n",
    "\n",
    "[Most Critically Acclaimed Movies](#mostcriticallyacclaimedmovies) \n",
    "\n",
    "[The most popular and most successful months and days](#themostpopularandmostsuccessfulmonthsanddays) \n",
    "\n",
    "[Earliest Movies Represented](#earliestmoviesrepresented) \n",
    "\n",
    "[Does the number of spoken languages influence the success of a movie?](#doesthenumberofspokenlanguagesinfluencethesuccessofamovie)\n",
    "\n",
    "[Is there any meaningful relationship between runtime and return?](#isthereanymeaningfulrelationshipbetweenruntimeandreturn)\n",
    "\n",
    "[The longest and the shortest movies](#thelongestandtheshortestmovies)\n",
    "\n",
    "[Most Expensive Movies](#mostexpensivemovies)\n",
    "\n",
    "[Predict the revenue for movies](#predicttherevenueformovies)\n",
    "\n",
    "[Highest Grossing Films](#highestgrossingfilms)\n",
    "\n",
    "[The least and the most successful movies](#theleastandthemostsuccessfulmovies)\n",
    "\n",
    "[If some genres are particularly more successful than others](#ifsomegenresareparticularlymoresuccessfulthanothers)\n",
    "\n",
    "[Actors with Highest Average Revenue](#actorswithhighestaveragerevenue)\n",
    "\n",
    "[Most Successful Actors](#mostsuccessfulactors)\n",
    "\n",
    "[Regression: Predicting Movie Revenues](#regressionpredictingmovierevenues)\n",
    "\n",
    "[Classification: Predicting Movie Sucess](#classificationpredictingmoviesucess)"
   ]
  },
  {
   "cell_type": "markdown",
   "metadata": {},
   "source": [
    "<a id='themostcommonlyusedwordinmovietitles'></a>\n",
    "#### The most commonly used word in movie titles"
   ]
  },
  {
   "cell_type": "markdown",
   "metadata": {},
   "source": [
    "<a id='themostpopulardestinationsforshootingmovies'></a>\n",
    "#### The most popular destinations for shooting movies"
   ]
  },
  {
   "cell_type": "markdown",
   "metadata": {},
   "source": [
    "<a id='highestgrossingmoviefranchises'></a>\n",
    "#### Highest Grossing Movie Franchises"
   ]
  },
  {
   "cell_type": "markdown",
   "metadata": {},
   "source": [
    "<a id='mostsuccessfulmoviefranchises'></a> \n",
    "#### Most Successful Movie Franchises"
   ]
  },
  {
   "cell_type": "markdown",
   "metadata": {},
   "source": [
    "<a id='longestrunningfranchises'></a>\n",
    "#### Longest Running Franchises"
   ]
  },
  {
   "cell_type": "markdown",
   "metadata": {},
   "source": [
    "<a id='highestearningproductioncompanies'></a>\n",
    "#### Highest Earning Production Companies"
   ]
  },
  {
   "cell_type": "markdown",
   "metadata": {},
   "source": [
    "<a id='mostsuccesfulproductioncompanies'></a>\n",
    "#### Most Succesful Production Companies"
   ]
  },
  {
   "cell_type": "markdown",
   "metadata": {},
   "source": [
    "<a id='originallanguagedistribution'></a>\n",
    "#### Original Language Distribution"
   ]
  },
  {
   "cell_type": "markdown",
   "metadata": {},
   "source": [
    "<a id='mostpopularmoviesbypopularityscore'></a>\n",
    "#### Most Popular Movies by Popularity Score"
   ]
  },
  {
   "cell_type": "markdown",
   "metadata": {},
   "source": [
    "<a id='mostvotedonmovies'></a>\n",
    "#### Most Voted on Movies"
   ]
  },
  {
   "cell_type": "markdown",
   "metadata": {},
   "source": [
    "<a id='mostcriticallyacclaimedmovies'></a>\n",
    "#### Most Critically Acclaimed Movies"
   ]
  },
  {
   "cell_type": "markdown",
   "metadata": {},
   "source": [
    "<a id='themostpopularandmostsuccessfulmonthsanddays'></a>\n",
    "#### The most popular and most successful months and days"
   ]
  },
  {
   "cell_type": "markdown",
   "metadata": {},
   "source": [
    "<a id='earliestmoviesrepresented'></a>\n",
    "#### Earliest Movies Represented"
   ]
  },
  {
   "cell_type": "markdown",
   "metadata": {},
   "source": [
    "<a id='doesthenumberofspokenlanguagesinfluencethesuccessofamovie'></a>\n",
    "#### Does the number of spoken languages influence the success of a movie? "
   ]
  },
  {
   "cell_type": "markdown",
   "metadata": {},
   "source": [
    "<a id='isthereanymeaningfulrelationshipbetweenruntimeandreturn'></a>\n",
    "#### Is there any meaningful relationship between runtime and return?"
   ]
  },
  {
   "cell_type": "markdown",
   "metadata": {},
   "source": [
    "<a id='thelongestandtheshortestmovies'></a>\n",
    "#### The longest and the shortest movies"
   ]
  },
  {
   "cell_type": "markdown",
   "metadata": {},
   "source": [
    "<a id='mostexpensivemovies'></a>\n",
    "#### Most Expensive Movies "
   ]
  },
  {
   "cell_type": "markdown",
   "metadata": {},
   "source": [
    "<a id='predicttherevenueformovies'></a>\n",
    "#### Predict the revenue for movies"
   ]
  },
  {
   "cell_type": "markdown",
   "metadata": {},
   "source": [
    "<a id='highestgrossingfilms'></a>\n",
    "#### Highest Grossing Films "
   ]
  },
  {
   "cell_type": "markdown",
   "metadata": {},
   "source": [
    "<a id='theleastandthemostsuccessfulmovies'></a>\n",
    "#### The least and the most successful movies "
   ]
  },
  {
   "cell_type": "markdown",
   "metadata": {},
   "source": [
    "<a id='ifsomegenresareparticularlymoresuccessfulthanothers'></a>\n",
    "#### If some genres are particularly more successful than others"
   ]
  },
  {
   "cell_type": "markdown",
   "metadata": {},
   "source": [
    "<a id='actorswithhighestaveragerevenue'></a>\n",
    "#### Actors with Highest Average Revenue"
   ]
  },
  {
   "cell_type": "markdown",
   "metadata": {},
   "source": [
    "<a id='mostsuccessfuldirectors'></a>\n",
    "#### Most Successful Directors"
   ]
  },
  {
   "cell_type": "markdown",
   "metadata": {},
   "source": [
    "<a id='mostsuccessfulactors'></a>\n",
    "#### Most Successful Actors"
   ]
  },
  {
   "cell_type": "markdown",
   "metadata": {},
   "source": [
    "<a id='regressionpredictingmovierevenues'></a>\n",
    "#### Regression: Predicting Movie Revenues"
   ]
  },
  {
   "cell_type": "markdown",
   "metadata": {},
   "source": [
    "<a id='classificationpredictingmoviesucess'></a>\n",
    "#### Classification: Predicting Movie Sucess"
   ]
  },
  {
   "cell_type": "code",
   "execution_count": null,
   "metadata": {},
   "outputs": [],
   "source": []
  }
 ],
 "metadata": {
  "kernelspec": {
   "display_name": "Python 3",
   "language": "python",
   "name": "python3"
  },
  "language_info": {
   "codemirror_mode": {
    "name": "ipython",
    "version": 3
   },
   "file_extension": ".py",
   "mimetype": "text/x-python",
   "name": "python",
   "nbconvert_exporter": "python",
   "pygments_lexer": "ipython3",
   "version": "3.8.3"
  }
 },
 "nbformat": 4,
 "nbformat_minor": 4
}
