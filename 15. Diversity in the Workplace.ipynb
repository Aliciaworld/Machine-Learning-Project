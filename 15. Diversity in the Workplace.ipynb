{
 "cells": [
  {
   "cell_type": "markdown",
   "metadata": {},
   "source": [
    "# Project 15. Diversity in the Workplace"
   ]
  },
  {
   "cell_type": "code",
   "execution_count": 2,
   "metadata": {},
   "outputs": [],
   "source": [
    "import numpy as np\n",
    "import pandas as pd\n",
    "import matplotlib.pyplot as plt\n",
    "import seaborn as sns\n",
    "%matplotlib inline\n",
    "plt.style.use('ggplot')\n",
    "\n",
    "import scipy.stats as ss\n",
    "\n",
    "from sklearn.preprocessing import LabelEncoder\n",
    "from sklearn.model_selection import train_test_split,RandomizedSearchCV, GridSearchCV\n",
    "from sklearn.metrics import mean_squared_error\n",
    "from sklearn.feature_selection import chi2\n",
    "\n",
    "from sklearn.preprocessing import MinMaxScaler\n",
    "from sklearn.linear_model import LinearRegression\n",
    "from sklearn.svm import SVR\n",
    "from sklearn.neighbors import KNeighborsRegressor\n",
    "from sklearn.ensemble import RandomForestRegressor, GradientBoostingRegressor\n",
    "\n",
    "import xgboost as xgb"
   ]
  },
  {
   "cell_type": "markdown",
   "metadata": {},
   "source": [
    "# Table of Contents\n",
    "  1. [Read Data](#readdata)\n",
    "  2. [Answer to question 1](#answertoquestion1)\n",
    "  3. [Answer to question 2](#answertoquestion2)\n",
    "  4. [Answer to question 3](#answertoquestion3)"
   ]
  },
  {
   "cell_type": "markdown",
   "metadata": {},
   "source": [
    "<a id='read_data'></a>\n",
    "## Read Data"
   ]
  },
  {
   "cell_type": "code",
   "execution_count": 3,
   "metadata": {},
   "outputs": [
    {
     "data": {
      "text/html": [
       "<div>\n",
       "<style scoped>\n",
       "    .dataframe tbody tr th:only-of-type {\n",
       "        vertical-align: middle;\n",
       "    }\n",
       "\n",
       "    .dataframe tbody tr th {\n",
       "        vertical-align: top;\n",
       "    }\n",
       "\n",
       "    .dataframe thead th {\n",
       "        text-align: right;\n",
       "    }\n",
       "</style>\n",
       "<table border=\"1\" class=\"dataframe\">\n",
       "  <thead>\n",
       "    <tr style=\"text-align: right;\">\n",
       "      <th></th>\n",
       "      <th>boss_id</th>\n",
       "      <th>dept</th>\n",
       "    </tr>\n",
       "    <tr>\n",
       "      <th>employee_id</th>\n",
       "      <th></th>\n",
       "      <th></th>\n",
       "    </tr>\n",
       "  </thead>\n",
       "  <tbody>\n",
       "    <tr>\n",
       "      <th>46456</th>\n",
       "      <td>175361.0</td>\n",
       "      <td>sales</td>\n",
       "    </tr>\n",
       "    <tr>\n",
       "      <th>104708</th>\n",
       "      <td>29733.0</td>\n",
       "      <td>HR</td>\n",
       "    </tr>\n",
       "    <tr>\n",
       "      <th>120853</th>\n",
       "      <td>41991.0</td>\n",
       "      <td>sales</td>\n",
       "    </tr>\n",
       "    <tr>\n",
       "      <th>142630</th>\n",
       "      <td>171266.0</td>\n",
       "      <td>HR</td>\n",
       "    </tr>\n",
       "    <tr>\n",
       "      <th>72711</th>\n",
       "      <td>198240.0</td>\n",
       "      <td>sales</td>\n",
       "    </tr>\n",
       "  </tbody>\n",
       "</table>\n",
       "</div>"
      ],
      "text/plain": [
       "              boss_id   dept\n",
       "employee_id                 \n",
       "46456        175361.0  sales\n",
       "104708        29733.0     HR\n",
       "120853        41991.0  sales\n",
       "142630       171266.0     HR\n",
       "72711        198240.0  sales"
      ]
     },
     "execution_count": 3,
     "metadata": {},
     "output_type": "execute_result"
    }
   ],
   "source": [
    "# import data first and use the employee_id as the index\n",
    "company = pd.read_csv('~/company_hierarchy.csv', index_col = 'employee_id')\n",
    "company.head()"
   ]
  },
  {
   "cell_type": "code",
   "execution_count": 4,
   "metadata": {
    "scrolled": true
   },
   "outputs": [
    {
     "name": "stdout",
     "output_type": "stream",
     "text": [
      "<class 'pandas.core.frame.DataFrame'>\n",
      "Int64Index: 10000 entries, 46456 to 144338\n",
      "Data columns (total 2 columns):\n",
      " #   Column   Non-Null Count  Dtype  \n",
      "---  ------   --------------  -----  \n",
      " 0   boss_id  9999 non-null   float64\n",
      " 1   dept     10000 non-null  object \n",
      "dtypes: float64(1), object(1)\n",
      "memory usage: 234.4+ KB\n"
     ]
    }
   ],
   "source": [
    "company.info()"
   ]
  },
  {
   "cell_type": "code",
   "execution_count": 5,
   "metadata": {},
   "outputs": [
    {
     "data": {
      "text/plain": [
       "array(['sales', 'HR', 'engineering', 'marketing', 'CEO'], dtype=object)"
      ]
     },
     "execution_count": 5,
     "metadata": {},
     "output_type": "execute_result"
    }
   ],
   "source": [
    "company['dept'].unique()"
   ]
  },
  {
   "cell_type": "markdown",
   "metadata": {},
   "source": [
    "<a id='answertoquestion1'></a>\n",
    "## Answer to question 1\n",
    "In the company there are 6 levels(CEO, E, VP, D, MM, ID). Identify each employee's correspoinding level"
   ]
  },
  {
   "cell_type": "code",
   "execution_count": 6,
   "metadata": {},
   "outputs": [],
   "source": [
    "# First we add all the levels in a list\n",
    "levels = ['CEO', 'E', 'VP', 'D', 'MM', 'IC']\n",
    "# Since we just check 'CEO' is one of the company's department, so we can define its level directly\n",
    "company.loc[company['dept'] == 'CEO','level'] = 'CEO'\n",
    "\n",
    "# Since the boss levels occupy the indice from 0 to 4 in the levels, and the lase is the employee who don't manage anyone, we start from the biggest boss\n",
    "for i in range(0, len(levels)-1):\n",
    "    boss_level = levels[i]\n",
    "    employee_level = levels[i + 1]\n",
    "    boss_id = company[company['level'] == boss_level].index\n",
    "    company.loc[company['boss_id'].isin(boss_id), 'level'] = employee_level"
   ]
  },
  {
   "cell_type": "code",
   "execution_count": 7,
   "metadata": {},
   "outputs": [
    {
     "data": {
      "text/html": [
       "<div>\n",
       "<style scoped>\n",
       "    .dataframe tbody tr th:only-of-type {\n",
       "        vertical-align: middle;\n",
       "    }\n",
       "\n",
       "    .dataframe tbody tr th {\n",
       "        vertical-align: top;\n",
       "    }\n",
       "\n",
       "    .dataframe thead th {\n",
       "        text-align: right;\n",
       "    }\n",
       "</style>\n",
       "<table border=\"1\" class=\"dataframe\">\n",
       "  <thead>\n",
       "    <tr style=\"text-align: right;\">\n",
       "      <th></th>\n",
       "      <th>boss_id</th>\n",
       "      <th>dept</th>\n",
       "      <th>level</th>\n",
       "    </tr>\n",
       "    <tr>\n",
       "      <th>employee_id</th>\n",
       "      <th></th>\n",
       "      <th></th>\n",
       "      <th></th>\n",
       "    </tr>\n",
       "  </thead>\n",
       "  <tbody>\n",
       "    <tr>\n",
       "      <th>46456</th>\n",
       "      <td>175361.0</td>\n",
       "      <td>sales</td>\n",
       "      <td>IC</td>\n",
       "    </tr>\n",
       "    <tr>\n",
       "      <th>104708</th>\n",
       "      <td>29733.0</td>\n",
       "      <td>HR</td>\n",
       "      <td>IC</td>\n",
       "    </tr>\n",
       "    <tr>\n",
       "      <th>120853</th>\n",
       "      <td>41991.0</td>\n",
       "      <td>sales</td>\n",
       "      <td>IC</td>\n",
       "    </tr>\n",
       "    <tr>\n",
       "      <th>142630</th>\n",
       "      <td>171266.0</td>\n",
       "      <td>HR</td>\n",
       "      <td>MM</td>\n",
       "    </tr>\n",
       "    <tr>\n",
       "      <th>72711</th>\n",
       "      <td>198240.0</td>\n",
       "      <td>sales</td>\n",
       "      <td>IC</td>\n",
       "    </tr>\n",
       "  </tbody>\n",
       "</table>\n",
       "</div>"
      ],
      "text/plain": [
       "              boss_id   dept level\n",
       "employee_id                       \n",
       "46456        175361.0  sales    IC\n",
       "104708        29733.0     HR    IC\n",
       "120853        41991.0  sales    IC\n",
       "142630       171266.0     HR    MM\n",
       "72711        198240.0  sales    IC"
      ]
     },
     "execution_count": 7,
     "metadata": {},
     "output_type": "execute_result"
    }
   ],
   "source": [
    "company.head()"
   ]
  },
  {
   "cell_type": "code",
   "execution_count": 8,
   "metadata": {},
   "outputs": [
    {
     "data": {
      "text/html": [
       "<div>\n",
       "<style scoped>\n",
       "    .dataframe tbody tr th:only-of-type {\n",
       "        vertical-align: middle;\n",
       "    }\n",
       "\n",
       "    .dataframe tbody tr th {\n",
       "        vertical-align: top;\n",
       "    }\n",
       "\n",
       "    .dataframe thead th {\n",
       "        text-align: right;\n",
       "    }\n",
       "</style>\n",
       "<table border=\"1\" class=\"dataframe\">\n",
       "  <thead>\n",
       "    <tr style=\"text-align: right;\">\n",
       "      <th></th>\n",
       "      <th>level</th>\n",
       "    </tr>\n",
       "    <tr>\n",
       "      <th>employee_id</th>\n",
       "      <th></th>\n",
       "    </tr>\n",
       "  </thead>\n",
       "  <tbody>\n",
       "    <tr>\n",
       "      <th>46456</th>\n",
       "      <td>IC</td>\n",
       "    </tr>\n",
       "    <tr>\n",
       "      <th>104708</th>\n",
       "      <td>IC</td>\n",
       "    </tr>\n",
       "    <tr>\n",
       "      <th>120853</th>\n",
       "      <td>IC</td>\n",
       "    </tr>\n",
       "    <tr>\n",
       "      <th>142630</th>\n",
       "      <td>MM</td>\n",
       "    </tr>\n",
       "    <tr>\n",
       "      <th>72711</th>\n",
       "      <td>IC</td>\n",
       "    </tr>\n",
       "  </tbody>\n",
       "</table>\n",
       "</div>"
      ],
      "text/plain": [
       "            level\n",
       "employee_id      \n",
       "46456          IC\n",
       "104708         IC\n",
       "120853         IC\n",
       "142630         MM\n",
       "72711          IC"
      ]
     },
     "execution_count": 8,
     "metadata": {},
     "output_type": "execute_result"
    }
   ],
   "source": [
    "# discard other irrelavent information, just show the employee ids and their levels\n",
    "company.drop(['boss_id', 'dept'],axis = 1).head()"
   ]
  },
  {
   "cell_type": "code",
   "execution_count": 9,
   "metadata": {},
   "outputs": [
    {
     "data": {
      "text/plain": [
       "IC     9000\n",
       "MM      800\n",
       "D       160\n",
       "VP       35\n",
       "E         4\n",
       "CEO       1\n",
       "Name: level, dtype: int64"
      ]
     },
     "execution_count": 9,
     "metadata": {},
     "output_type": "execute_result"
    }
   ],
   "source": [
    "# show how many persons in each level \n",
    "company['level'].value_counts()"
   ]
  },
  {
   "cell_type": "markdown",
   "metadata": {},
   "source": [
    "<a id='answertoquestion2'></a>\n",
    "## Answer to question 2\n",
    "How many people each employee manages? You should have a table with employee ids and the number of people manages."
   ]
  },
  {
   "cell_type": "code",
   "execution_count": 10,
   "metadata": {},
   "outputs": [],
   "source": [
    "# add CEO's counts to the dataframe, CEO's number of people manages is all employees but himself\n",
    "company['counts'] = 0\n",
    "\n",
    "for level in ['IC', 'MM', 'D', 'VP', 'E']:\n",
    "    boss_ids = company[company['level'] == level]['boss_id']\n",
    "    employee_ids = company[company['level'] == level].index\n",
    "    \n",
    "    for boss_id, employee_id in zip(boss_ids, employee_ids):\n",
    "        boss_count = company[company['boss_id'] == boss_id]['counts'].count()\n",
    "        employee_count = company[company['boss_id'] == employee_id]['counts'].count()\n",
    "        company.loc[company.index == boss_id,'counts'] = boss_count + employee_count"
   ]
  },
  {
   "cell_type": "code",
   "execution_count": 11,
   "metadata": {},
   "outputs": [
    {
     "data": {
      "text/html": [
       "<div>\n",
       "<style scoped>\n",
       "    .dataframe tbody tr th:only-of-type {\n",
       "        vertical-align: middle;\n",
       "    }\n",
       "\n",
       "    .dataframe tbody tr th {\n",
       "        vertical-align: top;\n",
       "    }\n",
       "\n",
       "    .dataframe thead th {\n",
       "        text-align: right;\n",
       "    }\n",
       "</style>\n",
       "<table border=\"1\" class=\"dataframe\">\n",
       "  <thead>\n",
       "    <tr style=\"text-align: right;\">\n",
       "      <th></th>\n",
       "      <th>level</th>\n",
       "      <th>counts</th>\n",
       "    </tr>\n",
       "    <tr>\n",
       "      <th>employee_id</th>\n",
       "      <th></th>\n",
       "      <th></th>\n",
       "    </tr>\n",
       "  </thead>\n",
       "  <tbody>\n",
       "    <tr>\n",
       "      <th>46456</th>\n",
       "      <td>IC</td>\n",
       "      <td>0</td>\n",
       "    </tr>\n",
       "    <tr>\n",
       "      <th>104708</th>\n",
       "      <td>IC</td>\n",
       "      <td>0</td>\n",
       "    </tr>\n",
       "    <tr>\n",
       "      <th>120853</th>\n",
       "      <td>IC</td>\n",
       "      <td>0</td>\n",
       "    </tr>\n",
       "    <tr>\n",
       "      <th>142630</th>\n",
       "      <td>MM</td>\n",
       "      <td>16</td>\n",
       "    </tr>\n",
       "    <tr>\n",
       "      <th>72711</th>\n",
       "      <td>IC</td>\n",
       "      <td>0</td>\n",
       "    </tr>\n",
       "  </tbody>\n",
       "</table>\n",
       "</div>"
      ],
      "text/plain": [
       "            level  counts\n",
       "employee_id              \n",
       "46456          IC       0\n",
       "104708         IC       0\n",
       "120853         IC       0\n",
       "142630         MM      16\n",
       "72711          IC       0"
      ]
     },
     "execution_count": 11,
     "metadata": {},
     "output_type": "execute_result"
    }
   ],
   "source": [
    "# add CEO's counts to the dataframe, CEO's number of people manages is all employees but himself\n",
    "company.loc[company['level']=='CEO','counts'] = 9999\n",
    "\n",
    "# show the employee ids and the corresponding numbers of people manages.\n",
    "company[['level','counts']].head()"
   ]
  },
  {
   "cell_type": "markdown",
   "metadata": {},
   "source": [
    "<a id='answertoquestion3'></a>\n",
    "## Answer to question 3\n",
    "Build a model to predict the salary of each employee.\n",
    "### Data Cleaning and formatting"
   ]
  },
  {
   "cell_type": "code",
   "execution_count": 12,
   "metadata": {},
   "outputs": [
    {
     "data": {
      "text/html": [
       "<div>\n",
       "<style scoped>\n",
       "    .dataframe tbody tr th:only-of-type {\n",
       "        vertical-align: middle;\n",
       "    }\n",
       "\n",
       "    .dataframe tbody tr th {\n",
       "        vertical-align: top;\n",
       "    }\n",
       "\n",
       "    .dataframe thead th {\n",
       "        text-align: right;\n",
       "    }\n",
       "</style>\n",
       "<table border=\"1\" class=\"dataframe\">\n",
       "  <thead>\n",
       "    <tr style=\"text-align: right;\">\n",
       "      <th></th>\n",
       "      <th>signing_bonus</th>\n",
       "      <th>salary</th>\n",
       "      <th>degree_level</th>\n",
       "      <th>sex</th>\n",
       "      <th>yrs_experience</th>\n",
       "    </tr>\n",
       "    <tr>\n",
       "      <th>employee_id</th>\n",
       "      <th></th>\n",
       "      <th></th>\n",
       "      <th></th>\n",
       "      <th></th>\n",
       "      <th></th>\n",
       "    </tr>\n",
       "  </thead>\n",
       "  <tbody>\n",
       "    <tr>\n",
       "      <th>138719</th>\n",
       "      <td>0</td>\n",
       "      <td>273000.0</td>\n",
       "      <td>Master</td>\n",
       "      <td>M</td>\n",
       "      <td>2</td>\n",
       "    </tr>\n",
       "    <tr>\n",
       "      <th>3192</th>\n",
       "      <td>0</td>\n",
       "      <td>301000.0</td>\n",
       "      <td>Bachelor</td>\n",
       "      <td>F</td>\n",
       "      <td>1</td>\n",
       "    </tr>\n",
       "    <tr>\n",
       "      <th>114657</th>\n",
       "      <td>0</td>\n",
       "      <td>261000.0</td>\n",
       "      <td>Master</td>\n",
       "      <td>F</td>\n",
       "      <td>2</td>\n",
       "    </tr>\n",
       "    <tr>\n",
       "      <th>29039</th>\n",
       "      <td>0</td>\n",
       "      <td>86000.0</td>\n",
       "      <td>High_School</td>\n",
       "      <td>F</td>\n",
       "      <td>4</td>\n",
       "    </tr>\n",
       "    <tr>\n",
       "      <th>118607</th>\n",
       "      <td>0</td>\n",
       "      <td>126000.0</td>\n",
       "      <td>Bachelor</td>\n",
       "      <td>F</td>\n",
       "      <td>3</td>\n",
       "    </tr>\n",
       "  </tbody>\n",
       "</table>\n",
       "</div>"
      ],
      "text/plain": [
       "             signing_bonus    salary degree_level sex  yrs_experience\n",
       "employee_id                                                          \n",
       "138719                   0  273000.0       Master   M               2\n",
       "3192                     0  301000.0     Bachelor   F               1\n",
       "114657                   0  261000.0       Master   F               2\n",
       "29039                    0   86000.0  High_School   F               4\n",
       "118607                   0  126000.0     Bachelor   F               3"
      ]
     },
     "execution_count": 12,
     "metadata": {},
     "output_type": "execute_result"
    }
   ],
   "source": [
    "# load another file\n",
    "employee = pd.read_csv('~/employee.csv', index_col = 'employee_id')\n",
    "employee.head()"
   ]
  },
  {
   "cell_type": "code",
   "execution_count": 13,
   "metadata": {},
   "outputs": [
    {
     "data": {
      "text/html": [
       "<div>\n",
       "<style scoped>\n",
       "    .dataframe tbody tr th:only-of-type {\n",
       "        vertical-align: middle;\n",
       "    }\n",
       "\n",
       "    .dataframe tbody tr th {\n",
       "        vertical-align: top;\n",
       "    }\n",
       "\n",
       "    .dataframe thead th {\n",
       "        text-align: right;\n",
       "    }\n",
       "</style>\n",
       "<table border=\"1\" class=\"dataframe\">\n",
       "  <thead>\n",
       "    <tr style=\"text-align: right;\">\n",
       "      <th></th>\n",
       "      <th>signing_bonus</th>\n",
       "      <th>salary</th>\n",
       "      <th>degree_level</th>\n",
       "      <th>sex</th>\n",
       "      <th>yrs_experience</th>\n",
       "      <th>boss_id</th>\n",
       "      <th>dept</th>\n",
       "      <th>level</th>\n",
       "      <th>counts</th>\n",
       "    </tr>\n",
       "    <tr>\n",
       "      <th>employee_id</th>\n",
       "      <th></th>\n",
       "      <th></th>\n",
       "      <th></th>\n",
       "      <th></th>\n",
       "      <th></th>\n",
       "      <th></th>\n",
       "      <th></th>\n",
       "      <th></th>\n",
       "      <th></th>\n",
       "    </tr>\n",
       "  </thead>\n",
       "  <tbody>\n",
       "    <tr>\n",
       "      <th>138719</th>\n",
       "      <td>0</td>\n",
       "      <td>273000.0</td>\n",
       "      <td>Master</td>\n",
       "      <td>M</td>\n",
       "      <td>2</td>\n",
       "      <td>43602.0</td>\n",
       "      <td>engineering</td>\n",
       "      <td>IC</td>\n",
       "      <td>0</td>\n",
       "    </tr>\n",
       "    <tr>\n",
       "      <th>3192</th>\n",
       "      <td>0</td>\n",
       "      <td>301000.0</td>\n",
       "      <td>Bachelor</td>\n",
       "      <td>F</td>\n",
       "      <td>1</td>\n",
       "      <td>87847.0</td>\n",
       "      <td>sales</td>\n",
       "      <td>IC</td>\n",
       "      <td>0</td>\n",
       "    </tr>\n",
       "    <tr>\n",
       "      <th>114657</th>\n",
       "      <td>0</td>\n",
       "      <td>261000.0</td>\n",
       "      <td>Master</td>\n",
       "      <td>F</td>\n",
       "      <td>2</td>\n",
       "      <td>180854.0</td>\n",
       "      <td>sales</td>\n",
       "      <td>IC</td>\n",
       "      <td>0</td>\n",
       "    </tr>\n",
       "    <tr>\n",
       "      <th>29039</th>\n",
       "      <td>0</td>\n",
       "      <td>86000.0</td>\n",
       "      <td>High_School</td>\n",
       "      <td>F</td>\n",
       "      <td>4</td>\n",
       "      <td>88370.0</td>\n",
       "      <td>HR</td>\n",
       "      <td>IC</td>\n",
       "      <td>0</td>\n",
       "    </tr>\n",
       "    <tr>\n",
       "      <th>118607</th>\n",
       "      <td>0</td>\n",
       "      <td>126000.0</td>\n",
       "      <td>Bachelor</td>\n",
       "      <td>F</td>\n",
       "      <td>3</td>\n",
       "      <td>23565.0</td>\n",
       "      <td>sales</td>\n",
       "      <td>IC</td>\n",
       "      <td>0</td>\n",
       "    </tr>\n",
       "  </tbody>\n",
       "</table>\n",
       "</div>"
      ],
      "text/plain": [
       "             signing_bonus    salary degree_level sex  yrs_experience  \\\n",
       "employee_id                                                             \n",
       "138719                   0  273000.0       Master   M               2   \n",
       "3192                     0  301000.0     Bachelor   F               1   \n",
       "114657                   0  261000.0       Master   F               2   \n",
       "29039                    0   86000.0  High_School   F               4   \n",
       "118607                   0  126000.0     Bachelor   F               3   \n",
       "\n",
       "              boss_id         dept level  counts  \n",
       "employee_id                                       \n",
       "138719        43602.0  engineering    IC       0  \n",
       "3192          87847.0        sales    IC       0  \n",
       "114657       180854.0        sales    IC       0  \n",
       "29039         88370.0           HR    IC       0  \n",
       "118607        23565.0        sales    IC       0  "
      ]
     },
     "execution_count": 13,
     "metadata": {},
     "output_type": "execute_result"
    }
   ],
   "source": [
    "# join two table together\n",
    "data = employee.join(company)\n",
    "data.head()"
   ]
  },
  {
   "cell_type": "code",
   "execution_count": 14,
   "metadata": {},
   "outputs": [
    {
     "data": {
      "text/html": [
       "<div>\n",
       "<style scoped>\n",
       "    .dataframe tbody tr th:only-of-type {\n",
       "        vertical-align: middle;\n",
       "    }\n",
       "\n",
       "    .dataframe tbody tr th {\n",
       "        vertical-align: top;\n",
       "    }\n",
       "\n",
       "    .dataframe thead th {\n",
       "        text-align: right;\n",
       "    }\n",
       "</style>\n",
       "<table border=\"1\" class=\"dataframe\">\n",
       "  <thead>\n",
       "    <tr style=\"text-align: right;\">\n",
       "      <th></th>\n",
       "      <th>signing_bonus</th>\n",
       "      <th>salary</th>\n",
       "      <th>yrs_experience</th>\n",
       "      <th>boss_id</th>\n",
       "      <th>counts</th>\n",
       "    </tr>\n",
       "  </thead>\n",
       "  <tbody>\n",
       "    <tr>\n",
       "      <th>count</th>\n",
       "      <td>10000.000000</td>\n",
       "      <td>10000.000000</td>\n",
       "      <td>10000.000000</td>\n",
       "      <td>9999.000000</td>\n",
       "      <td>10000.000000</td>\n",
       "    </tr>\n",
       "    <tr>\n",
       "      <th>mean</th>\n",
       "      <td>0.301400</td>\n",
       "      <td>189111.800000</td>\n",
       "      <td>3.875200</td>\n",
       "      <td>103299.980498</td>\n",
       "      <td>2.199500</td>\n",
       "    </tr>\n",
       "    <tr>\n",
       "      <th>std</th>\n",
       "      <td>0.458889</td>\n",
       "      <td>88973.796898</td>\n",
       "      <td>3.107409</td>\n",
       "      <td>57508.798817</td>\n",
       "      <td>100.050276</td>\n",
       "    </tr>\n",
       "    <tr>\n",
       "      <th>min</th>\n",
       "      <td>0.000000</td>\n",
       "      <td>60000.000000</td>\n",
       "      <td>1.000000</td>\n",
       "      <td>79.000000</td>\n",
       "      <td>0.000000</td>\n",
       "    </tr>\n",
       "    <tr>\n",
       "      <th>25%</th>\n",
       "      <td>0.000000</td>\n",
       "      <td>110000.000000</td>\n",
       "      <td>2.000000</td>\n",
       "      <td>55883.000000</td>\n",
       "      <td>0.000000</td>\n",
       "    </tr>\n",
       "    <tr>\n",
       "      <th>50%</th>\n",
       "      <td>0.000000</td>\n",
       "      <td>182000.000000</td>\n",
       "      <td>3.000000</td>\n",
       "      <td>102712.000000</td>\n",
       "      <td>0.000000</td>\n",
       "    </tr>\n",
       "    <tr>\n",
       "      <th>75%</th>\n",
       "      <td>1.000000</td>\n",
       "      <td>255000.000000</td>\n",
       "      <td>5.000000</td>\n",
       "      <td>152288.000000</td>\n",
       "      <td>0.000000</td>\n",
       "    </tr>\n",
       "    <tr>\n",
       "      <th>max</th>\n",
       "      <td>1.000000</td>\n",
       "      <td>700000.000000</td>\n",
       "      <td>34.000000</td>\n",
       "      <td>199950.000000</td>\n",
       "      <td>9999.000000</td>\n",
       "    </tr>\n",
       "  </tbody>\n",
       "</table>\n",
       "</div>"
      ],
      "text/plain": [
       "       signing_bonus         salary  yrs_experience        boss_id  \\\n",
       "count   10000.000000   10000.000000    10000.000000    9999.000000   \n",
       "mean        0.301400  189111.800000        3.875200  103299.980498   \n",
       "std         0.458889   88973.796898        3.107409   57508.798817   \n",
       "min         0.000000   60000.000000        1.000000      79.000000   \n",
       "25%         0.000000  110000.000000        2.000000   55883.000000   \n",
       "50%         0.000000  182000.000000        3.000000  102712.000000   \n",
       "75%         1.000000  255000.000000        5.000000  152288.000000   \n",
       "max         1.000000  700000.000000       34.000000  199950.000000   \n",
       "\n",
       "             counts  \n",
       "count  10000.000000  \n",
       "mean       2.199500  \n",
       "std      100.050276  \n",
       "min        0.000000  \n",
       "25%        0.000000  \n",
       "50%        0.000000  \n",
       "75%        0.000000  \n",
       "max     9999.000000  "
      ]
     },
     "execution_count": 14,
     "metadata": {},
     "output_type": "execute_result"
    }
   ],
   "source": [
    "data.describe()"
   ]
  },
  {
   "cell_type": "markdown",
   "metadata": {},
   "source": [
    "### EDA "
   ]
  },
  {
   "cell_type": "code",
   "execution_count": 15,
   "metadata": {},
   "outputs": [
    {
     "data": {
      "text/html": [
       "<div>\n",
       "<style scoped>\n",
       "    .dataframe tbody tr th:only-of-type {\n",
       "        vertical-align: middle;\n",
       "    }\n",
       "\n",
       "    .dataframe tbody tr th {\n",
       "        vertical-align: top;\n",
       "    }\n",
       "\n",
       "    .dataframe thead th {\n",
       "        text-align: right;\n",
       "    }\n",
       "</style>\n",
       "<table border=\"1\" class=\"dataframe\">\n",
       "  <thead>\n",
       "    <tr style=\"text-align: right;\">\n",
       "      <th></th>\n",
       "      <th>signing_bonus</th>\n",
       "      <th>salary</th>\n",
       "      <th>degree_level</th>\n",
       "      <th>sex</th>\n",
       "      <th>yrs_experience</th>\n",
       "      <th>dept</th>\n",
       "      <th>level</th>\n",
       "      <th>counts</th>\n",
       "    </tr>\n",
       "    <tr>\n",
       "      <th>employee_id</th>\n",
       "      <th></th>\n",
       "      <th></th>\n",
       "      <th></th>\n",
       "      <th></th>\n",
       "      <th></th>\n",
       "      <th></th>\n",
       "      <th></th>\n",
       "      <th></th>\n",
       "    </tr>\n",
       "  </thead>\n",
       "  <tbody>\n",
       "    <tr>\n",
       "      <th>138719</th>\n",
       "      <td>0</td>\n",
       "      <td>273000.0</td>\n",
       "      <td>Master</td>\n",
       "      <td>M</td>\n",
       "      <td>2</td>\n",
       "      <td>engineering</td>\n",
       "      <td>IC</td>\n",
       "      <td>0</td>\n",
       "    </tr>\n",
       "    <tr>\n",
       "      <th>3192</th>\n",
       "      <td>0</td>\n",
       "      <td>301000.0</td>\n",
       "      <td>Bachelor</td>\n",
       "      <td>F</td>\n",
       "      <td>1</td>\n",
       "      <td>sales</td>\n",
       "      <td>IC</td>\n",
       "      <td>0</td>\n",
       "    </tr>\n",
       "    <tr>\n",
       "      <th>114657</th>\n",
       "      <td>0</td>\n",
       "      <td>261000.0</td>\n",
       "      <td>Master</td>\n",
       "      <td>F</td>\n",
       "      <td>2</td>\n",
       "      <td>sales</td>\n",
       "      <td>IC</td>\n",
       "      <td>0</td>\n",
       "    </tr>\n",
       "    <tr>\n",
       "      <th>29039</th>\n",
       "      <td>0</td>\n",
       "      <td>86000.0</td>\n",
       "      <td>High_School</td>\n",
       "      <td>F</td>\n",
       "      <td>4</td>\n",
       "      <td>HR</td>\n",
       "      <td>IC</td>\n",
       "      <td>0</td>\n",
       "    </tr>\n",
       "    <tr>\n",
       "      <th>118607</th>\n",
       "      <td>0</td>\n",
       "      <td>126000.0</td>\n",
       "      <td>Bachelor</td>\n",
       "      <td>F</td>\n",
       "      <td>3</td>\n",
       "      <td>sales</td>\n",
       "      <td>IC</td>\n",
       "      <td>0</td>\n",
       "    </tr>\n",
       "  </tbody>\n",
       "</table>\n",
       "</div>"
      ],
      "text/plain": [
       "             signing_bonus    salary degree_level sex  yrs_experience  \\\n",
       "employee_id                                                             \n",
       "138719                   0  273000.0       Master   M               2   \n",
       "3192                     0  301000.0     Bachelor   F               1   \n",
       "114657                   0  261000.0       Master   F               2   \n",
       "29039                    0   86000.0  High_School   F               4   \n",
       "118607                   0  126000.0     Bachelor   F               3   \n",
       "\n",
       "                    dept level  counts  \n",
       "employee_id                             \n",
       "138719       engineering    IC       0  \n",
       "3192               sales    IC       0  \n",
       "114657             sales    IC       0  \n",
       "29039                 HR    IC       0  \n",
       "118607             sales    IC       0  "
      ]
     },
     "execution_count": 15,
     "metadata": {},
     "output_type": "execute_result"
    }
   ],
   "source": [
    "# Before we do any further EDA, we first delete some irrelevant fields, which have no effect on the target.\n",
    "final = data.copy()\n",
    "final.drop(['boss_id'],axis=1,inplace = True)\n",
    "final.head()"
   ]
  },
  {
   "cell_type": "markdown",
   "metadata": {},
   "source": [
    "#### Distribution of target"
   ]
  },
  {
   "cell_type": "code",
   "execution_count": 16,
   "metadata": {},
   "outputs": [
    {
     "data": {
      "text/plain": [
       "<matplotlib.axes._subplots.AxesSubplot at 0x14d449ddc10>"
      ]
     },
     "execution_count": 16,
     "metadata": {},
     "output_type": "execute_result"
    },
    {
     "data": {
      "image/png": "[encoded data removed]",
      "text/plain": [
       "<Figure size 432x288 with 1 Axes>"
      ]
     },
     "metadata": {},
     "output_type": "display_data"
    }
   ],
   "source": [
    "# check the distribution of salary\n",
    "final['salary'].hist(bins=50,edgecolor='black')"
   ]
  },
  {
   "cell_type": "markdown",
   "metadata": {},
   "source": [
    "From above histogram of salary, there are two phenomenon: **1)** salary's distribution is **highly skewed**, which increase the difficulty on regression. I can transfer the original data to log values; **2)** There are **outlier(s)** in the salary, which are far more than the normal ditribution of salary, I should drop that."
   ]
  },
  {
   "cell_type": "markdown",
   "metadata": {},
   "source": [
    "#### 1) Transfer target field and make it more balanced"
   ]
  },
  {
   "cell_type": "code",
   "execution_count": 17,
   "metadata": {},
   "outputs": [
    {
     "data": {
      "text/plain": [
       "<matplotlib.axes._subplots.AxesSubplot at 0x14d4491f6d0>"
      ]
     },
     "execution_count": 17,
     "metadata": {},
     "output_type": "execute_result"
    },
    {
     "data": {
      "image/png": "[encoded data removed]",
      "text/plain": [
       "<Figure size 432x288 with 1 Axes>"
      ]
     },
     "metadata": {},
     "output_type": "display_data"
    }
   ],
   "source": [
    "final['salary'] = np.log(final['salary'])\n",
    "final['salary'].hist(bins = 50, edgecolor='black')"
   ]
  },
  {
   "cell_type": "markdown",
   "metadata": {},
   "source": [
    "After the log transformation, the distribution of salary is more balanced."
   ]
  },
  {
   "cell_type": "markdown",
   "metadata": {},
   "source": [
    "#### 2) Check outlier and remove"
   ]
  },
  {
   "cell_type": "code",
   "execution_count": 18,
   "metadata": {},
   "outputs": [],
   "source": [
    "# Outlier are extreme values. One of its definationa are any data values which lie more than 3 times the interquartile range below the first quartile or above the thir quartile. Therefore, the lower end will be 'First Quartile - 3 * Interquartile Range', and the higher end will be 'Third Quartile + 3 * Interquartile Range'\n",
    "first_quantile = final['salary'].describe()['25%']\n",
    "third_quantile = final['salary'].describe()['75%']\n",
    "\n",
    "# Interquartile range\n",
    "iqr = third_quantile - first_quantile\n",
    "\n",
    "# remove the outliers\n",
    "final = final[(final['salary'] > (first_quantile - 3*iqr)) & (final['salary'] < (third_quantile + 3*iqr))]"
   ]
  },
  {
   "cell_type": "code",
   "execution_count": 19,
   "metadata": {},
   "outputs": [
    {
     "name": "stdout",
     "output_type": "stream",
     "text": [
      "<class 'pandas.core.frame.DataFrame'>\n",
      "Int64Index: 10000 entries, 138719 to 72227\n",
      "Data columns (total 8 columns):\n",
      " #   Column          Non-Null Count  Dtype  \n",
      "---  ------          --------------  -----  \n",
      " 0   signing_bonus   10000 non-null  int64  \n",
      " 1   salary          10000 non-null  float64\n",
      " 2   degree_level    10000 non-null  object \n",
      " 3   sex             10000 non-null  object \n",
      " 4   yrs_experience  10000 non-null  int64  \n",
      " 5   dept            10000 non-null  object \n",
      " 6   level           10000 non-null  object \n",
      " 7   counts          10000 non-null  int64  \n",
      "dtypes: float64(1), int64(3), object(4)\n",
      "memory usage: 703.1+ KB\n"
     ]
    }
   ],
   "source": [
    "final.info()"
   ]
  },
  {
   "cell_type": "code",
   "execution_count": 20,
   "metadata": {},
   "outputs": [
    {
     "data": {
      "text/html": [
       "<div>\n",
       "<style scoped>\n",
       "    .dataframe tbody tr th:only-of-type {\n",
       "        vertical-align: middle;\n",
       "    }\n",
       "\n",
       "    .dataframe tbody tr th {\n",
       "        vertical-align: top;\n",
       "    }\n",
       "\n",
       "    .dataframe thead th {\n",
       "        text-align: right;\n",
       "    }\n",
       "</style>\n",
       "<table border=\"1\" class=\"dataframe\">\n",
       "  <thead>\n",
       "    <tr style=\"text-align: right;\">\n",
       "      <th></th>\n",
       "      <th>signing_bonus</th>\n",
       "      <th>salary</th>\n",
       "      <th>yrs_experience</th>\n",
       "      <th>counts</th>\n",
       "    </tr>\n",
       "  </thead>\n",
       "  <tbody>\n",
       "    <tr>\n",
       "      <th>count</th>\n",
       "      <td>10000.000000</td>\n",
       "      <td>10000.000000</td>\n",
       "      <td>10000.000000</td>\n",
       "      <td>10000.000000</td>\n",
       "    </tr>\n",
       "    <tr>\n",
       "      <th>mean</th>\n",
       "      <td>0.301400</td>\n",
       "      <td>12.026718</td>\n",
       "      <td>3.875200</td>\n",
       "      <td>2.199500</td>\n",
       "    </tr>\n",
       "    <tr>\n",
       "      <th>std</th>\n",
       "      <td>0.458889</td>\n",
       "      <td>0.515792</td>\n",
       "      <td>3.107409</td>\n",
       "      <td>100.050276</td>\n",
       "    </tr>\n",
       "    <tr>\n",
       "      <th>min</th>\n",
       "      <td>0.000000</td>\n",
       "      <td>11.002100</td>\n",
       "      <td>1.000000</td>\n",
       "      <td>0.000000</td>\n",
       "    </tr>\n",
       "    <tr>\n",
       "      <th>25%</th>\n",
       "      <td>0.000000</td>\n",
       "      <td>11.608236</td>\n",
       "      <td>2.000000</td>\n",
       "      <td>0.000000</td>\n",
       "    </tr>\n",
       "    <tr>\n",
       "      <th>50%</th>\n",
       "      <td>0.000000</td>\n",
       "      <td>12.111762</td>\n",
       "      <td>3.000000</td>\n",
       "      <td>0.000000</td>\n",
       "    </tr>\n",
       "    <tr>\n",
       "      <th>75%</th>\n",
       "      <td>1.000000</td>\n",
       "      <td>12.449019</td>\n",
       "      <td>5.000000</td>\n",
       "      <td>0.000000</td>\n",
       "    </tr>\n",
       "    <tr>\n",
       "      <th>max</th>\n",
       "      <td>1.000000</td>\n",
       "      <td>13.458836</td>\n",
       "      <td>34.000000</td>\n",
       "      <td>9999.000000</td>\n",
       "    </tr>\n",
       "  </tbody>\n",
       "</table>\n",
       "</div>"
      ],
      "text/plain": [
       "       signing_bonus        salary  yrs_experience        counts\n",
       "count   10000.000000  10000.000000    10000.000000  10000.000000\n",
       "mean        0.301400     12.026718        3.875200      2.199500\n",
       "std         0.458889      0.515792        3.107409    100.050276\n",
       "min         0.000000     11.002100        1.000000      0.000000\n",
       "25%         0.000000     11.608236        2.000000      0.000000\n",
       "50%         0.000000     12.111762        3.000000      0.000000\n",
       "75%         1.000000     12.449019        5.000000      0.000000\n",
       "max         1.000000     13.458836       34.000000   9999.000000"
      ]
     },
     "execution_count": 20,
     "metadata": {},
     "output_type": "execute_result"
    }
   ],
   "source": [
    "final.describe()"
   ]
  },
  {
   "cell_type": "markdown",
   "metadata": {},
   "source": [
    "From the above information, we can easily found that there are no NaN values in the dataset, and the outlier has been dropped."
   ]
  },
  {
   "cell_type": "markdown",
   "metadata": {},
   "source": [
    "#### Looking for relationships between categorical variables and target"
   ]
  },
  {
   "cell_type": "markdown",
   "metadata": {},
   "source": [
    "In order to look at the effect of categorical variables on the target, we can make a **density plot** colored by the value of the categorical variable. Density plots show the distribution of a single variable and can be thought of as a smoothed histogram. When we color the density curve by a categorical variable, this will show how the distribution changes based on the class."
   ]
  },
  {
   "cell_type": "code",
   "execution_count": 21,
   "metadata": {},
   "outputs": [
    {
     "data": {
      "text/plain": [
       "Text(0.5, 1.0, 'Salary by degree_level')"
      ]
     },
     "execution_count": 21,
     "metadata": {},
     "output_type": "execute_result"
    },
    {
     "data": {
      "image/png": "[encoded data removed]",
      "text/plain": [
       "<Figure size 432x288 with 1 Axes>"
      ]
     },
     "metadata": {},
     "output_type": "display_data"
    }
   ],
   "source": [
    "# check the relathionships between \"degree_level\" and salary\n",
    "sns.kdeplot(x='salary',data=final, hue='degree_level')\n",
    "plt.title('Salary by degree_level', size = 14)"
   ]
  },
  {
   "cell_type": "markdown",
   "metadata": {},
   "source": [
    "It can be seen that the \"degree_level\" have some effect on the \"salary\". We should include this feature in the model. Since for any categorical variales, it has to be one-hot encoded before it is fed into a machine learning model.And we'll do that later."
   ]
  },
  {
   "cell_type": "code",
   "execution_count": 22,
   "metadata": {},
   "outputs": [
    {
     "data": {
      "text/plain": [
       "Text(0.5, 1.0, 'Salary by sex')"
      ]
     },
     "execution_count": 22,
     "metadata": {},
     "output_type": "execute_result"
    },
    {
     "data": {
      "image/png": "[encoded data removed]",
      "text/plain": [
       "<Figure size 432x288 with 1 Axes>"
      ]
     },
     "metadata": {},
     "output_type": "display_data"
    }
   ],
   "source": [
    "# Check the relationship between \"sex\" and salary\n",
    "sns.kdeplot(data = final,x = 'salary',hue ='sex')\n",
    "plt.title('Salary by sex', size = 14)"
   ]
  },
  {
   "cell_type": "code",
   "execution_count": 23,
   "metadata": {},
   "outputs": [
    {
     "name": "stderr",
     "output_type": "stream",
     "text": [
      "C:\\Users\\xiaoj\\anaconda3\\lib\\site-packages\\seaborn\\distributions.py:306: UserWarning: Dataset has 0 variance; skipping density estimate.\n",
      "  warnings.warn(msg, UserWarning)\n"
     ]
    },
    {
     "data": {
      "text/plain": [
       "Text(0.5, 1.0, 'Salary by level')"
      ]
     },
     "execution_count": 23,
     "metadata": {},
     "output_type": "execute_result"
    },
    {
     "data": {
      "image/png": "[encoded data removed]",
      "text/plain": [
       "<Figure size 432x288 with 1 Axes>"
      ]
     },
     "metadata": {},
     "output_type": "display_data"
    }
   ],
   "source": [
    "# Check the relationship between \"dept\" and \"salary\"\n",
    "sns.kdeplot(x='salary',data = final, hue='level')\n",
    "plt.title('Salary by level', size = 14)"
   ]
  },
  {
   "cell_type": "code",
   "execution_count": 24,
   "metadata": {},
   "outputs": [
    {
     "name": "stderr",
     "output_type": "stream",
     "text": [
      "C:\\Users\\xiaoj\\anaconda3\\lib\\site-packages\\seaborn\\distributions.py:306: UserWarning: Dataset has 0 variance; skipping density estimate.\n",
      "  warnings.warn(msg, UserWarning)\n"
     ]
    },
    {
     "data": {
      "text/plain": [
       "Text(0.5, 1.0, 'Salary by Department')"
      ]
     },
     "execution_count": 24,
     "metadata": {},
     "output_type": "execute_result"
    },
    {
     "data": {
      "image/png": "[encoded data removed]",
      "text/plain": [
       "<Figure size 432x288 with 1 Axes>"
      ]
     },
     "metadata": {},
     "output_type": "display_data"
    }
   ],
   "source": [
    "# Check the relationship between dep and salary\n",
    "sns.kdeplot(x = 'salary',data = final, hue='dept')\n",
    "plt.title('Salary by Department', size = 14)"
   ]
  },
  {
   "cell_type": "markdown",
   "metadata": {},
   "source": [
    "Same with \"degree_level\", it can be found that \"sex\",\"level\",\"dept\" does have effects on the \"salary\". So we should include all these four categorical variables when building the model.Before building the ML model, we need to firstly transfer them to be numerical."
   ]
  },
  {
   "cell_type": "markdown",
   "metadata": {},
   "source": [
    "#### Correlation coefficients between features and target\n",
    "Here I use **Pearson correlation coefficient** to calculate the strength and direction of the linear relationship between feature and target. Although there can be non-linear relationships between the features and target, and correlation coefficients don't account for such non-linear relationships, linear relationships are still a good way to explore trends in the data. We can use them to select the features to employ in the ML model."
   ]
  },
  {
   "cell_type": "code",
   "execution_count": 25,
   "metadata": {},
   "outputs": [
    {
     "data": {
      "text/plain": [
       "counts            0.029262\n",
       "yrs_experience    0.042502\n",
       "signing_bonus     0.113890\n",
       "salary            1.000000\n",
       "Name: salary, dtype: float64"
      ]
     },
     "execution_count": 25,
     "metadata": {},
     "output_type": "execute_result"
    }
   ],
   "source": [
    "final.corr()['salary'].sort_values()"
   ]
  },
  {
   "cell_type": "markdown",
   "metadata": {},
   "source": [
    "To account for possible non-linear relationships, we take square root and natural log transformations of the numeric features and then calculate the correlation coefficients with the salary. At the same time, to capture any possible relationships between the categorical and salary, we will have to one-hot encode these features."
   ]
  },
  {
   "cell_type": "code",
   "execution_count": 26,
   "metadata": {},
   "outputs": [
    {
     "name": "stderr",
     "output_type": "stream",
     "text": [
      "<ipython-input-26-63e67a55deae>:10: SettingWithCopyWarning: \n",
      "A value is trying to be set on a copy of a slice from a DataFrame.\n",
      "Try using .loc[row_indexer,col_indexer] = value instead\n",
      "\n",
      "See the caveats in the documentation: https://pandas.pydata.org/pandas-docs/stable/user_guide/indexing.html#returning-a-view-versus-a-copy\n",
      "  numerical_subset['sqrt_' + col] = np.sqrt(numerical_subset[col])\n",
      "C:\\Users\\xiaoj\\anaconda3\\lib\\site-packages\\pandas\\core\\series.py:679: RuntimeWarning: divide by zero encountered in log\n",
      "  result = getattr(ufunc, method)(*inputs, **kwargs)\n",
      "<ipython-input-26-63e67a55deae>:11: SettingWithCopyWarning: \n",
      "A value is trying to be set on a copy of a slice from a DataFrame.\n",
      "Try using .loc[row_indexer,col_indexer] = value instead\n",
      "\n",
      "See the caveats in the documentation: https://pandas.pydata.org/pandas-docs/stable/user_guide/indexing.html#returning-a-view-versus-a-copy\n",
      "  numerical_subset['log_' + col] = np.log(numerical_subset[col])\n"
     ]
    }
   ],
   "source": [
    "# Select the numeric features\n",
    "numerical_subset = final.select_dtypes('number')\n",
    "\n",
    "# Create features with square root and log\n",
    "for col in numerical_subset.columns:\n",
    "    # Skip the target 'Salary' column:\n",
    "    if col == 'salary':\n",
    "        next\n",
    "    else:\n",
    "        numerical_subset['sqrt_' + col] = np.sqrt(numerical_subset[col])\n",
    "        numerical_subset['log_' + col] = np.log(numerical_subset[col])\n"
   ]
  },
  {
   "cell_type": "code",
   "execution_count": 27,
   "metadata": {},
   "outputs": [
    {
     "data": {
      "text/plain": [
       "dept_HR                    -0.621766\n",
       "sex_F                      -0.168012\n",
       "level_IC                   -0.035639\n",
       "degree_level_Bachelor      -0.009800\n",
       "degree_level_Master        -0.006085\n",
       "degree_level_High_School   -0.000629\n",
       "level_MM                    0.009792\n",
       "degree_level_PhD            0.016287\n",
       "log_yrs_experience          0.023182\n",
       "level_CEO                   0.027768\n",
       "dept_CEO                    0.027768\n",
       "counts                      0.029262\n",
       "sqrt_yrs_experience         0.031795\n",
       "level_D                     0.033925\n",
       "yrs_experience              0.042502\n",
       "level_VP                    0.043405\n",
       "sqrt_counts                 0.046787\n",
       "level_E                     0.046887\n",
       "dept_marketing              0.065929\n",
       "log_counts                  0.093532\n",
       "dept_sales                  0.106644\n",
       "signing_bonus               0.113890\n",
       "sqrt_signing_bonus          0.113890\n",
       "sex_M                       0.168012\n",
       "dept_engineering            0.350067\n",
       "salary                      1.000000\n",
       "Name: salary, dtype: float64"
      ]
     },
     "execution_count": 27,
     "metadata": {},
     "output_type": "execute_result"
    }
   ],
   "source": [
    "# Choose the categorical features and transfer them to be numerical\n",
    "categorical_subset = final[['level','degree_level','dept','sex']]\n",
    "categorical_subset = pd.get_dummies(categorical_subset)\n",
    "\n",
    "# Join the categorical and numerical features together\n",
    "new_features = pd.concat([numerical_subset, categorical_subset], axis = 1)\n",
    "\n",
    "# check the correlations between features\n",
    "correlations = new_features.corr()['salary'].dropna().sort_values()\n",
    "correlations"
   ]
  },
  {
   "cell_type": "markdown",
   "metadata": {},
   "source": [
    "After transforming the features, the strongest relationships are related to department. And sex also have some effect on the salary. We can use these correlations in order to perform feature selection."
   ]
  },
  {
   "cell_type": "markdown",
   "metadata": {},
   "source": [
    "### Feature Engineering and Feature Selection\n",
    "We have explored the trends and relationships within the data, we can work on engineering a set of features for our models. We can use the results of EDA to inform the feature engineering. In particular, from EDA we learned the following:\n",
    "- The salary distribution is skewed and the log transformation of salary would increase the distribution balance. \n",
    "- The salary distribution varies by department and to a lesser extent by sex.\n",
    "\n",
    "\n",
    "In this project, we will take the following steps for feature engineering:\n",
    "- Select one numerical features(signing_bonus) and two categorical variables(department and sex)\n",
    "- one-hot encode the categorical variable\n",
    "- use the log transformation of the salary"
   ]
  },
  {
   "cell_type": "code",
   "execution_count": 28,
   "metadata": {},
   "outputs": [
    {
     "data": {
      "text/plain": [
       "Index(['dept_HR', 'sex_F', 'dept_sales', 'signing_bonus', 'sqrt_signing_bonus',\n",
       "       'sex_M', 'dept_engineering', 'salary'],\n",
       "      dtype='object')"
      ]
     },
     "execution_count": 28,
     "metadata": {},
     "output_type": "execute_result"
    }
   ],
   "source": [
    "# Since not all features have great effects to the salary, we choose only those > 0.1\n",
    "correlations = correlations[abs(correlations) > 0.1]\n",
    "correlations.index"
   ]
  },
  {
   "cell_type": "code",
   "execution_count": 29,
   "metadata": {},
   "outputs": [
    {
     "data": {
      "text/plain": [
       "(10000,)"
      ]
     },
     "execution_count": 29,
     "metadata": {},
     "output_type": "execute_result"
    }
   ],
   "source": [
    "# Choose the target feature\n",
    "y = new_features['salary']\n",
    "y.shape"
   ]
  },
  {
   "cell_type": "code",
   "execution_count": 30,
   "metadata": {},
   "outputs": [
    {
     "data": {
      "text/plain": [
       "(10000, 7)"
      ]
     },
     "execution_count": 30,
     "metadata": {},
     "output_type": "execute_result"
    }
   ],
   "source": [
    "# Choose the most important features to build the ML models\n",
    "new_features = new_features[correlations.index].drop(['salary'],axis=1)\n",
    "new_features.shape"
   ]
  },
  {
   "cell_type": "markdown",
   "metadata": {},
   "source": [
    "### Split dataset"
   ]
  },
  {
   "cell_type": "code",
   "execution_count": 31,
   "metadata": {},
   "outputs": [],
   "source": [
    "# split into 70% training and 30% testing\n",
    "x_train, x_test, y_train, y_test = train_test_split(new_features,y, test_size = 0.3, random_state = 42)"
   ]
  },
  {
   "cell_type": "markdown",
   "metadata": {},
   "source": [
    "### Establish a Baseline"
   ]
  },
  {
   "cell_type": "markdown",
   "metadata": {},
   "source": [
    "If the models we build can't outperform a naive guess then we might have to admit that ML is not suited. This could be because we are not using the right models, or we need more data. A good naive baseline is to predict the median value of the target on the training set for all examples on the test set. If our models can't do better than guessing the median value, then we will need to rethink out approach."
   ]
  },
  {
   "cell_type": "code",
   "execution_count": 32,
   "metadata": {},
   "outputs": [],
   "source": [
    "# Define the function to calculate the mean absolute error between true values and predictions\n",
    "def mae(y_true, y_pred):\n",
    "    return np.mean(abs(y_true - y_pred))"
   ]
  },
  {
   "cell_type": "code",
   "execution_count": 33,
   "metadata": {},
   "outputs": [
    {
     "name": "stdout",
     "output_type": "stream",
     "text": [
      "The baseline guess is a score of 12.11\n",
      "Baseline Performance on the test set: MAE = 0.4299\n"
     ]
    }
   ],
   "source": [
    "# Make the median guess and evaluate it on the test set\n",
    "baseline_guess = np.median(y)\n",
    "\n",
    "print('The baseline guess is a score of %0.2f' % baseline_guess)\n",
    "print('Baseline Performance on the test set: MAE = %0.4f' % mae(y_test, baseline_guess))"
   ]
  },
  {
   "cell_type": "markdown",
   "metadata": {},
   "source": [
    "### Build the model"
   ]
  },
  {
   "cell_type": "markdown",
   "metadata": {},
   "source": [
    "In this section, we will build, train and evaluate several ML methods for our supervised regression task. The objective is to determine which model is best."
   ]
  },
  {
   "cell_type": "markdown",
   "metadata": {},
   "source": [
    "#### 1) Check Missing Values\n",
    "Standard ML models can't deal with missing values, which means we need to double check if there are any missing values. If yes, we neen to fill in thses missing values."
   ]
  },
  {
   "cell_type": "code",
   "execution_count": 34,
   "metadata": {},
   "outputs": [
    {
     "data": {
      "text/plain": [
       "dept_HR               10000\n",
       "sex_F                 10000\n",
       "dept_sales            10000\n",
       "signing_bonus         10000\n",
       "sqrt_signing_bonus    10000\n",
       "sex_M                 10000\n",
       "dept_engineering      10000\n",
       "dtype: int64"
      ]
     },
     "execution_count": 34,
     "metadata": {},
     "output_type": "execute_result"
    }
   ],
   "source": [
    "new_features.isnull().count()"
   ]
  },
  {
   "cell_type": "markdown",
   "metadata": {},
   "source": [
    "It can be seen that there are no null values in the current dataset."
   ]
  },
  {
   "cell_type": "markdown",
   "metadata": {},
   "source": [
    "#### 2) Scaling Features\n",
    "The final step to take before we build out models is to scale the features. This is necessary because features are sometimes in different units, and we need to normalize the features so the units don't affect the algorithm."
   ]
  },
  {
   "cell_type": "code",
   "execution_count": 35,
   "metadata": {},
   "outputs": [],
   "source": [
    "# Create the scaler object with a range of 0-1\n",
    "scaler = MinMaxScaler(feature_range=(0,1))\n",
    "\n",
    "# Fit on the training data\n",
    "scaler.fit(x_train)\n",
    "\n",
    "# Transform both the training and testing data\n",
    "x_train= scaler.transform(x_train)\n",
    "x_test = scaler.transform(x_test)"
   ]
  },
  {
   "cell_type": "markdown",
   "metadata": {},
   "source": [
    "#### 3）Models to Evaluate\n",
    "I will compare five different ML models using Scikit-learn library:\n",
    "1. Linear Regression\n",
    "2. Support Vector Machine Regression\n",
    "3. Random Forest Regression\n",
    "4. Gradient Boosting Regression\n",
    "5. K-Nearest Neighbors Regression\n",
    "\n",
    "\n",
    "To compare the models, I will use the Scikit-Learn defaults for the model hyperparameters. Generally these will perform decently, but should be optimized before actually using a model. At first, we just want to determine the baseline performance of each model, then select the best one for further optimization using hyperparameter tuning."
   ]
  },
  {
   "cell_type": "code",
   "execution_count": 36,
   "metadata": {},
   "outputs": [],
   "source": [
    "# Funtion to calculate mean absolute error\n",
    "def mae(y_true,y_pred):\n",
    "    return np.mean(abs(y_true - y_pred))\n",
    "\n",
    "# Take in a model, train the model, and evaluate the model on the test set\n",
    "def fit_and_evaluate(model):\n",
    "    # Train the model\n",
    "    model.fit(new_features,y)\n",
    "    \n",
    "    # Make the predictions and evaluate\n",
    "    model_pred = model.predict(x_test)\n",
    "    model_mae = mae(y_test, model_pred)\n",
    "    \n",
    "    # Return the performance metric\n",
    "    return model_mae    "
   ]
  },
  {
   "cell_type": "code",
   "execution_count": 37,
   "metadata": {},
   "outputs": [
    {
     "name": "stdout",
     "output_type": "stream",
     "text": [
      "Linear Regression Performance on the test set: MAE = 0.3100\n"
     ]
    }
   ],
   "source": [
    "lr = LinearRegression()\n",
    "lr_mae = fit_and_evaluate(lr)\n",
    "\n",
    "print('Linear Regression Performance on the test set: MAE = %0.4f' % lr_mae)"
   ]
  },
  {
   "cell_type": "code",
   "execution_count": 38,
   "metadata": {},
   "outputs": [
    {
     "name": "stdout",
     "output_type": "stream",
     "text": [
      "Support Vector Machine Regression Performance on the test set: MAE = 0.3060\n"
     ]
    }
   ],
   "source": [
    "svm = SVR(C = 1000, gamma = 0.1)\n",
    "svm_mae = fit_and_evaluate(svm)\n",
    "\n",
    "print('Support Vector Machine Regression Performance on the test set: MAE = %0.4f' % svm_mae)"
   ]
  },
  {
   "cell_type": "code",
   "execution_count": 39,
   "metadata": {},
   "outputs": [
    {
     "name": "stdout",
     "output_type": "stream",
     "text": [
      "Random Forest Regression Performance on the test set: MAE = 0.3095\n"
     ]
    }
   ],
   "source": [
    "random_forest = RandomForestRegressor(random_state=60)\n",
    "random_forest_mae = fit_and_evaluate(random_forest)\n",
    "\n",
    "print('Random Forest Regression Performance on the test set: MAE = %0.4f' % random_forest_mae)"
   ]
  },
  {
   "cell_type": "code",
   "execution_count": 40,
   "metadata": {},
   "outputs": [
    {
     "name": "stdout",
     "output_type": "stream",
     "text": [
      "Gradient Boosting Regression Performance on the test set: MAE = 0.3097\n"
     ]
    }
   ],
   "source": [
    "gradient_boosting = GradientBoostingRegressor(random_state=60)\n",
    "gradient_boosting_mae = fit_and_evaluate(gradient_boosting)\n",
    "\n",
    "print('Gradient Boosting Regression Performance on the test set: MAE = %0.4f' % gradient_boosting_mae)"
   ]
  },
  {
   "cell_type": "code",
   "execution_count": 41,
   "metadata": {},
   "outputs": [
    {
     "name": "stdout",
     "output_type": "stream",
     "text": [
      "K-Nearest Neighbors Regression Performance on the test set: MAE = 0.3272\n"
     ]
    }
   ],
   "source": [
    "knn = KNeighborsRegressor(n_neighbors=10)\n",
    "knn_mae = fit_and_evaluate(knn)\n",
    "\n",
    "print('K-Nearest Neighbors Regression Performance on the test set: MAE = %0.4f' % knn_mae)"
   ]
  },
  {
   "cell_type": "code",
   "execution_count": 42,
   "metadata": {},
   "outputs": [
    {
     "data": {
      "image/png": "[encoded data removed]",
      "text/plain": [
       "<Figure size 432x288 with 1 Axes>"
      ]
     },
     "metadata": {},
     "output_type": "display_data"
    }
   ],
   "source": [
    "# Dataframe to hold the results\n",
    "model_comparison = pd.DataFrame({'model': ['Linear Regression', 'Support Vector Machine',\n",
    "                                           'Random Forest', 'Gradient Boosting',\n",
    "                                            'K-Nearest Neighbors'],\n",
    "                                 'mae': [lr_mae, svm_mae, random_forest_mae, \n",
    "                                         gradient_boosting_mae, knn_mae]})\n",
    "\n",
    "# Horizontal bar chart of test mae\n",
    "models = model_comparison.sort_values('mae', ascending = False)\n",
    "models.plot(x = 'model', y = 'mae', kind = 'barh',color = 'red', edgecolor = 'black',legend=False)\n",
    "\n",
    "# Plot formatting\n",
    "plt.ylabel(''); plt.yticks(size = 14)\n",
    "plt.xlabel('Mean Absolute Error'); plt.xticks(size = 14)\n",
    "plt.title('Model Comparison on Test MAE', size = 15);"
   ]
  },
  {
   "cell_type": "markdown",
   "metadata": {},
   "source": [
    "It can be seen that the SVM performs the best followed by random forest. Of couser there are some unfair becasue I used mostly the default hyperparameters.Nonetheless, for these results, we can conclude that machine learning is applicable because all the models significantly outperform the baseline!\n",
    "\n",
    "\n",
    "From here, I am going to concentrate on optimizing the best model using hyperparameter tuning. Since during the above tests, the SVM is obviously slower than all the other models and the MAE values are bacially same, I will concentrate on using the **gradient boosting**."
   ]
  },
  {
   "cell_type": "markdown",
   "metadata": {},
   "source": [
    "### Model Optimization\n",
    "In this section, I will try to find the best set of hyperparameters for the chosen model"
   ]
  },
  {
   "cell_type": "markdown",
   "metadata": {},
   "source": [
    "#### 1) hyperparameters tuning with grid search and cross validation\n",
    "I will first choose the best hyperparameters for the model through **grid search and cross validation**."
   ]
  },
  {
   "cell_type": "code",
   "execution_count": 44,
   "metadata": {},
   "outputs": [],
   "source": [
    "# Loss function to be optimized\n",
    "loss = ['ls', 'lad', 'huber']\n",
    "\n",
    "# Number of trees used in the boosting process\n",
    "n_estimators = [200, 300, 500, 800, 1000]\n",
    "\n",
    "# Maximum depth of each tree\n",
    "max_depth = [4, 5, 6, 8, 12,15]\n",
    "\n",
    "# Minimum number of samples per leaf\n",
    "min_samples_leaf = [1, 2, 4, 6, 8]\n",
    "\n",
    "# Minimum number of samples to split a node\n",
    "min_samples_split = [6, 8, 10,12,16]\n",
    "\n",
    "# Maximum number of features to consider for making splits\n",
    "max_features = ['auto', 'sqrt', 'log2', None]\n",
    "\n",
    "# Define the grid of hyperparameters to search\n",
    "hyperparameter_grid = {'loss':loss,\n",
    "                      'n_estimators': n_estimators,\n",
    "                      'max_depth':max_depth,\n",
    "                      'min_samples_leaf':min_samples_leaf,\n",
    "                      'min_samples_split': min_samples_split,\n",
    "                      'max_features': max_features}"
   ]
  },
  {
   "cell_type": "code",
   "execution_count": 45,
   "metadata": {},
   "outputs": [
    {
     "name": "stdout",
     "output_type": "stream",
     "text": [
      "Fitting 5 folds for each of 9000 candidates, totalling 45000 fits\n"
     ]
    },
    {
     "name": "stderr",
     "output_type": "stream",
     "text": [
      "[Parallel(n_jobs=-1)]: Using backend LokyBackend with 8 concurrent workers.\n",
      "[Parallel(n_jobs=-1)]: Done  34 tasks      | elapsed:   16.1s\n",
      "[Parallel(n_jobs=-1)]: Done 184 tasks      | elapsed:  1.3min\n",
      "[Parallel(n_jobs=-1)]: Done 434 tasks      | elapsed:  3.0min\n",
      "[Parallel(n_jobs=-1)]: Done 784 tasks      | elapsed:  5.0min\n",
      "[Parallel(n_jobs=-1)]: Done 1234 tasks      | elapsed:  7.5min\n",
      "[Parallel(n_jobs=-1)]: Done 1784 tasks      | elapsed: 10.5min\n",
      "[Parallel(n_jobs=-1)]: Done 2434 tasks      | elapsed: 15.9min\n",
      "[Parallel(n_jobs=-1)]: Done 3184 tasks      | elapsed: 22.7min\n",
      "[Parallel(n_jobs=-1)]: Done 4034 tasks      | elapsed: 27.1min\n",
      "[Parallel(n_jobs=-1)]: Done 4984 tasks      | elapsed: 33.4min\n",
      "[Parallel(n_jobs=-1)]: Done 6034 tasks      | elapsed: 40.4min\n",
      "[Parallel(n_jobs=-1)]: Done 7184 tasks      | elapsed: 47.1min\n",
      "[Parallel(n_jobs=-1)]: Done 8434 tasks      | elapsed: 55.8min\n",
      "[Parallel(n_jobs=-1)]: Done 9784 tasks      | elapsed: 63.7min\n",
      "[Parallel(n_jobs=-1)]: Done 11234 tasks      | elapsed: 73.3min\n",
      "[Parallel(n_jobs=-1)]: Done 12784 tasks      | elapsed: 83.5min\n",
      "[Parallel(n_jobs=-1)]: Done 14434 tasks      | elapsed: 92.8min\n",
      "[Parallel(n_jobs=-1)]: Done 16184 tasks      | elapsed: 115.0min\n",
      "exception calling callback for <Future at 0x262379845b0 state=finished raised TerminatedWorkerError>\n",
      "Traceback (most recent call last):\n",
      "  File \"C:\\Users\\xiaoj\\anaconda3\\lib\\site-packages\\joblib\\externals\\loky\\_base.py\", line 625, in _invoke_callbacks\n",
      "    callback(self)\n",
      "  File \"C:\\Users\\xiaoj\\anaconda3\\lib\\site-packages\\joblib\\parallel.py\", line 347, in __call__\n",
      "    self.parallel.dispatch_next()\n",
      "  File \"C:\\Users\\xiaoj\\anaconda3\\lib\\site-packages\\joblib\\parallel.py\", line 780, in dispatch_next\n",
      "    if not self.dispatch_one_batch(self._original_iterator):\n",
      "  File \"C:\\Users\\xiaoj\\anaconda3\\lib\\site-packages\\joblib\\parallel.py\", line 847, in dispatch_one_batch\n",
      "    self._dispatch(tasks)\n",
      "  File \"C:\\Users\\xiaoj\\anaconda3\\lib\\site-packages\\joblib\\parallel.py\", line 765, in _dispatch\n",
      "    job = self._backend.apply_async(batch, callback=cb)\n",
      "  File \"C:\\Users\\xiaoj\\anaconda3\\lib\\site-packages\\joblib\\_parallel_backends.py\", line 531, in apply_async\n",
      "    future = self._workers.submit(SafeFunction(func))\n",
      "  File \"C:\\Users\\xiaoj\\anaconda3\\lib\\site-packages\\joblib\\externals\\loky\\reusable_executor.py\", line 177, in submit\n",
      "    return super(_ReusablePoolExecutor, self).submit(\n",
      "  File \"C:\\Users\\xiaoj\\anaconda3\\lib\\site-packages\\joblib\\externals\\loky\\process_executor.py\", line 1102, in submit\n",
      "    raise self._flags.broken\n",
      "joblib.externals.loky.process_executor.TerminatedWorkerError: A worker process managed by the executor was unexpectedly terminated. This could be caused by a segmentation fault while calling the function or by an excessive memory usage causing the Operating System to kill the worker.\n",
      "\n"
     ]
    },
    {
     "ename": "TerminatedWorkerError",
     "evalue": "A worker process managed by the executor was unexpectedly terminated. This could be caused by a segmentation fault while calling the function or by an excessive memory usage causing the Operating System to kill the worker.\n",
     "output_type": "error",
     "traceback": [
      "\u001b[1;31m---------------------------------------------------------------------------\u001b[0m",
      "\u001b[1;31mTerminatedWorkerError\u001b[0m                     Traceback (most recent call last)",
      "\u001b[1;32m<ipython-input-45-3310c3eb24d7>\u001b[0m in \u001b[0;36m<module>\u001b[1;34m\u001b[0m\n\u001b[0;32m     13\u001b[0m \u001b[1;33m\u001b[0m\u001b[0m\n\u001b[0;32m     14\u001b[0m \u001b[1;31m# Fit on the training data\u001b[0m\u001b[1;33m\u001b[0m\u001b[1;33m\u001b[0m\u001b[1;33m\u001b[0m\u001b[0m\n\u001b[1;32m---> 15\u001b[1;33m \u001b[0mgrid_search\u001b[0m\u001b[1;33m.\u001b[0m\u001b[0mfit\u001b[0m\u001b[1;33m(\u001b[0m\u001b[0mx_train\u001b[0m\u001b[1;33m,\u001b[0m\u001b[0my_train\u001b[0m\u001b[1;33m)\u001b[0m\u001b[1;33m\u001b[0m\u001b[1;33m\u001b[0m\u001b[0m\n\u001b[0m",
      "\u001b[1;32m~\\anaconda3\\lib\\site-packages\\sklearn\\utils\\validation.py\u001b[0m in \u001b[0;36minner_f\u001b[1;34m(*args, **kwargs)\u001b[0m\n\u001b[0;32m     71\u001b[0m                           FutureWarning)\n\u001b[0;32m     72\u001b[0m         \u001b[0mkwargs\u001b[0m\u001b[1;33m.\u001b[0m\u001b[0mupdate\u001b[0m\u001b[1;33m(\u001b[0m\u001b[1;33m{\u001b[0m\u001b[0mk\u001b[0m\u001b[1;33m:\u001b[0m \u001b[0marg\u001b[0m \u001b[1;32mfor\u001b[0m \u001b[0mk\u001b[0m\u001b[1;33m,\u001b[0m \u001b[0marg\u001b[0m \u001b[1;32min\u001b[0m \u001b[0mzip\u001b[0m\u001b[1;33m(\u001b[0m\u001b[0msig\u001b[0m\u001b[1;33m.\u001b[0m\u001b[0mparameters\u001b[0m\u001b[1;33m,\u001b[0m \u001b[0margs\u001b[0m\u001b[1;33m)\u001b[0m\u001b[1;33m}\u001b[0m\u001b[1;33m)\u001b[0m\u001b[1;33m\u001b[0m\u001b[1;33m\u001b[0m\u001b[0m\n\u001b[1;32m---> 73\u001b[1;33m         \u001b[1;32mreturn\u001b[0m \u001b[0mf\u001b[0m\u001b[1;33m(\u001b[0m\u001b[1;33m**\u001b[0m\u001b[0mkwargs\u001b[0m\u001b[1;33m)\u001b[0m\u001b[1;33m\u001b[0m\u001b[1;33m\u001b[0m\u001b[0m\n\u001b[0m\u001b[0;32m     74\u001b[0m     \u001b[1;32mreturn\u001b[0m \u001b[0minner_f\u001b[0m\u001b[1;33m\u001b[0m\u001b[1;33m\u001b[0m\u001b[0m\n\u001b[0;32m     75\u001b[0m \u001b[1;33m\u001b[0m\u001b[0m\n",
      "\u001b[1;32m~\\anaconda3\\lib\\site-packages\\sklearn\\model_selection\\_search.py\u001b[0m in \u001b[0;36mfit\u001b[1;34m(self, X, y, groups, **fit_params)\u001b[0m\n\u001b[0;32m    734\u001b[0m                 \u001b[1;32mreturn\u001b[0m \u001b[0mresults\u001b[0m\u001b[1;33m\u001b[0m\u001b[1;33m\u001b[0m\u001b[0m\n\u001b[0;32m    735\u001b[0m \u001b[1;33m\u001b[0m\u001b[0m\n\u001b[1;32m--> 736\u001b[1;33m             \u001b[0mself\u001b[0m\u001b[1;33m.\u001b[0m\u001b[0m_run_search\u001b[0m\u001b[1;33m(\u001b[0m\u001b[0mevaluate_candidates\u001b[0m\u001b[1;33m)\u001b[0m\u001b[1;33m\u001b[0m\u001b[1;33m\u001b[0m\u001b[0m\n\u001b[0m\u001b[0;32m    737\u001b[0m \u001b[1;33m\u001b[0m\u001b[0m\n\u001b[0;32m    738\u001b[0m         \u001b[1;31m# For multi-metric evaluation, store the best_index_, best_params_ and\u001b[0m\u001b[1;33m\u001b[0m\u001b[1;33m\u001b[0m\u001b[1;33m\u001b[0m\u001b[0m\n",
      "\u001b[1;32m~\\anaconda3\\lib\\site-packages\\sklearn\\model_selection\\_search.py\u001b[0m in \u001b[0;36m_run_search\u001b[1;34m(self, evaluate_candidates)\u001b[0m\n\u001b[0;32m   1186\u001b[0m     \u001b[1;32mdef\u001b[0m \u001b[0m_run_search\u001b[0m\u001b[1;33m(\u001b[0m\u001b[0mself\u001b[0m\u001b[1;33m,\u001b[0m \u001b[0mevaluate_candidates\u001b[0m\u001b[1;33m)\u001b[0m\u001b[1;33m:\u001b[0m\u001b[1;33m\u001b[0m\u001b[1;33m\u001b[0m\u001b[0m\n\u001b[0;32m   1187\u001b[0m         \u001b[1;34m\"\"\"Search all candidates in param_grid\"\"\"\u001b[0m\u001b[1;33m\u001b[0m\u001b[1;33m\u001b[0m\u001b[0m\n\u001b[1;32m-> 1188\u001b[1;33m         \u001b[0mevaluate_candidates\u001b[0m\u001b[1;33m(\u001b[0m\u001b[0mParameterGrid\u001b[0m\u001b[1;33m(\u001b[0m\u001b[0mself\u001b[0m\u001b[1;33m.\u001b[0m\u001b[0mparam_grid\u001b[0m\u001b[1;33m)\u001b[0m\u001b[1;33m)\u001b[0m\u001b[1;33m\u001b[0m\u001b[1;33m\u001b[0m\u001b[0m\n\u001b[0m\u001b[0;32m   1189\u001b[0m \u001b[1;33m\u001b[0m\u001b[0m\n\u001b[0;32m   1190\u001b[0m \u001b[1;33m\u001b[0m\u001b[0m\n",
      "\u001b[1;32m~\\anaconda3\\lib\\site-packages\\sklearn\\model_selection\\_search.py\u001b[0m in \u001b[0;36mevaluate_candidates\u001b[1;34m(candidate_params)\u001b[0m\n\u001b[0;32m    706\u001b[0m                               n_splits, n_candidates, n_candidates * n_splits))\n\u001b[0;32m    707\u001b[0m \u001b[1;33m\u001b[0m\u001b[0m\n\u001b[1;32m--> 708\u001b[1;33m                 out = parallel(delayed(_fit_and_score)(clone(base_estimator),\n\u001b[0m\u001b[0;32m    709\u001b[0m                                                        \u001b[0mX\u001b[0m\u001b[1;33m,\u001b[0m \u001b[0my\u001b[0m\u001b[1;33m,\u001b[0m\u001b[1;33m\u001b[0m\u001b[1;33m\u001b[0m\u001b[0m\n\u001b[0;32m    710\u001b[0m                                                        \u001b[0mtrain\u001b[0m\u001b[1;33m=\u001b[0m\u001b[0mtrain\u001b[0m\u001b[1;33m,\u001b[0m \u001b[0mtest\u001b[0m\u001b[1;33m=\u001b[0m\u001b[0mtest\u001b[0m\u001b[1;33m,\u001b[0m\u001b[1;33m\u001b[0m\u001b[1;33m\u001b[0m\u001b[0m\n",
      "\u001b[1;32m~\\anaconda3\\lib\\site-packages\\joblib\\parallel.py\u001b[0m in \u001b[0;36m__call__\u001b[1;34m(self, iterable)\u001b[0m\n\u001b[0;32m   1040\u001b[0m \u001b[1;33m\u001b[0m\u001b[0m\n\u001b[0;32m   1041\u001b[0m             \u001b[1;32mwith\u001b[0m \u001b[0mself\u001b[0m\u001b[1;33m.\u001b[0m\u001b[0m_backend\u001b[0m\u001b[1;33m.\u001b[0m\u001b[0mretrieval_context\u001b[0m\u001b[1;33m(\u001b[0m\u001b[1;33m)\u001b[0m\u001b[1;33m:\u001b[0m\u001b[1;33m\u001b[0m\u001b[1;33m\u001b[0m\u001b[0m\n\u001b[1;32m-> 1042\u001b[1;33m                 \u001b[0mself\u001b[0m\u001b[1;33m.\u001b[0m\u001b[0mretrieve\u001b[0m\u001b[1;33m(\u001b[0m\u001b[1;33m)\u001b[0m\u001b[1;33m\u001b[0m\u001b[1;33m\u001b[0m\u001b[0m\n\u001b[0m\u001b[0;32m   1043\u001b[0m             \u001b[1;31m# Make sure that we get a last message telling us we are done\u001b[0m\u001b[1;33m\u001b[0m\u001b[1;33m\u001b[0m\u001b[1;33m\u001b[0m\u001b[0m\n\u001b[0;32m   1044\u001b[0m             \u001b[0melapsed_time\u001b[0m \u001b[1;33m=\u001b[0m \u001b[0mtime\u001b[0m\u001b[1;33m.\u001b[0m\u001b[0mtime\u001b[0m\u001b[1;33m(\u001b[0m\u001b[1;33m)\u001b[0m \u001b[1;33m-\u001b[0m \u001b[0mself\u001b[0m\u001b[1;33m.\u001b[0m\u001b[0m_start_time\u001b[0m\u001b[1;33m\u001b[0m\u001b[1;33m\u001b[0m\u001b[0m\n",
      "\u001b[1;32m~\\anaconda3\\lib\\site-packages\\joblib\\parallel.py\u001b[0m in \u001b[0;36mretrieve\u001b[1;34m(self)\u001b[0m\n\u001b[0;32m    919\u001b[0m             \u001b[1;32mtry\u001b[0m\u001b[1;33m:\u001b[0m\u001b[1;33m\u001b[0m\u001b[1;33m\u001b[0m\u001b[0m\n\u001b[0;32m    920\u001b[0m                 \u001b[1;32mif\u001b[0m \u001b[0mgetattr\u001b[0m\u001b[1;33m(\u001b[0m\u001b[0mself\u001b[0m\u001b[1;33m.\u001b[0m\u001b[0m_backend\u001b[0m\u001b[1;33m,\u001b[0m \u001b[1;34m'supports_timeout'\u001b[0m\u001b[1;33m,\u001b[0m \u001b[1;32mFalse\u001b[0m\u001b[1;33m)\u001b[0m\u001b[1;33m:\u001b[0m\u001b[1;33m\u001b[0m\u001b[1;33m\u001b[0m\u001b[0m\n\u001b[1;32m--> 921\u001b[1;33m                     \u001b[0mself\u001b[0m\u001b[1;33m.\u001b[0m\u001b[0m_output\u001b[0m\u001b[1;33m.\u001b[0m\u001b[0mextend\u001b[0m\u001b[1;33m(\u001b[0m\u001b[0mjob\u001b[0m\u001b[1;33m.\u001b[0m\u001b[0mget\u001b[0m\u001b[1;33m(\u001b[0m\u001b[0mtimeout\u001b[0m\u001b[1;33m=\u001b[0m\u001b[0mself\u001b[0m\u001b[1;33m.\u001b[0m\u001b[0mtimeout\u001b[0m\u001b[1;33m)\u001b[0m\u001b[1;33m)\u001b[0m\u001b[1;33m\u001b[0m\u001b[1;33m\u001b[0m\u001b[0m\n\u001b[0m\u001b[0;32m    922\u001b[0m                 \u001b[1;32melse\u001b[0m\u001b[1;33m:\u001b[0m\u001b[1;33m\u001b[0m\u001b[1;33m\u001b[0m\u001b[0m\n\u001b[0;32m    923\u001b[0m                     \u001b[0mself\u001b[0m\u001b[1;33m.\u001b[0m\u001b[0m_output\u001b[0m\u001b[1;33m.\u001b[0m\u001b[0mextend\u001b[0m\u001b[1;33m(\u001b[0m\u001b[0mjob\u001b[0m\u001b[1;33m.\u001b[0m\u001b[0mget\u001b[0m\u001b[1;33m(\u001b[0m\u001b[1;33m)\u001b[0m\u001b[1;33m)\u001b[0m\u001b[1;33m\u001b[0m\u001b[1;33m\u001b[0m\u001b[0m\n",
      "\u001b[1;32m~\\anaconda3\\lib\\site-packages\\joblib\\_parallel_backends.py\u001b[0m in \u001b[0;36mwrap_future_result\u001b[1;34m(future, timeout)\u001b[0m\n\u001b[0;32m    540\u001b[0m         AsyncResults.get from multiprocessing.\"\"\"\n\u001b[0;32m    541\u001b[0m         \u001b[1;32mtry\u001b[0m\u001b[1;33m:\u001b[0m\u001b[1;33m\u001b[0m\u001b[1;33m\u001b[0m\u001b[0m\n\u001b[1;32m--> 542\u001b[1;33m             \u001b[1;32mreturn\u001b[0m \u001b[0mfuture\u001b[0m\u001b[1;33m.\u001b[0m\u001b[0mresult\u001b[0m\u001b[1;33m(\u001b[0m\u001b[0mtimeout\u001b[0m\u001b[1;33m=\u001b[0m\u001b[0mtimeout\u001b[0m\u001b[1;33m)\u001b[0m\u001b[1;33m\u001b[0m\u001b[1;33m\u001b[0m\u001b[0m\n\u001b[0m\u001b[0;32m    543\u001b[0m         \u001b[1;32mexcept\u001b[0m \u001b[0mCfTimeoutError\u001b[0m \u001b[1;32mas\u001b[0m \u001b[0me\u001b[0m\u001b[1;33m:\u001b[0m\u001b[1;33m\u001b[0m\u001b[1;33m\u001b[0m\u001b[0m\n\u001b[0;32m    544\u001b[0m             \u001b[1;32mraise\u001b[0m \u001b[0mTimeoutError\u001b[0m \u001b[1;32mfrom\u001b[0m \u001b[0me\u001b[0m\u001b[1;33m\u001b[0m\u001b[1;33m\u001b[0m\u001b[0m\n",
      "\u001b[1;32m~\\anaconda3\\lib\\concurrent\\futures\\_base.py\u001b[0m in \u001b[0;36mresult\u001b[1;34m(self, timeout)\u001b[0m\n\u001b[0;32m    437\u001b[0m                 \u001b[1;32mraise\u001b[0m \u001b[0mCancelledError\u001b[0m\u001b[1;33m(\u001b[0m\u001b[1;33m)\u001b[0m\u001b[1;33m\u001b[0m\u001b[1;33m\u001b[0m\u001b[0m\n\u001b[0;32m    438\u001b[0m             \u001b[1;32melif\u001b[0m \u001b[0mself\u001b[0m\u001b[1;33m.\u001b[0m\u001b[0m_state\u001b[0m \u001b[1;33m==\u001b[0m \u001b[0mFINISHED\u001b[0m\u001b[1;33m:\u001b[0m\u001b[1;33m\u001b[0m\u001b[1;33m\u001b[0m\u001b[0m\n\u001b[1;32m--> 439\u001b[1;33m                 \u001b[1;32mreturn\u001b[0m \u001b[0mself\u001b[0m\u001b[1;33m.\u001b[0m\u001b[0m__get_result\u001b[0m\u001b[1;33m(\u001b[0m\u001b[1;33m)\u001b[0m\u001b[1;33m\u001b[0m\u001b[1;33m\u001b[0m\u001b[0m\n\u001b[0m\u001b[0;32m    440\u001b[0m             \u001b[1;32melse\u001b[0m\u001b[1;33m:\u001b[0m\u001b[1;33m\u001b[0m\u001b[1;33m\u001b[0m\u001b[0m\n\u001b[0;32m    441\u001b[0m                 \u001b[1;32mraise\u001b[0m \u001b[0mTimeoutError\u001b[0m\u001b[1;33m(\u001b[0m\u001b[1;33m)\u001b[0m\u001b[1;33m\u001b[0m\u001b[1;33m\u001b[0m\u001b[0m\n",
      "\u001b[1;32m~\\anaconda3\\lib\\concurrent\\futures\\_base.py\u001b[0m in \u001b[0;36m__get_result\u001b[1;34m(self)\u001b[0m\n\u001b[0;32m    386\u001b[0m     \u001b[1;32mdef\u001b[0m \u001b[0m__get_result\u001b[0m\u001b[1;33m(\u001b[0m\u001b[0mself\u001b[0m\u001b[1;33m)\u001b[0m\u001b[1;33m:\u001b[0m\u001b[1;33m\u001b[0m\u001b[1;33m\u001b[0m\u001b[0m\n\u001b[0;32m    387\u001b[0m         \u001b[1;32mif\u001b[0m \u001b[0mself\u001b[0m\u001b[1;33m.\u001b[0m\u001b[0m_exception\u001b[0m\u001b[1;33m:\u001b[0m\u001b[1;33m\u001b[0m\u001b[1;33m\u001b[0m\u001b[0m\n\u001b[1;32m--> 388\u001b[1;33m             \u001b[1;32mraise\u001b[0m \u001b[0mself\u001b[0m\u001b[1;33m.\u001b[0m\u001b[0m_exception\u001b[0m\u001b[1;33m\u001b[0m\u001b[1;33m\u001b[0m\u001b[0m\n\u001b[0m\u001b[0;32m    389\u001b[0m         \u001b[1;32melse\u001b[0m\u001b[1;33m:\u001b[0m\u001b[1;33m\u001b[0m\u001b[1;33m\u001b[0m\u001b[0m\n\u001b[0;32m    390\u001b[0m             \u001b[1;32mreturn\u001b[0m \u001b[0mself\u001b[0m\u001b[1;33m.\u001b[0m\u001b[0m_result\u001b[0m\u001b[1;33m\u001b[0m\u001b[1;33m\u001b[0m\u001b[0m\n",
      "\u001b[1;32m~\\anaconda3\\lib\\site-packages\\joblib\\externals\\loky\\_base.py\u001b[0m in \u001b[0;36m_invoke_callbacks\u001b[1;34m(self)\u001b[0m\n\u001b[0;32m    623\u001b[0m         \u001b[1;32mfor\u001b[0m \u001b[0mcallback\u001b[0m \u001b[1;32min\u001b[0m \u001b[0mself\u001b[0m\u001b[1;33m.\u001b[0m\u001b[0m_done_callbacks\u001b[0m\u001b[1;33m:\u001b[0m\u001b[1;33m\u001b[0m\u001b[1;33m\u001b[0m\u001b[0m\n\u001b[0;32m    624\u001b[0m             \u001b[1;32mtry\u001b[0m\u001b[1;33m:\u001b[0m\u001b[1;33m\u001b[0m\u001b[1;33m\u001b[0m\u001b[0m\n\u001b[1;32m--> 625\u001b[1;33m                 \u001b[0mcallback\u001b[0m\u001b[1;33m(\u001b[0m\u001b[0mself\u001b[0m\u001b[1;33m)\u001b[0m\u001b[1;33m\u001b[0m\u001b[1;33m\u001b[0m\u001b[0m\n\u001b[0m\u001b[0;32m    626\u001b[0m             \u001b[1;32mexcept\u001b[0m \u001b[0mBaseException\u001b[0m\u001b[1;33m:\u001b[0m\u001b[1;33m\u001b[0m\u001b[1;33m\u001b[0m\u001b[0m\n\u001b[0;32m    627\u001b[0m                 \u001b[0mLOGGER\u001b[0m\u001b[1;33m.\u001b[0m\u001b[0mexception\u001b[0m\u001b[1;33m(\u001b[0m\u001b[1;34m'exception calling callback for %r'\u001b[0m\u001b[1;33m,\u001b[0m \u001b[0mself\u001b[0m\u001b[1;33m)\u001b[0m\u001b[1;33m\u001b[0m\u001b[1;33m\u001b[0m\u001b[0m\n",
      "\u001b[1;32m~\\anaconda3\\lib\\site-packages\\joblib\\parallel.py\u001b[0m in \u001b[0;36m__call__\u001b[1;34m(self, out)\u001b[0m\n\u001b[0;32m    345\u001b[0m         \u001b[1;32mwith\u001b[0m \u001b[0mself\u001b[0m\u001b[1;33m.\u001b[0m\u001b[0mparallel\u001b[0m\u001b[1;33m.\u001b[0m\u001b[0m_lock\u001b[0m\u001b[1;33m:\u001b[0m\u001b[1;33m\u001b[0m\u001b[1;33m\u001b[0m\u001b[0m\n\u001b[0;32m    346\u001b[0m             \u001b[1;32mif\u001b[0m \u001b[0mself\u001b[0m\u001b[1;33m.\u001b[0m\u001b[0mparallel\u001b[0m\u001b[1;33m.\u001b[0m\u001b[0m_original_iterator\u001b[0m \u001b[1;32mis\u001b[0m \u001b[1;32mnot\u001b[0m \u001b[1;32mNone\u001b[0m\u001b[1;33m:\u001b[0m\u001b[1;33m\u001b[0m\u001b[1;33m\u001b[0m\u001b[0m\n\u001b[1;32m--> 347\u001b[1;33m                 \u001b[0mself\u001b[0m\u001b[1;33m.\u001b[0m\u001b[0mparallel\u001b[0m\u001b[1;33m.\u001b[0m\u001b[0mdispatch_next\u001b[0m\u001b[1;33m(\u001b[0m\u001b[1;33m)\u001b[0m\u001b[1;33m\u001b[0m\u001b[1;33m\u001b[0m\u001b[0m\n\u001b[0m\u001b[0;32m    348\u001b[0m \u001b[1;33m\u001b[0m\u001b[0m\n\u001b[0;32m    349\u001b[0m \u001b[1;33m\u001b[0m\u001b[0m\n",
      "\u001b[1;32m~\\anaconda3\\lib\\site-packages\\joblib\\parallel.py\u001b[0m in \u001b[0;36mdispatch_next\u001b[1;34m(self)\u001b[0m\n\u001b[0;32m    778\u001b[0m \u001b[1;33m\u001b[0m\u001b[0m\n\u001b[0;32m    779\u001b[0m         \"\"\"\n\u001b[1;32m--> 780\u001b[1;33m         \u001b[1;32mif\u001b[0m \u001b[1;32mnot\u001b[0m \u001b[0mself\u001b[0m\u001b[1;33m.\u001b[0m\u001b[0mdispatch_one_batch\u001b[0m\u001b[1;33m(\u001b[0m\u001b[0mself\u001b[0m\u001b[1;33m.\u001b[0m\u001b[0m_original_iterator\u001b[0m\u001b[1;33m)\u001b[0m\u001b[1;33m:\u001b[0m\u001b[1;33m\u001b[0m\u001b[1;33m\u001b[0m\u001b[0m\n\u001b[0m\u001b[0;32m    781\u001b[0m             \u001b[0mself\u001b[0m\u001b[1;33m.\u001b[0m\u001b[0m_iterating\u001b[0m \u001b[1;33m=\u001b[0m \u001b[1;32mFalse\u001b[0m\u001b[1;33m\u001b[0m\u001b[1;33m\u001b[0m\u001b[0m\n\u001b[0;32m    782\u001b[0m             \u001b[0mself\u001b[0m\u001b[1;33m.\u001b[0m\u001b[0m_original_iterator\u001b[0m \u001b[1;33m=\u001b[0m \u001b[1;32mNone\u001b[0m\u001b[1;33m\u001b[0m\u001b[1;33m\u001b[0m\u001b[0m\n",
      "\u001b[1;32m~\\anaconda3\\lib\\site-packages\\joblib\\parallel.py\u001b[0m in \u001b[0;36mdispatch_one_batch\u001b[1;34m(self, iterator)\u001b[0m\n\u001b[0;32m    845\u001b[0m                 \u001b[1;32mreturn\u001b[0m \u001b[1;32mFalse\u001b[0m\u001b[1;33m\u001b[0m\u001b[1;33m\u001b[0m\u001b[0m\n\u001b[0;32m    846\u001b[0m             \u001b[1;32melse\u001b[0m\u001b[1;33m:\u001b[0m\u001b[1;33m\u001b[0m\u001b[1;33m\u001b[0m\u001b[0m\n\u001b[1;32m--> 847\u001b[1;33m                 \u001b[0mself\u001b[0m\u001b[1;33m.\u001b[0m\u001b[0m_dispatch\u001b[0m\u001b[1;33m(\u001b[0m\u001b[0mtasks\u001b[0m\u001b[1;33m)\u001b[0m\u001b[1;33m\u001b[0m\u001b[1;33m\u001b[0m\u001b[0m\n\u001b[0m\u001b[0;32m    848\u001b[0m                 \u001b[1;32mreturn\u001b[0m \u001b[1;32mTrue\u001b[0m\u001b[1;33m\u001b[0m\u001b[1;33m\u001b[0m\u001b[0m\n\u001b[0;32m    849\u001b[0m \u001b[1;33m\u001b[0m\u001b[0m\n",
      "\u001b[1;32m~\\anaconda3\\lib\\site-packages\\joblib\\parallel.py\u001b[0m in \u001b[0;36m_dispatch\u001b[1;34m(self, batch)\u001b[0m\n\u001b[0;32m    763\u001b[0m         \u001b[1;32mwith\u001b[0m \u001b[0mself\u001b[0m\u001b[1;33m.\u001b[0m\u001b[0m_lock\u001b[0m\u001b[1;33m:\u001b[0m\u001b[1;33m\u001b[0m\u001b[1;33m\u001b[0m\u001b[0m\n\u001b[0;32m    764\u001b[0m             \u001b[0mjob_idx\u001b[0m \u001b[1;33m=\u001b[0m \u001b[0mlen\u001b[0m\u001b[1;33m(\u001b[0m\u001b[0mself\u001b[0m\u001b[1;33m.\u001b[0m\u001b[0m_jobs\u001b[0m\u001b[1;33m)\u001b[0m\u001b[1;33m\u001b[0m\u001b[1;33m\u001b[0m\u001b[0m\n\u001b[1;32m--> 765\u001b[1;33m             \u001b[0mjob\u001b[0m \u001b[1;33m=\u001b[0m \u001b[0mself\u001b[0m\u001b[1;33m.\u001b[0m\u001b[0m_backend\u001b[0m\u001b[1;33m.\u001b[0m\u001b[0mapply_async\u001b[0m\u001b[1;33m(\u001b[0m\u001b[0mbatch\u001b[0m\u001b[1;33m,\u001b[0m \u001b[0mcallback\u001b[0m\u001b[1;33m=\u001b[0m\u001b[0mcb\u001b[0m\u001b[1;33m)\u001b[0m\u001b[1;33m\u001b[0m\u001b[1;33m\u001b[0m\u001b[0m\n\u001b[0m\u001b[0;32m    766\u001b[0m             \u001b[1;31m# A job can complete so quickly than its callback is\u001b[0m\u001b[1;33m\u001b[0m\u001b[1;33m\u001b[0m\u001b[1;33m\u001b[0m\u001b[0m\n\u001b[0;32m    767\u001b[0m             \u001b[1;31m# called before we get here, causing self._jobs to\u001b[0m\u001b[1;33m\u001b[0m\u001b[1;33m\u001b[0m\u001b[1;33m\u001b[0m\u001b[0m\n",
      "\u001b[1;32m~\\anaconda3\\lib\\site-packages\\joblib\\_parallel_backends.py\u001b[0m in \u001b[0;36mapply_async\u001b[1;34m(self, func, callback)\u001b[0m\n\u001b[0;32m    529\u001b[0m     \u001b[1;32mdef\u001b[0m \u001b[0mapply_async\u001b[0m\u001b[1;33m(\u001b[0m\u001b[0mself\u001b[0m\u001b[1;33m,\u001b[0m \u001b[0mfunc\u001b[0m\u001b[1;33m,\u001b[0m \u001b[0mcallback\u001b[0m\u001b[1;33m=\u001b[0m\u001b[1;32mNone\u001b[0m\u001b[1;33m)\u001b[0m\u001b[1;33m:\u001b[0m\u001b[1;33m\u001b[0m\u001b[1;33m\u001b[0m\u001b[0m\n\u001b[0;32m    530\u001b[0m         \u001b[1;34m\"\"\"Schedule a func to be run\"\"\"\u001b[0m\u001b[1;33m\u001b[0m\u001b[1;33m\u001b[0m\u001b[0m\n\u001b[1;32m--> 531\u001b[1;33m         \u001b[0mfuture\u001b[0m \u001b[1;33m=\u001b[0m \u001b[0mself\u001b[0m\u001b[1;33m.\u001b[0m\u001b[0m_workers\u001b[0m\u001b[1;33m.\u001b[0m\u001b[0msubmit\u001b[0m\u001b[1;33m(\u001b[0m\u001b[0mSafeFunction\u001b[0m\u001b[1;33m(\u001b[0m\u001b[0mfunc\u001b[0m\u001b[1;33m)\u001b[0m\u001b[1;33m)\u001b[0m\u001b[1;33m\u001b[0m\u001b[1;33m\u001b[0m\u001b[0m\n\u001b[0m\u001b[0;32m    532\u001b[0m         \u001b[0mfuture\u001b[0m\u001b[1;33m.\u001b[0m\u001b[0mget\u001b[0m \u001b[1;33m=\u001b[0m \u001b[0mfunctools\u001b[0m\u001b[1;33m.\u001b[0m\u001b[0mpartial\u001b[0m\u001b[1;33m(\u001b[0m\u001b[0mself\u001b[0m\u001b[1;33m.\u001b[0m\u001b[0mwrap_future_result\u001b[0m\u001b[1;33m,\u001b[0m \u001b[0mfuture\u001b[0m\u001b[1;33m)\u001b[0m\u001b[1;33m\u001b[0m\u001b[1;33m\u001b[0m\u001b[0m\n\u001b[0;32m    533\u001b[0m         \u001b[1;32mif\u001b[0m \u001b[0mcallback\u001b[0m \u001b[1;32mis\u001b[0m \u001b[1;32mnot\u001b[0m \u001b[1;32mNone\u001b[0m\u001b[1;33m:\u001b[0m\u001b[1;33m\u001b[0m\u001b[1;33m\u001b[0m\u001b[0m\n",
      "\u001b[1;32m~\\anaconda3\\lib\\site-packages\\joblib\\externals\\loky\\reusable_executor.py\u001b[0m in \u001b[0;36msubmit\u001b[1;34m(self, fn, *args, **kwargs)\u001b[0m\n\u001b[0;32m    175\u001b[0m     \u001b[1;32mdef\u001b[0m \u001b[0msubmit\u001b[0m\u001b[1;33m(\u001b[0m\u001b[0mself\u001b[0m\u001b[1;33m,\u001b[0m \u001b[0mfn\u001b[0m\u001b[1;33m,\u001b[0m \u001b[1;33m*\u001b[0m\u001b[0margs\u001b[0m\u001b[1;33m,\u001b[0m \u001b[1;33m**\u001b[0m\u001b[0mkwargs\u001b[0m\u001b[1;33m)\u001b[0m\u001b[1;33m:\u001b[0m\u001b[1;33m\u001b[0m\u001b[1;33m\u001b[0m\u001b[0m\n\u001b[0;32m    176\u001b[0m         \u001b[1;32mwith\u001b[0m \u001b[0mself\u001b[0m\u001b[1;33m.\u001b[0m\u001b[0m_submit_resize_lock\u001b[0m\u001b[1;33m:\u001b[0m\u001b[1;33m\u001b[0m\u001b[1;33m\u001b[0m\u001b[0m\n\u001b[1;32m--> 177\u001b[1;33m             return super(_ReusablePoolExecutor, self).submit(\n\u001b[0m\u001b[0;32m    178\u001b[0m                 fn, *args, **kwargs)\n\u001b[0;32m    179\u001b[0m \u001b[1;33m\u001b[0m\u001b[0m\n",
      "\u001b[1;32m~\\anaconda3\\lib\\site-packages\\joblib\\externals\\loky\\process_executor.py\u001b[0m in \u001b[0;36msubmit\u001b[1;34m(self, fn, *args, **kwargs)\u001b[0m\n\u001b[0;32m   1100\u001b[0m         \u001b[1;32mwith\u001b[0m \u001b[0mself\u001b[0m\u001b[1;33m.\u001b[0m\u001b[0m_flags\u001b[0m\u001b[1;33m.\u001b[0m\u001b[0mshutdown_lock\u001b[0m\u001b[1;33m:\u001b[0m\u001b[1;33m\u001b[0m\u001b[1;33m\u001b[0m\u001b[0m\n\u001b[0;32m   1101\u001b[0m             \u001b[1;32mif\u001b[0m \u001b[0mself\u001b[0m\u001b[1;33m.\u001b[0m\u001b[0m_flags\u001b[0m\u001b[1;33m.\u001b[0m\u001b[0mbroken\u001b[0m \u001b[1;32mis\u001b[0m \u001b[1;32mnot\u001b[0m \u001b[1;32mNone\u001b[0m\u001b[1;33m:\u001b[0m\u001b[1;33m\u001b[0m\u001b[1;33m\u001b[0m\u001b[0m\n\u001b[1;32m-> 1102\u001b[1;33m                 \u001b[1;32mraise\u001b[0m \u001b[0mself\u001b[0m\u001b[1;33m.\u001b[0m\u001b[0m_flags\u001b[0m\u001b[1;33m.\u001b[0m\u001b[0mbroken\u001b[0m\u001b[1;33m\u001b[0m\u001b[1;33m\u001b[0m\u001b[0m\n\u001b[0m\u001b[0;32m   1103\u001b[0m             \u001b[1;32mif\u001b[0m \u001b[0mself\u001b[0m\u001b[1;33m.\u001b[0m\u001b[0m_flags\u001b[0m\u001b[1;33m.\u001b[0m\u001b[0mshutdown\u001b[0m\u001b[1;33m:\u001b[0m\u001b[1;33m\u001b[0m\u001b[1;33m\u001b[0m\u001b[0m\n\u001b[0;32m   1104\u001b[0m                 raise ShutdownExecutorError(\n",
      "\u001b[1;31mTerminatedWorkerError\u001b[0m: A worker process managed by the executor was unexpectedly terminated. This could be caused by a segmentation fault while calling the function or by an excessive memory usage causing the Operating System to kill the worker.\n"
     ]
    }
   ],
   "source": [
    "# I will create a randomized search object and trained it.\n",
    "model = GradientBoostingRegressor(random_state = 60)\n",
    "\n",
    "# Set up the random search with 5-fold cross validation\n",
    "grid_search = GridSearchCV(estimator = model,\n",
    "                         param_grid = hyperparameter_grid,\n",
    "                         cv = 5,\n",
    "                         scoring = 'neg_mean_absolute_error',\n",
    "                         n_jobs = -1,\n",
    "                         verbose = 1,\n",
    "                         return_train_score = True\n",
    "                         )\n",
    "\n",
    "# Fit on the training data\n",
    "grid_search.fit(x_train,y_train)"
   ]
  },
  {
   "cell_type": "code",
   "execution_count": null,
   "metadata": {},
   "outputs": [],
   "source": [
    "# After training, I can get the best performing one\n",
    "grid_search.best_estimator_"
   ]
  },
  {
   "cell_type": "markdown",
   "metadata": {},
   "source": [
    "However, since the last process took really too long(take several house to finish, and before it finish, it suffer an unexpected terminated. to save the time, I just listed the code, but not executed it )"
   ]
  },
  {
   "cell_type": "markdown",
   "metadata": {},
   "source": [
    "#### 2) hyperparameters tuning with random search and cross validation\n",
    "Then I will choose the best hyperparameters for the model through **random search and cross validation**. Random search refers to the method in which we choose hyperparameter to evaluate: we first define a range of options, and then randomly select combination to try. This is in contrast to grid search which evaluate every single combination we specify. Generally, random search is better when we have limited knowledge of the best model hyperparameters and we can use it to narrow down the options and then use grid search with a more limited range of options. And random search is much faster than grid search. "
   ]
  },
  {
   "cell_type": "code",
   "execution_count": 44,
   "metadata": {},
   "outputs": [],
   "source": [
    "# Loss function to be optimized\n",
    "loss = ['ls', 'lad', 'huber']\n",
    "\n",
    "# Number of trees used in the boosting process\n",
    "n_estimators = [200, 300, 500, 800, 1000]\n",
    "\n",
    "# Maximum depth of each tree\n",
    "max_depth = [4, 5, 6, 8, 12,15]\n",
    "\n",
    "# Minimum number of samples per leaf\n",
    "min_samples_leaf = [1, 2, 4, 6, 8]\n",
    "\n",
    "# Minimum number of samples to split a node\n",
    "min_samples_split = [6, 8, 10,12,16]\n",
    "\n",
    "# Maximum number of features to consider for making splits\n",
    "max_features = ['auto', 'sqrt', 'log2', None]\n",
    "\n",
    "# Define the grid of hyperparameters to search\n",
    "hyperparameter_grid = {'loss':loss,\n",
    "                      'n_estimators': n_estimators,\n",
    "                      'max_depth':max_depth,\n",
    "                      'min_samples_leaf':min_samples_leaf,\n",
    "                      'min_samples_split': min_samples_split,\n",
    "                      'max_features': max_features}"
   ]
  },
  {
   "cell_type": "code",
   "execution_count": 45,
   "metadata": {},
   "outputs": [
    {
     "name": "stdout",
     "output_type": "stream",
     "text": [
      "Fitting 5 folds for each of 40 candidates, totalling 200 fits\n"
     ]
    },
    {
     "name": "stderr",
     "output_type": "stream",
     "text": [
      "[Parallel(n_jobs=-1)]: Using backend LokyBackend with 8 concurrent workers.\n",
      "[Parallel(n_jobs=-1)]: Done  34 tasks      | elapsed:   46.0s\n",
      "[Parallel(n_jobs=-1)]: Done 184 tasks      | elapsed:  2.9min\n",
      "[Parallel(n_jobs=-1)]: Done 200 out of 200 | elapsed:  2.9min finished\n"
     ]
    },
    {
     "data": {
      "text/plain": [
       "RandomizedSearchCV(cv=5, estimator=GradientBoostingRegressor(random_state=60),\n",
       "                   n_iter=40, n_jobs=-1,\n",
       "                   param_distributions={'loss': ['ls', 'lad', 'huber'],\n",
       "                                        'max_depth': [4, 5, 6, 8, 12, 15],\n",
       "                                        'max_features': ['auto', 'sqrt', 'log2',\n",
       "                                                         None],\n",
       "                                        'min_samples_leaf': [1, 2, 4, 6, 8],\n",
       "                                        'min_samples_split': [6, 8, 10, 12, 16],\n",
       "                                        'n_estimators': [200, 300, 500, 800,\n",
       "                                                         1000]},\n",
       "                   random_state=60, return_train_score=True,\n",
       "                   scoring='neg_mean_absolute_error', verbose=1)"
      ]
     },
     "execution_count": 45,
     "metadata": {},
     "output_type": "execute_result"
    }
   ],
   "source": [
    "# I will create a randomized search object and trained it.\n",
    "model = GradientBoostingRegressor(random_state = 60)\n",
    "\n",
    "# Set up the random search with 5-fold cross validation\n",
    "random_cv = RandomizedSearchCV(estimator = model,\n",
    "                               param_distributions = hyperparameter_grid,\n",
    "                               cv = 5,\n",
    "                               n_iter = 40,\n",
    "                               scoring = 'neg_mean_absolute_error',\n",
    "                               n_jobs = -1,\n",
    "                               verbose = 1,\n",
    "                               return_train_score = True,\n",
    "                               random_state = 60)\n",
    "\n",
    "# Fit on the training data\n",
    "random_cv.fit(x_train,y_train)"
   ]
  },
  {
   "cell_type": "code",
   "execution_count": 46,
   "metadata": {},
   "outputs": [
    {
     "data": {
      "text/plain": [
       "GradientBoostingRegressor(loss='lad', max_depth=4, max_features='sqrt',\n",
       "                          min_samples_leaf=4, min_samples_split=12,\n",
       "                          n_estimators=200, random_state=60)"
      ]
     },
     "execution_count": 46,
     "metadata": {},
     "output_type": "execute_result"
    }
   ],
   "source": [
    "# After training, I will choose the best performing one\n",
    "random_cv.best_estimator_"
   ]
  },
  {
   "cell_type": "markdown",
   "metadata": {},
   "source": [
    "**The best gradient boosting model has the following hyperparameters:**\n",
    "- loss = lad\n",
    "- n_estimators = 200\n",
    "- max_depth = 4\n",
    "- min_samples_leaf = 4\n",
    "- min_samples_split = 12\n",
    "- max_features = sqrt"
   ]
  },
  {
   "cell_type": "markdown",
   "metadata": {},
   "source": [
    "As we can see, the random search results help us to narrow down the possible hyperparameters to try. We can use it to inform a grid search by creating a grid with hyperparamters close to those that worked best during the randomized search. However, insteadinf of evaluating all of these setting again, I will focus on a single one, the number of trees in forest. By varying only one hyperparameter, we can directly observe how it affect performance. "
   ]
  },
  {
   "cell_type": "code",
   "execution_count": 47,
   "metadata": {},
   "outputs": [
    {
     "name": "stdout",
     "output_type": "stream",
     "text": [
      "Fitting 5 folds for each of 5 candidates, totalling 25 fits\n"
     ]
    },
    {
     "name": "stderr",
     "output_type": "stream",
     "text": [
      "[Parallel(n_jobs=-1)]: Using backend LokyBackend with 8 concurrent workers.\n",
      "[Parallel(n_jobs=-1)]: Done  25 out of  25 | elapsed:    7.3s finished\n"
     ]
    },
    {
     "data": {
      "text/plain": [
       "GridSearchCV(cv=5,\n",
       "             estimator=GradientBoostingRegressor(loss='lad', max_depth=4,\n",
       "                                                 max_features='sqrt',\n",
       "                                                 min_samples_leaf=4,\n",
       "                                                 min_samples_split=12,\n",
       "                                                 random_state=60),\n",
       "             n_jobs=-1, param_grid={'n_estimators': [50, 100, 200, 250, 300]},\n",
       "             return_train_score=True, scoring='neg_mean_absolute_error',\n",
       "             verbose=1)"
      ]
     },
     "execution_count": 47,
     "metadata": {},
     "output_type": "execute_result"
    }
   ],
   "source": [
    "# Create a range of trees to evaluate\n",
    "trees_grid = {'n_estimators': [50, 100, 200, 250, 300]}\n",
    "\n",
    "model = GradientBoostingRegressor(loss = 'lad', \n",
    "                                  max_depth = 4,\n",
    "                                  min_samples_leaf = 4,\n",
    "                                  min_samples_split = 12,\n",
    "                                  max_features = 'sqrt',\n",
    "                                  random_state = 60)\n",
    "\n",
    "# Grid Search Object using the trees range and the random forest model\n",
    "grid_search = GridSearchCV(estimator = model, \n",
    "                           param_grid=trees_grid, \n",
    "                           cv = 5, \n",
    "                           scoring = 'neg_mean_absolute_error', \n",
    "                           verbose = 1,\n",
    "                           n_jobs = -1, \n",
    "                           return_train_score = True)\n",
    "\n",
    "# Fit the grid search\n",
    "grid_search.fit(x_train, y_train)"
   ]
  },
  {
   "cell_type": "code",
   "execution_count": 48,
   "metadata": {},
   "outputs": [
    {
     "data": {
      "text/plain": [
       "Text(0.5, 1.0, 'Performance vs Number of Trees')"
      ]
     },
     "execution_count": 48,
     "metadata": {},
     "output_type": "execute_result"
    },
    {
     "data": {
      "image/png": "[encoded data removed]",
      "text/plain": [
       "<Figure size 432x288 with 1 Axes>"
      ]
     },
     "metadata": {},
     "output_type": "display_data"
    }
   ],
   "source": [
    "# Get the results into a dataframe\n",
    "results = pd.DataFrame(grid_search.cv_results_)\n",
    "\n",
    "# Plot the training and testing error vs number of trees\n",
    "plt.plot(results['param_n_estimators'], -1 * results['mean_test_score'], label='Testing Error')\n",
    "plt.plot(results['param_n_estimators'], -1 * results['mean_train_score'], label = 'Training Error')\n",
    "plt.xlabel('Number of Trees')\n",
    "plt.ylabel('Mean Absolute Error')\n",
    "plt.legend()\n",
    "plt.title('Performance vs Number of Trees')"
   ]
  },
  {
   "cell_type": "markdown",
   "metadata": {},
   "source": [
    "From this plot, it's pretty clear that our model is good, since the training error and testing error didn't show great difference. If the training erros is significantly lower than the testing error, which means that the model is learning the training data very well, but then is not able to generalize to the test data as well. We should try and reduce overfiting. We can try to get more data, reduce the numbers of trees, reduce the max depth of each tree, increase the minimum number of samples in a leaf node."
   ]
  },
  {
   "cell_type": "markdown",
   "metadata": {},
   "source": [
    "### Evaluate Final Model on the Test Set\n",
    "We will use the best model from hyperparameter tuning to make predictions on the testing set. For comparision, we can also look at the performance of the default model. The code below creates the final model, trains it, and evaluate on the test set."
   ]
  },
  {
   "cell_type": "code",
   "execution_count": 70,
   "metadata": {},
   "outputs": [],
   "source": [
    "final = GradientBoostingRegressor(loss = 'ls',\n",
    "                                        learning_rate = 0.1,\n",
    "                                        n_estimators = 150, \n",
    "                                        max_depth=4,\n",
    "                                        max_features='sqrt',\n",
    "                                        min_samples_leaf=4,\n",
    "                                        min_samples_split=12,\n",
    "                                        random_state=60,                                    \n",
    "                                        verbose=1)"
   ]
  },
  {
   "cell_type": "code",
   "execution_count": 71,
   "metadata": {},
   "outputs": [
    {
     "data": {
      "text/plain": [
       "GradientBoostingRegressor(loss='lad', max_depth=4, max_features='sqrt',\n",
       "                          min_samples_leaf=4, min_samples_split=12,\n",
       "                          random_state=60)"
      ]
     },
     "execution_count": 71,
     "metadata": {},
     "output_type": "execute_result"
    }
   ],
   "source": [
    "# Defaulst model\n",
    "default_model = GradientBoostingRegressor(random_state = 60)\n",
    "\n",
    "# Select the best model\n",
    "final_model"
   ]
  },
  {
   "cell_type": "code",
   "execution_count": 72,
   "metadata": {},
   "outputs": [
    {
     "name": "stdout",
     "output_type": "stream",
     "text": [
      "144 ms ± 5.73 ms per loop (mean ± std. dev. of 5 runs, 1 loop each)\n"
     ]
    }
   ],
   "source": [
    "%%timeit -n 1 -r 5\n",
    "default_model.fit(x_train, y_train)"
   ]
  },
  {
   "cell_type": "code",
   "execution_count": 73,
   "metadata": {},
   "outputs": [
    {
     "name": "stdout",
     "output_type": "stream",
     "text": [
      "282 ms ± 5.59 ms per loop (mean ± std. dev. of 5 runs, 1 loop each)\n"
     ]
    }
   ],
   "source": [
    "%%timeit -n 1 -r 5\n",
    "final_model.fit(x_train, y_train)"
   ]
  },
  {
   "cell_type": "code",
   "execution_count": 75,
   "metadata": {},
   "outputs": [
    {
     "name": "stdout",
     "output_type": "stream",
     "text": [
      "Default model performance on the test set: MAE = 0.3097.\n",
      "Final model performance on the test set: MAE = 0.3073.\n"
     ]
    }
   ],
   "source": [
    "default_pred = default_model.predict(x_test)\n",
    "final_pred = final_model.predict(x_test)\n",
    "\n",
    "print('Default model performance on the test set: MAE = %0.4f.' % mae(y_test, default_pred))\n",
    "print('Final model performance on the test set: MAE = %0.4f.' % mae(y_test, final_pred))"
   ]
  },
  {
   "cell_type": "code",
   "execution_count": 78,
   "metadata": {},
   "outputs": [
    {
     "data": {
      "image/png": "[encoded data removed]",
      "text/plain": [
       "<Figure size 432x288 with 1 Axes>"
      ]
     },
     "metadata": {},
     "output_type": "display_data"
    }
   ],
   "source": [
    "# Density plot of the final predictions and the test values\n",
    "sns.kdeplot(final_pred, label = 'Predictions')\n",
    "sns.kdeplot(y_test, label = 'Values')\n",
    "\n",
    "# Label the plot\n",
    "plt.xlabel('Energy Star Score')\n",
    "plt.ylabel('Density');\n",
    "plt.title('Test Values and Predictions');"
   ]
  },
  {
   "cell_type": "code",
   "execution_count": 79,
   "metadata": {},
   "outputs": [
    {
     "data": {
      "image/png": "[encoded data removed]",
      "text/plain": [
       "<Figure size 432x288 with 1 Axes>"
      ]
     },
     "metadata": {},
     "output_type": "display_data"
    }
   ],
   "source": [
    "# Calculate the residuals \n",
    "residuals = final_pred - y_test\n",
    "\n",
    "# Plot the residuals in a histogram\n",
    "plt.hist(residuals, color = 'red', bins = 20,\n",
    "         edgecolor = 'black')\n",
    "plt.xlabel('Error'); plt.ylabel('Count')\n",
    "plt.title('Distribution of Residuals');"
   ]
  },
  {
   "cell_type": "markdown",
   "metadata": {},
   "source": [
    "### Feature Importances\n",
    "One of the basic ways we can interpret an ensemble of decision trees is through what are known as the feature importances. These can be interpreted as the variables which are most predictive of the target. While the actual details of the feature importances are quite complex, we can use the relative values to compare the features and determine which are most relevant to the problem."
   ]
  },
  {
   "cell_type": "code",
   "execution_count": 83,
   "metadata": {},
   "outputs": [
    {
     "data": {
      "text/html": [
       "<div>\n",
       "<style scoped>\n",
       "    .dataframe tbody tr th:only-of-type {\n",
       "        vertical-align: middle;\n",
       "    }\n",
       "\n",
       "    .dataframe tbody tr th {\n",
       "        vertical-align: top;\n",
       "    }\n",
       "\n",
       "    .dataframe thead th {\n",
       "        text-align: right;\n",
       "    }\n",
       "</style>\n",
       "<table border=\"1\" class=\"dataframe\">\n",
       "  <thead>\n",
       "    <tr style=\"text-align: right;\">\n",
       "      <th></th>\n",
       "      <th>feature</th>\n",
       "      <th>importance</th>\n",
       "    </tr>\n",
       "  </thead>\n",
       "  <tbody>\n",
       "    <tr>\n",
       "      <th>0</th>\n",
       "      <td>dept_HR</td>\n",
       "      <td>0.762187</td>\n",
       "    </tr>\n",
       "    <tr>\n",
       "      <th>1</th>\n",
       "      <td>dept_engineering</td>\n",
       "      <td>0.146649</td>\n",
       "    </tr>\n",
       "    <tr>\n",
       "      <th>2</th>\n",
       "      <td>dept_sales</td>\n",
       "      <td>0.048860</td>\n",
       "    </tr>\n",
       "    <tr>\n",
       "      <th>3</th>\n",
       "      <td>sex_F</td>\n",
       "      <td>0.025371</td>\n",
       "    </tr>\n",
       "    <tr>\n",
       "      <th>4</th>\n",
       "      <td>sex_M</td>\n",
       "      <td>0.009827</td>\n",
       "    </tr>\n",
       "    <tr>\n",
       "      <th>5</th>\n",
       "      <td>sqrt_signing_bonus</td>\n",
       "      <td>0.003868</td>\n",
       "    </tr>\n",
       "    <tr>\n",
       "      <th>6</th>\n",
       "      <td>signing_bonus</td>\n",
       "      <td>0.003238</td>\n",
       "    </tr>\n",
       "  </tbody>\n",
       "</table>\n",
       "</div>"
      ],
      "text/plain": [
       "              feature  importance\n",
       "0             dept_HR    0.762187\n",
       "1    dept_engineering    0.146649\n",
       "2          dept_sales    0.048860\n",
       "3               sex_F    0.025371\n",
       "4               sex_M    0.009827\n",
       "5  sqrt_signing_bonus    0.003868\n",
       "6       signing_bonus    0.003238"
      ]
     },
     "execution_count": 83,
     "metadata": {},
     "output_type": "execute_result"
    }
   ],
   "source": [
    "# Extract the feature importances into a dataframe\n",
    "feature_results = pd.DataFrame({'feature': list(new_features.columns), \n",
    "                                'importance': final_model.feature_importances_})\n",
    "\n",
    "# Show the top 10 most important\n",
    "feature_results = feature_results.sort_values('importance', ascending = False).reset_index(drop=True)\n",
    "\n",
    "feature_results.head(10)"
   ]
  },
  {
   "cell_type": "markdown",
   "metadata": {},
   "source": [
    "The dept-HR and dept_engineering are the most important features. After that, the relative importance drops off considerably which indicates that we might not need to retain all of the features to create a model with nearly the same performance."
   ]
  },
  {
   "cell_type": "code",
   "execution_count": 85,
   "metadata": {},
   "outputs": [
    {
     "data": {
      "image/png": "[encoded data removed]",
      "text/plain": [
       "<Figure size 432x288 with 1 Axes>"
      ]
     },
     "metadata": {},
     "output_type": "display_data"
    }
   ],
   "source": [
    "# Plot the 10 most important features in a horizontal bar chart\n",
    "feature_results.loc[:9, :].plot(x = 'feature', y = 'importance', \n",
    "                                 edgecolor = 'k',\n",
    "                                 kind='barh', color = 'blue');\n",
    "plt.xlabel('Relative Importance', size = 20); plt.ylabel('')\n",
    "plt.title('Feature Importances from Gradient Boosting Regressor', size = 30);"
   ]
  },
  {
   "cell_type": "markdown",
   "metadata": {},
   "source": [
    "### XGBoost model\n",
    "We also tried the XGBoost model, which has been proved to be very fast and efficient and become the most populat one in Kaggle competition."
   ]
  },
  {
   "cell_type": "code",
   "execution_count": 153,
   "metadata": {},
   "outputs": [],
   "source": [
    "import xgboost as xgb"
   ]
  },
  {
   "cell_type": "code",
   "execution_count": 115,
   "metadata": {},
   "outputs": [],
   "source": [
    "train_matrix = xgb.DMatrix(x_train, y_train)\n",
    "test_matrix = xgb.DMatrix(x_test)"
   ]
  },
  {
   "cell_type": "code",
   "execution_count": 132,
   "metadata": {},
   "outputs": [],
   "source": [
    "reg_xgb = xgb.XGBRegressor(objective = 'reg:linear')"
   ]
  },
  {
   "cell_type": "code",
   "execution_count": 144,
   "metadata": {},
   "outputs": [
    {
     "name": "stdout",
     "output_type": "stream",
     "text": [
      "[14:30:49] WARNING: d:\\bld\\xgboost-split_1615294821523\\work\\src\\objective\\regression_obj.cu:170: reg:linear is now deprecated in favor of reg:squarederror.\n",
      "[0]\tvalidation_0-rmse:8.07581\n",
      "[1]\tvalidation_0-rmse:5.65862\n",
      "[2]\tvalidation_0-rmse:3.96926\n",
      "[3]\tvalidation_0-rmse:2.79072\n",
      "[4]\tvalidation_0-rmse:1.97154\n",
      "[5]\tvalidation_0-rmse:1.40625\n",
      "[6]\tvalidation_0-rmse:1.02155\n",
      "[7]\tvalidation_0-rmse:0.76624\n",
      "[8]\tvalidation_0-rmse:0.60364\n",
      "[9]\tvalidation_0-rmse:0.50587\n",
      "[10]\tvalidation_0-rmse:0.45082\n",
      "[11]\tvalidation_0-rmse:0.42161\n",
      "[12]\tvalidation_0-rmse:0.40680\n",
      "[13]\tvalidation_0-rmse:0.39954\n",
      "[14]\tvalidation_0-rmse:0.39609\n",
      "[15]\tvalidation_0-rmse:0.39449\n",
      "[16]\tvalidation_0-rmse:0.39377\n",
      "[17]\tvalidation_0-rmse:0.39348\n",
      "[18]\tvalidation_0-rmse:0.39337\n",
      "[19]\tvalidation_0-rmse:0.39334\n",
      "[20]\tvalidation_0-rmse:0.39334\n",
      "[21]\tvalidation_0-rmse:0.39336\n",
      "[22]\tvalidation_0-rmse:0.39338\n",
      "[23]\tvalidation_0-rmse:0.39339\n",
      "[24]\tvalidation_0-rmse:0.39340\n",
      "[25]\tvalidation_0-rmse:0.39341\n",
      "[26]\tvalidation_0-rmse:0.39342\n",
      "[27]\tvalidation_0-rmse:0.39342\n",
      "[28]\tvalidation_0-rmse:0.39343\n",
      "[29]\tvalidation_0-rmse:0.39343\n"
     ]
    },
    {
     "data": {
      "text/plain": [
       "XGBRegressor(base_score=0.5, booster='gbtree', colsample_bylevel=1,\n",
       "             colsample_bynode=1, colsample_bytree=1, gamma=0, gpu_id=-1,\n",
       "             importance_type='gain', interaction_constraints='',\n",
       "             learning_rate=0.300000012, max_delta_step=0, max_depth=6,\n",
       "             min_child_weight=1, missing=nan, monotone_constraints='()',\n",
       "             n_estimators=100, n_jobs=8, num_parallel_tree=1,\n",
       "             objective='reg:linear', random_state=0, reg_alpha=0, reg_lambda=1,\n",
       "             scale_pos_weight=1, subsample=1, tree_method='exact',\n",
       "             validate_parameters=1, verbosity=None)"
      ]
     },
     "execution_count": 144,
     "metadata": {},
     "output_type": "execute_result"
    }
   ],
   "source": [
    "reg_xgb.fit(x_train,\n",
    "           y_train,\n",
    "           verbose = True,\n",
    "           early_stopping_rounds = 10,\n",
    "           eval_metric = 'rmse',\n",
    "           eval_set = [(x_test,y_test)])"
   ]
  },
  {
   "cell_type": "code",
   "execution_count": 154,
   "metadata": {},
   "outputs": [],
   "source": [
    "param_grid = {'max_depth': [3, 4, 5],\n",
    "          'learning_rate': [0.1, 0.001, 0.05],\n",
    "          'gamma': [0, 0.25, 1.0],\n",
    "          'reg_lambda': [0, 1.0, 10.0],\n",
    "          'scale_pos_weight': [1, 3, 5]}\n",
    "\n",
    "optimal_params = GridSearchCV(estimator = reg_xgb,\n",
    "                    param_grid = param_grid,\n",
    "                    scoring = 'roc_auc',\n",
    "                    verbose = 0,\n",
    "                    n_jobs = 10,\n",
    "                    cv = 3)\n",
    "\n"
   ]
  },
  {
   "cell_type": "code",
   "execution_count": 155,
   "metadata": {},
   "outputs": [
    {
     "ename": "ValueError",
     "evalue": "continuous format is not supported",
     "output_type": "error",
     "traceback": [
      "\u001b[1;31m---------------------------------------------------------------------------\u001b[0m",
      "\u001b[1;31mValueError\u001b[0m                                Traceback (most recent call last)",
      "\u001b[1;32m<ipython-input-155-23143d74ff55>\u001b[0m in \u001b[0;36m<module>\u001b[1;34m\u001b[0m\n\u001b[1;32m----> 1\u001b[1;33m optimal_params.fit(x_train,y_train,\n\u001b[0m\u001b[0;32m      2\u001b[0m              \u001b[0mverbose\u001b[0m \u001b[1;33m=\u001b[0m \u001b[1;32mTrue\u001b[0m\u001b[1;33m,\u001b[0m\u001b[1;33m\u001b[0m\u001b[1;33m\u001b[0m\u001b[0m\n\u001b[0;32m      3\u001b[0m              \u001b[0mearly_stopping_rounds\u001b[0m \u001b[1;33m=\u001b[0m \u001b[1;36m10\u001b[0m\u001b[1;33m,\u001b[0m\u001b[1;33m\u001b[0m\u001b[1;33m\u001b[0m\u001b[0m\n\u001b[0;32m      4\u001b[0m              eval_metric = 'rmse',eval_set = [(x_test,y_test)])\n\u001b[0;32m      5\u001b[0m \u001b[1;33m\u001b[0m\u001b[0m\n",
      "\u001b[1;32m~\\anaconda3\\lib\\site-packages\\sklearn\\utils\\validation.py\u001b[0m in \u001b[0;36minner_f\u001b[1;34m(*args, **kwargs)\u001b[0m\n\u001b[0;32m     71\u001b[0m                           FutureWarning)\n\u001b[0;32m     72\u001b[0m         \u001b[0mkwargs\u001b[0m\u001b[1;33m.\u001b[0m\u001b[0mupdate\u001b[0m\u001b[1;33m(\u001b[0m\u001b[1;33m{\u001b[0m\u001b[0mk\u001b[0m\u001b[1;33m:\u001b[0m \u001b[0marg\u001b[0m \u001b[1;32mfor\u001b[0m \u001b[0mk\u001b[0m\u001b[1;33m,\u001b[0m \u001b[0marg\u001b[0m \u001b[1;32min\u001b[0m \u001b[0mzip\u001b[0m\u001b[1;33m(\u001b[0m\u001b[0msig\u001b[0m\u001b[1;33m.\u001b[0m\u001b[0mparameters\u001b[0m\u001b[1;33m,\u001b[0m \u001b[0margs\u001b[0m\u001b[1;33m)\u001b[0m\u001b[1;33m}\u001b[0m\u001b[1;33m)\u001b[0m\u001b[1;33m\u001b[0m\u001b[1;33m\u001b[0m\u001b[0m\n\u001b[1;32m---> 73\u001b[1;33m         \u001b[1;32mreturn\u001b[0m \u001b[0mf\u001b[0m\u001b[1;33m(\u001b[0m\u001b[1;33m**\u001b[0m\u001b[0mkwargs\u001b[0m\u001b[1;33m)\u001b[0m\u001b[1;33m\u001b[0m\u001b[1;33m\u001b[0m\u001b[0m\n\u001b[0m\u001b[0;32m     74\u001b[0m     \u001b[1;32mreturn\u001b[0m \u001b[0minner_f\u001b[0m\u001b[1;33m\u001b[0m\u001b[1;33m\u001b[0m\u001b[0m\n\u001b[0;32m     75\u001b[0m \u001b[1;33m\u001b[0m\u001b[0m\n",
      "\u001b[1;32m~\\anaconda3\\lib\\site-packages\\sklearn\\model_selection\\_search.py\u001b[0m in \u001b[0;36mfit\u001b[1;34m(self, X, y, groups, **fit_params)\u001b[0m\n\u001b[0;32m    734\u001b[0m                 \u001b[1;32mreturn\u001b[0m \u001b[0mresults\u001b[0m\u001b[1;33m\u001b[0m\u001b[1;33m\u001b[0m\u001b[0m\n\u001b[0;32m    735\u001b[0m \u001b[1;33m\u001b[0m\u001b[0m\n\u001b[1;32m--> 736\u001b[1;33m             \u001b[0mself\u001b[0m\u001b[1;33m.\u001b[0m\u001b[0m_run_search\u001b[0m\u001b[1;33m(\u001b[0m\u001b[0mevaluate_candidates\u001b[0m\u001b[1;33m)\u001b[0m\u001b[1;33m\u001b[0m\u001b[1;33m\u001b[0m\u001b[0m\n\u001b[0m\u001b[0;32m    737\u001b[0m \u001b[1;33m\u001b[0m\u001b[0m\n\u001b[0;32m    738\u001b[0m         \u001b[1;31m# For multi-metric evaluation, store the best_index_, best_params_ and\u001b[0m\u001b[1;33m\u001b[0m\u001b[1;33m\u001b[0m\u001b[1;33m\u001b[0m\u001b[0m\n",
      "\u001b[1;32m~\\anaconda3\\lib\\site-packages\\sklearn\\model_selection\\_search.py\u001b[0m in \u001b[0;36m_run_search\u001b[1;34m(self, evaluate_candidates)\u001b[0m\n\u001b[0;32m   1186\u001b[0m     \u001b[1;32mdef\u001b[0m \u001b[0m_run_search\u001b[0m\u001b[1;33m(\u001b[0m\u001b[0mself\u001b[0m\u001b[1;33m,\u001b[0m \u001b[0mevaluate_candidates\u001b[0m\u001b[1;33m)\u001b[0m\u001b[1;33m:\u001b[0m\u001b[1;33m\u001b[0m\u001b[1;33m\u001b[0m\u001b[0m\n\u001b[0;32m   1187\u001b[0m         \u001b[1;34m\"\"\"Search all candidates in param_grid\"\"\"\u001b[0m\u001b[1;33m\u001b[0m\u001b[1;33m\u001b[0m\u001b[0m\n\u001b[1;32m-> 1188\u001b[1;33m         \u001b[0mevaluate_candidates\u001b[0m\u001b[1;33m(\u001b[0m\u001b[0mParameterGrid\u001b[0m\u001b[1;33m(\u001b[0m\u001b[0mself\u001b[0m\u001b[1;33m.\u001b[0m\u001b[0mparam_grid\u001b[0m\u001b[1;33m)\u001b[0m\u001b[1;33m)\u001b[0m\u001b[1;33m\u001b[0m\u001b[1;33m\u001b[0m\u001b[0m\n\u001b[0m\u001b[0;32m   1189\u001b[0m \u001b[1;33m\u001b[0m\u001b[0m\n\u001b[0;32m   1190\u001b[0m \u001b[1;33m\u001b[0m\u001b[0m\n",
      "\u001b[1;32m~\\anaconda3\\lib\\site-packages\\sklearn\\model_selection\\_search.py\u001b[0m in \u001b[0;36mevaluate_candidates\u001b[1;34m(candidate_params)\u001b[0m\n\u001b[0;32m    706\u001b[0m                               n_splits, n_candidates, n_candidates * n_splits))\n\u001b[0;32m    707\u001b[0m \u001b[1;33m\u001b[0m\u001b[0m\n\u001b[1;32m--> 708\u001b[1;33m                 out = parallel(delayed(_fit_and_score)(clone(base_estimator),\n\u001b[0m\u001b[0;32m    709\u001b[0m                                                        \u001b[0mX\u001b[0m\u001b[1;33m,\u001b[0m \u001b[0my\u001b[0m\u001b[1;33m,\u001b[0m\u001b[1;33m\u001b[0m\u001b[1;33m\u001b[0m\u001b[0m\n\u001b[0;32m    710\u001b[0m                                                        \u001b[0mtrain\u001b[0m\u001b[1;33m=\u001b[0m\u001b[0mtrain\u001b[0m\u001b[1;33m,\u001b[0m \u001b[0mtest\u001b[0m\u001b[1;33m=\u001b[0m\u001b[0mtest\u001b[0m\u001b[1;33m,\u001b[0m\u001b[1;33m\u001b[0m\u001b[1;33m\u001b[0m\u001b[0m\n",
      "\u001b[1;32m~\\anaconda3\\lib\\site-packages\\joblib\\parallel.py\u001b[0m in \u001b[0;36m__call__\u001b[1;34m(self, iterable)\u001b[0m\n\u001b[0;32m   1040\u001b[0m \u001b[1;33m\u001b[0m\u001b[0m\n\u001b[0;32m   1041\u001b[0m             \u001b[1;32mwith\u001b[0m \u001b[0mself\u001b[0m\u001b[1;33m.\u001b[0m\u001b[0m_backend\u001b[0m\u001b[1;33m.\u001b[0m\u001b[0mretrieval_context\u001b[0m\u001b[1;33m(\u001b[0m\u001b[1;33m)\u001b[0m\u001b[1;33m:\u001b[0m\u001b[1;33m\u001b[0m\u001b[1;33m\u001b[0m\u001b[0m\n\u001b[1;32m-> 1042\u001b[1;33m                 \u001b[0mself\u001b[0m\u001b[1;33m.\u001b[0m\u001b[0mretrieve\u001b[0m\u001b[1;33m(\u001b[0m\u001b[1;33m)\u001b[0m\u001b[1;33m\u001b[0m\u001b[1;33m\u001b[0m\u001b[0m\n\u001b[0m\u001b[0;32m   1043\u001b[0m             \u001b[1;31m# Make sure that we get a last message telling us we are done\u001b[0m\u001b[1;33m\u001b[0m\u001b[1;33m\u001b[0m\u001b[1;33m\u001b[0m\u001b[0m\n\u001b[0;32m   1044\u001b[0m             \u001b[0melapsed_time\u001b[0m \u001b[1;33m=\u001b[0m \u001b[0mtime\u001b[0m\u001b[1;33m.\u001b[0m\u001b[0mtime\u001b[0m\u001b[1;33m(\u001b[0m\u001b[1;33m)\u001b[0m \u001b[1;33m-\u001b[0m \u001b[0mself\u001b[0m\u001b[1;33m.\u001b[0m\u001b[0m_start_time\u001b[0m\u001b[1;33m\u001b[0m\u001b[1;33m\u001b[0m\u001b[0m\n",
      "\u001b[1;32m~\\anaconda3\\lib\\site-packages\\joblib\\parallel.py\u001b[0m in \u001b[0;36mretrieve\u001b[1;34m(self)\u001b[0m\n\u001b[0;32m    919\u001b[0m             \u001b[1;32mtry\u001b[0m\u001b[1;33m:\u001b[0m\u001b[1;33m\u001b[0m\u001b[1;33m\u001b[0m\u001b[0m\n\u001b[0;32m    920\u001b[0m                 \u001b[1;32mif\u001b[0m \u001b[0mgetattr\u001b[0m\u001b[1;33m(\u001b[0m\u001b[0mself\u001b[0m\u001b[1;33m.\u001b[0m\u001b[0m_backend\u001b[0m\u001b[1;33m,\u001b[0m \u001b[1;34m'supports_timeout'\u001b[0m\u001b[1;33m,\u001b[0m \u001b[1;32mFalse\u001b[0m\u001b[1;33m)\u001b[0m\u001b[1;33m:\u001b[0m\u001b[1;33m\u001b[0m\u001b[1;33m\u001b[0m\u001b[0m\n\u001b[1;32m--> 921\u001b[1;33m                     \u001b[0mself\u001b[0m\u001b[1;33m.\u001b[0m\u001b[0m_output\u001b[0m\u001b[1;33m.\u001b[0m\u001b[0mextend\u001b[0m\u001b[1;33m(\u001b[0m\u001b[0mjob\u001b[0m\u001b[1;33m.\u001b[0m\u001b[0mget\u001b[0m\u001b[1;33m(\u001b[0m\u001b[0mtimeout\u001b[0m\u001b[1;33m=\u001b[0m\u001b[0mself\u001b[0m\u001b[1;33m.\u001b[0m\u001b[0mtimeout\u001b[0m\u001b[1;33m)\u001b[0m\u001b[1;33m)\u001b[0m\u001b[1;33m\u001b[0m\u001b[1;33m\u001b[0m\u001b[0m\n\u001b[0m\u001b[0;32m    922\u001b[0m                 \u001b[1;32melse\u001b[0m\u001b[1;33m:\u001b[0m\u001b[1;33m\u001b[0m\u001b[1;33m\u001b[0m\u001b[0m\n\u001b[0;32m    923\u001b[0m                     \u001b[0mself\u001b[0m\u001b[1;33m.\u001b[0m\u001b[0m_output\u001b[0m\u001b[1;33m.\u001b[0m\u001b[0mextend\u001b[0m\u001b[1;33m(\u001b[0m\u001b[0mjob\u001b[0m\u001b[1;33m.\u001b[0m\u001b[0mget\u001b[0m\u001b[1;33m(\u001b[0m\u001b[1;33m)\u001b[0m\u001b[1;33m)\u001b[0m\u001b[1;33m\u001b[0m\u001b[1;33m\u001b[0m\u001b[0m\n",
      "\u001b[1;32m~\\anaconda3\\lib\\site-packages\\joblib\\_parallel_backends.py\u001b[0m in \u001b[0;36mwrap_future_result\u001b[1;34m(future, timeout)\u001b[0m\n\u001b[0;32m    540\u001b[0m         AsyncResults.get from multiprocessing.\"\"\"\n\u001b[0;32m    541\u001b[0m         \u001b[1;32mtry\u001b[0m\u001b[1;33m:\u001b[0m\u001b[1;33m\u001b[0m\u001b[1;33m\u001b[0m\u001b[0m\n\u001b[1;32m--> 542\u001b[1;33m             \u001b[1;32mreturn\u001b[0m \u001b[0mfuture\u001b[0m\u001b[1;33m.\u001b[0m\u001b[0mresult\u001b[0m\u001b[1;33m(\u001b[0m\u001b[0mtimeout\u001b[0m\u001b[1;33m=\u001b[0m\u001b[0mtimeout\u001b[0m\u001b[1;33m)\u001b[0m\u001b[1;33m\u001b[0m\u001b[1;33m\u001b[0m\u001b[0m\n\u001b[0m\u001b[0;32m    543\u001b[0m         \u001b[1;32mexcept\u001b[0m \u001b[0mCfTimeoutError\u001b[0m \u001b[1;32mas\u001b[0m \u001b[0me\u001b[0m\u001b[1;33m:\u001b[0m\u001b[1;33m\u001b[0m\u001b[1;33m\u001b[0m\u001b[0m\n\u001b[0;32m    544\u001b[0m             \u001b[1;32mraise\u001b[0m \u001b[0mTimeoutError\u001b[0m \u001b[1;32mfrom\u001b[0m \u001b[0me\u001b[0m\u001b[1;33m\u001b[0m\u001b[1;33m\u001b[0m\u001b[0m\n",
      "\u001b[1;32m~\\anaconda3\\lib\\concurrent\\futures\\_base.py\u001b[0m in \u001b[0;36mresult\u001b[1;34m(self, timeout)\u001b[0m\n\u001b[0;32m    437\u001b[0m                 \u001b[1;32mraise\u001b[0m \u001b[0mCancelledError\u001b[0m\u001b[1;33m(\u001b[0m\u001b[1;33m)\u001b[0m\u001b[1;33m\u001b[0m\u001b[1;33m\u001b[0m\u001b[0m\n\u001b[0;32m    438\u001b[0m             \u001b[1;32melif\u001b[0m \u001b[0mself\u001b[0m\u001b[1;33m.\u001b[0m\u001b[0m_state\u001b[0m \u001b[1;33m==\u001b[0m \u001b[0mFINISHED\u001b[0m\u001b[1;33m:\u001b[0m\u001b[1;33m\u001b[0m\u001b[1;33m\u001b[0m\u001b[0m\n\u001b[1;32m--> 439\u001b[1;33m                 \u001b[1;32mreturn\u001b[0m \u001b[0mself\u001b[0m\u001b[1;33m.\u001b[0m\u001b[0m__get_result\u001b[0m\u001b[1;33m(\u001b[0m\u001b[1;33m)\u001b[0m\u001b[1;33m\u001b[0m\u001b[1;33m\u001b[0m\u001b[0m\n\u001b[0m\u001b[0;32m    440\u001b[0m             \u001b[1;32melse\u001b[0m\u001b[1;33m:\u001b[0m\u001b[1;33m\u001b[0m\u001b[1;33m\u001b[0m\u001b[0m\n\u001b[0;32m    441\u001b[0m                 \u001b[1;32mraise\u001b[0m \u001b[0mTimeoutError\u001b[0m\u001b[1;33m(\u001b[0m\u001b[1;33m)\u001b[0m\u001b[1;33m\u001b[0m\u001b[1;33m\u001b[0m\u001b[0m\n",
      "\u001b[1;32m~\\anaconda3\\lib\\concurrent\\futures\\_base.py\u001b[0m in \u001b[0;36m__get_result\u001b[1;34m(self)\u001b[0m\n\u001b[0;32m    386\u001b[0m     \u001b[1;32mdef\u001b[0m \u001b[0m__get_result\u001b[0m\u001b[1;33m(\u001b[0m\u001b[0mself\u001b[0m\u001b[1;33m)\u001b[0m\u001b[1;33m:\u001b[0m\u001b[1;33m\u001b[0m\u001b[1;33m\u001b[0m\u001b[0m\n\u001b[0;32m    387\u001b[0m         \u001b[1;32mif\u001b[0m \u001b[0mself\u001b[0m\u001b[1;33m.\u001b[0m\u001b[0m_exception\u001b[0m\u001b[1;33m:\u001b[0m\u001b[1;33m\u001b[0m\u001b[1;33m\u001b[0m\u001b[0m\n\u001b[1;32m--> 388\u001b[1;33m             \u001b[1;32mraise\u001b[0m \u001b[0mself\u001b[0m\u001b[1;33m.\u001b[0m\u001b[0m_exception\u001b[0m\u001b[1;33m\u001b[0m\u001b[1;33m\u001b[0m\u001b[0m\n\u001b[0m\u001b[0;32m    389\u001b[0m         \u001b[1;32melse\u001b[0m\u001b[1;33m:\u001b[0m\u001b[1;33m\u001b[0m\u001b[1;33m\u001b[0m\u001b[0m\n\u001b[0;32m    390\u001b[0m             \u001b[1;32mreturn\u001b[0m \u001b[0mself\u001b[0m\u001b[1;33m.\u001b[0m\u001b[0m_result\u001b[0m\u001b[1;33m\u001b[0m\u001b[1;33m\u001b[0m\u001b[0m\n",
      "\u001b[1;31mValueError\u001b[0m: continuous format is not supported"
     ]
    }
   ],
   "source": [
    "optimal_params.fit(x_train,y_train,\n",
    "             verbose = True,\n",
    "             early_stopping_rounds = 10,\n",
    "             eval_metric = 'rmse',eval_set = [(x_test,y_test)])\n",
    "\n"
   ]
  },
  {
   "cell_type": "code",
   "execution_count": null,
   "metadata": {},
   "outputs": [],
   "source": [
    "\n",
    "optimal_params.best_params_"
   ]
  },
  {
   "cell_type": "code",
   "execution_count": 116,
   "metadata": {},
   "outputs": [
    {
     "name": "stdout",
     "output_type": "stream",
     "text": [
      "[14:11:37] WARNING: d:\\bld\\xgboost-split_1615294821523\\work\\src\\objective\\regression_obj.cu:170: reg:linear is now deprecated in favor of reg:squarederror.\n",
      "[14:11:37] WARNING: d:\\bld\\xgboost-split_1615294821523\\work\\src\\objective\\regression_obj.cu:170: reg:linear is now deprecated in favor of reg:squarederror.\n",
      "[14:11:37] WARNING: d:\\bld\\xgboost-split_1615294821523\\work\\src\\objective\\regression_obj.cu:170: reg:linear is now deprecated in favor of reg:squarederror.\n",
      "[14:11:37] WARNING: d:\\bld\\xgboost-split_1615294821523\\work\\src\\objective\\regression_obj.cu:170: reg:linear is now deprecated in favor of reg:squarederror.\n",
      "[14:11:37] WARNING: d:\\bld\\xgboost-split_1615294821523\\work\\src\\objective\\regression_obj.cu:170: reg:linear is now deprecated in favor of reg:squarederror.\n",
      "[0]\ttrain-rmse:10.38944+0.00338\ttest-rmse:10.38943+0.01484\n",
      "[1]\ttrain-rmse:9.35264+0.00268\ttest-rmse:9.35274+0.01465\n",
      "[2]\ttrain-rmse:8.41987+0.00220\ttest-rmse:8.42011+0.01431\n",
      "[3]\ttrain-rmse:7.58026+0.00175\ttest-rmse:7.58070+0.01418\n",
      "[4]\ttrain-rmse:6.82495+0.00201\ttest-rmse:6.82527+0.01299\n",
      "[5]\ttrain-rmse:6.14563+0.00132\ttest-rmse:6.14603+0.01309\n",
      "[6]\ttrain-rmse:5.53384+0.00118\ttest-rmse:5.53419+0.01252\n",
      "[7]\ttrain-rmse:4.98370+0.00105\ttest-rmse:4.98391+0.01189\n",
      "[8]\ttrain-rmse:4.48895+0.00108\ttest-rmse:4.48895+0.01125\n",
      "[9]\ttrain-rmse:4.04399+0.00101\ttest-rmse:4.04393+0.01076\n",
      "[10]\ttrain-rmse:3.64410+0.00088\ttest-rmse:3.64391+0.01056\n",
      "[11]\ttrain-rmse:3.28456+0.00072\ttest-rmse:3.28436+0.01014\n",
      "[12]\ttrain-rmse:2.96136+0.00067\ttest-rmse:2.96124+0.00968\n",
      "[13]\ttrain-rmse:2.67100+0.00051\ttest-rmse:2.67103+0.00966\n",
      "[14]\ttrain-rmse:2.41014+0.00061\ttest-rmse:2.41010+0.00940\n",
      "[15]\ttrain-rmse:2.17615+0.00084\ttest-rmse:2.17613+0.00885\n",
      "[16]\ttrain-rmse:1.96604+0.00092\ttest-rmse:1.96599+0.00868\n",
      "[17]\ttrain-rmse:1.77791+0.00098\ttest-rmse:1.77783+0.00848\n",
      "[18]\ttrain-rmse:1.60935+0.00110\ttest-rmse:1.60941+0.00842\n",
      "[19]\ttrain-rmse:1.45853+0.00109\ttest-rmse:1.45858+0.00811\n",
      "[20]\ttrain-rmse:1.32382+0.00088\ttest-rmse:1.32385+0.00788\n",
      "[21]\ttrain-rmse:1.20363+0.00089\ttest-rmse:1.20366+0.00763\n",
      "[22]\ttrain-rmse:1.09688+0.00084\ttest-rmse:1.09692+0.00730\n",
      "[23]\ttrain-rmse:1.00194+0.00084\ttest-rmse:1.00197+0.00704\n",
      "[24]\ttrain-rmse:0.91788+0.00087\ttest-rmse:0.91789+0.00688\n",
      "[25]\ttrain-rmse:0.84361+0.00097\ttest-rmse:0.84363+0.00676\n",
      "[26]\ttrain-rmse:0.77845+0.00088\ttest-rmse:0.77849+0.00658\n",
      "[27]\ttrain-rmse:0.72125+0.00096\ttest-rmse:0.72138+0.00660\n",
      "[28]\ttrain-rmse:0.67123+0.00095\ttest-rmse:0.67136+0.00644\n",
      "[29]\ttrain-rmse:0.62791+0.00094\ttest-rmse:0.62806+0.00640\n",
      "[30]\ttrain-rmse:0.59054+0.00106\ttest-rmse:0.59072+0.00633\n",
      "[31]\ttrain-rmse:0.55820+0.00115\ttest-rmse:0.55838+0.00617\n",
      "[32]\ttrain-rmse:0.53059+0.00123\ttest-rmse:0.53081+0.00590\n",
      "[33]\ttrain-rmse:0.50719+0.00131\ttest-rmse:0.50743+0.00577\n",
      "[34]\ttrain-rmse:0.48737+0.00137\ttest-rmse:0.48765+0.00572\n",
      "[35]\ttrain-rmse:0.47074+0.00156\ttest-rmse:0.47110+0.00565\n",
      "[36]\ttrain-rmse:0.45677+0.00159\ttest-rmse:0.45717+0.00558\n",
      "[37]\ttrain-rmse:0.44518+0.00166\ttest-rmse:0.44559+0.00557\n",
      "[38]\ttrain-rmse:0.43551+0.00152\ttest-rmse:0.43597+0.00570\n",
      "[39]\ttrain-rmse:0.42763+0.00151\ttest-rmse:0.42810+0.00570\n",
      "[40]\ttrain-rmse:0.42111+0.00154\ttest-rmse:0.42162+0.00568\n",
      "[41]\ttrain-rmse:0.41567+0.00155\ttest-rmse:0.41618+0.00574\n",
      "[42]\ttrain-rmse:0.41123+0.00152\ttest-rmse:0.41178+0.00578\n",
      "[43]\ttrain-rmse:0.40756+0.00150\ttest-rmse:0.40815+0.00587\n",
      "[44]\ttrain-rmse:0.40456+0.00147\ttest-rmse:0.40517+0.00592\n",
      "[45]\ttrain-rmse:0.40216+0.00147\ttest-rmse:0.40278+0.00595\n",
      "[46]\ttrain-rmse:0.40019+0.00148\ttest-rmse:0.40083+0.00594\n",
      "[47]\ttrain-rmse:0.39856+0.00149\ttest-rmse:0.39922+0.00594\n",
      "[48]\ttrain-rmse:0.39726+0.00147\ttest-rmse:0.39795+0.00598\n",
      "[49]\ttrain-rmse:0.39614+0.00148\ttest-rmse:0.39688+0.00600\n",
      "[50]\ttrain-rmse:0.39529+0.00151\ttest-rmse:0.39604+0.00600\n",
      "[51]\ttrain-rmse:0.39459+0.00152\ttest-rmse:0.39534+0.00599\n",
      "[52]\ttrain-rmse:0.39403+0.00151\ttest-rmse:0.39479+0.00603\n",
      "[53]\ttrain-rmse:0.39358+0.00153\ttest-rmse:0.39436+0.00603\n",
      "[54]\ttrain-rmse:0.39320+0.00153\ttest-rmse:0.39401+0.00606\n",
      "[55]\ttrain-rmse:0.39291+0.00152\ttest-rmse:0.39372+0.00611\n",
      "[56]\ttrain-rmse:0.39265+0.00152\ttest-rmse:0.39349+0.00615\n",
      "[57]\ttrain-rmse:0.39245+0.00151\ttest-rmse:0.39331+0.00616\n",
      "[58]\ttrain-rmse:0.39229+0.00152\ttest-rmse:0.39316+0.00617\n",
      "[59]\ttrain-rmse:0.39216+0.00150\ttest-rmse:0.39301+0.00620\n",
      "[60]\ttrain-rmse:0.39206+0.00151\ttest-rmse:0.39293+0.00621\n",
      "[61]\ttrain-rmse:0.39197+0.00153\ttest-rmse:0.39285+0.00622\n",
      "[62]\ttrain-rmse:0.39188+0.00153\ttest-rmse:0.39279+0.00624\n",
      "[63]\ttrain-rmse:0.39182+0.00153\ttest-rmse:0.39273+0.00625\n",
      "[64]\ttrain-rmse:0.39177+0.00152\ttest-rmse:0.39267+0.00624\n",
      "[65]\ttrain-rmse:0.39173+0.00152\ttest-rmse:0.39265+0.00625\n",
      "[66]\ttrain-rmse:0.39170+0.00152\ttest-rmse:0.39263+0.00624\n",
      "[67]\ttrain-rmse:0.39168+0.00152\ttest-rmse:0.39262+0.00624\n",
      "[68]\ttrain-rmse:0.39165+0.00152\ttest-rmse:0.39259+0.00623\n",
      "[69]\ttrain-rmse:0.39163+0.00152\ttest-rmse:0.39256+0.00623\n",
      "[70]\ttrain-rmse:0.39162+0.00152\ttest-rmse:0.39256+0.00623\n",
      "[71]\ttrain-rmse:0.39161+0.00152\ttest-rmse:0.39255+0.00623\n",
      "[72]\ttrain-rmse:0.39160+0.00152\ttest-rmse:0.39254+0.00623\n",
      "[73]\ttrain-rmse:0.39160+0.00152\ttest-rmse:0.39253+0.00622\n",
      "[74]\ttrain-rmse:0.39159+0.00153\ttest-rmse:0.39252+0.00623\n",
      "[75]\ttrain-rmse:0.39158+0.00153\ttest-rmse:0.39251+0.00624\n",
      "[76]\ttrain-rmse:0.39158+0.00152\ttest-rmse:0.39250+0.00625\n",
      "[77]\ttrain-rmse:0.39157+0.00153\ttest-rmse:0.39251+0.00627\n",
      "[78]\ttrain-rmse:0.39157+0.00152\ttest-rmse:0.39248+0.00626\n",
      "[79]\ttrain-rmse:0.39157+0.00152\ttest-rmse:0.39247+0.00627\n",
      "[80]\ttrain-rmse:0.39157+0.00152\ttest-rmse:0.39247+0.00627\n",
      "[81]\ttrain-rmse:0.39157+0.00152\ttest-rmse:0.39248+0.00627\n",
      "[82]\ttrain-rmse:0.39157+0.00152\ttest-rmse:0.39246+0.00626\n",
      "[83]\ttrain-rmse:0.39156+0.00152\ttest-rmse:0.39245+0.00625\n",
      "[84]\ttrain-rmse:0.39156+0.00152\ttest-rmse:0.39246+0.00625\n",
      "[85]\ttrain-rmse:0.39156+0.00152\ttest-rmse:0.39247+0.00627\n",
      "[86]\ttrain-rmse:0.39156+0.00152\ttest-rmse:0.39249+0.00629\n",
      "[87]\ttrain-rmse:0.39156+0.00152\ttest-rmse:0.39250+0.00628\n",
      "[88]\ttrain-rmse:0.39156+0.00152\ttest-rmse:0.39250+0.00628\n",
      "[89]\ttrain-rmse:0.39156+0.00152\ttest-rmse:0.39252+0.00627\n",
      "[90]\ttrain-rmse:0.39156+0.00152\ttest-rmse:0.39251+0.00629\n",
      "[91]\ttrain-rmse:0.39156+0.00152\ttest-rmse:0.39249+0.00627\n",
      "[92]\ttrain-rmse:0.39156+0.00152\ttest-rmse:0.39249+0.00627\n",
      "[93]\ttrain-rmse:0.39156+0.00152\ttest-rmse:0.39249+0.00626\n",
      "[94]\ttrain-rmse:0.39156+0.00152\ttest-rmse:0.39247+0.00626\n",
      "[95]\ttrain-rmse:0.39156+0.00152\ttest-rmse:0.39247+0.00623\n",
      "[96]\ttrain-rmse:0.39156+0.00152\ttest-rmse:0.39247+0.00624\n",
      "[97]\ttrain-rmse:0.39156+0.00152\ttest-rmse:0.39247+0.00622\n",
      "[98]\ttrain-rmse:0.39156+0.00152\ttest-rmse:0.39247+0.00623\n",
      "[99]\ttrain-rmse:0.39156+0.00152\ttest-rmse:0.39248+0.00623\n",
      "[100]\ttrain-rmse:0.39156+0.00152\ttest-rmse:0.39249+0.00623\n",
      "[101]\ttrain-rmse:0.39156+0.00152\ttest-rmse:0.39249+0.00622\n",
      "[102]\ttrain-rmse:0.39156+0.00152\ttest-rmse:0.39248+0.00621\n",
      "[103]\ttrain-rmse:0.39156+0.00152\ttest-rmse:0.39249+0.00622\n",
      "[104]\ttrain-rmse:0.39156+0.00152\ttest-rmse:0.39249+0.00622\n",
      "[105]\ttrain-rmse:0.39156+0.00152\ttest-rmse:0.39247+0.00622\n",
      "[106]\ttrain-rmse:0.39156+0.00152\ttest-rmse:0.39249+0.00622\n",
      "[107]\ttrain-rmse:0.39156+0.00152\ttest-rmse:0.39249+0.00621\n",
      "[108]\ttrain-rmse:0.39156+0.00152\ttest-rmse:0.39248+0.00622\n",
      "[109]\ttrain-rmse:0.39156+0.00152\ttest-rmse:0.39248+0.00621\n",
      "[110]\ttrain-rmse:0.39156+0.00152\ttest-rmse:0.39248+0.00622\n",
      "[111]\ttrain-rmse:0.39156+0.00152\ttest-rmse:0.39248+0.00623\n",
      "[112]\ttrain-rmse:0.39156+0.00152\ttest-rmse:0.39249+0.00623\n"
     ]
    }
   ],
   "source": [
    "params = {'eta':0.1,\n",
    "          'subsample': 0.8,\n",
    "          'max_depth': 5,\n",
    "          'colsample_bytree': 0.8,\n",
    "          'objective':'reg:linear',\n",
    "          'eval_metric':'rmse',\n",
    "          }\n",
    "\n",
    "cv_results = xgb.cv(params,\n",
    "                    train_matrix,\n",
    "                    num_boost_round = 300,\n",
    "                    nfold = params.get('nfold', 5),\n",
    "                    metrics = params['eval_metric'],\n",
    "                    verbose_eval = True,\n",
    "                    early_stopping_rounds = 30,\n",
    "                    seed = 42)"
   ]
  },
  {
   "cell_type": "code",
   "execution_count": null,
   "metadata": {},
   "outputs": [],
   "source": []
  },
  {
   "cell_type": "code",
   "execution_count": 117,
   "metadata": {},
   "outputs": [
    {
     "data": {
      "text/plain": [
       "84"
      ]
     },
     "execution_count": 117,
     "metadata": {},
     "output_type": "execute_result"
    }
   ],
   "source": [
    "n_best_trees = cv_results.shape[0]\n",
    "n_best_trees"
   ]
  },
  {
   "cell_type": "code",
   "execution_count": 118,
   "metadata": {},
   "outputs": [
    {
     "name": "stdout",
     "output_type": "stream",
     "text": [
      "[14:11:41] WARNING: d:\\bld\\xgboost-split_1615294821523\\work\\src\\objective\\regression_obj.cu:170: reg:linear is now deprecated in favor of reg:squarederror.\n",
      "[0]\ttrain-rmse:10.38918\n",
      "[1]\ttrain-rmse:9.35248\n",
      "[2]\ttrain-rmse:8.42014\n",
      "[3]\ttrain-rmse:7.58061\n",
      "[4]\ttrain-rmse:6.82514\n",
      "[5]\ttrain-rmse:6.14549\n",
      "[6]\ttrain-rmse:5.53388\n",
      "[7]\ttrain-rmse:4.98425\n",
      "[8]\ttrain-rmse:4.48919\n",
      "[9]\ttrain-rmse:4.04398\n",
      "[10]\ttrain-rmse:3.64399\n",
      "[11]\ttrain-rmse:3.28431\n",
      "[12]\ttrain-rmse:2.96089\n",
      "[13]\ttrain-rmse:2.67033\n",
      "[14]\ttrain-rmse:2.40987\n",
      "[15]\ttrain-rmse:2.17555\n",
      "[16]\ttrain-rmse:1.96552\n",
      "[17]\ttrain-rmse:1.77760\n",
      "[18]\ttrain-rmse:1.60897\n",
      "[19]\ttrain-rmse:1.45830\n",
      "[20]\ttrain-rmse:1.32358\n",
      "[21]\ttrain-rmse:1.20343\n",
      "[22]\ttrain-rmse:1.09667\n",
      "[23]\ttrain-rmse:1.00178\n",
      "[24]\ttrain-rmse:0.91729\n",
      "[25]\ttrain-rmse:0.84340\n",
      "[26]\ttrain-rmse:0.77818\n",
      "[27]\ttrain-rmse:0.72104\n",
      "[28]\ttrain-rmse:0.67141\n",
      "[29]\ttrain-rmse:0.62782\n",
      "[30]\ttrain-rmse:0.59037\n",
      "[31]\ttrain-rmse:0.55805\n",
      "[32]\ttrain-rmse:0.53048\n",
      "[33]\ttrain-rmse:0.50707\n",
      "[34]\ttrain-rmse:0.48732\n",
      "[35]\ttrain-rmse:0.47087\n",
      "[36]\ttrain-rmse:0.45697\n",
      "[37]\ttrain-rmse:0.44561\n",
      "[38]\ttrain-rmse:0.43612\n",
      "[39]\ttrain-rmse:0.42809\n",
      "[40]\ttrain-rmse:0.42146\n",
      "[41]\ttrain-rmse:0.41599\n",
      "[42]\ttrain-rmse:0.41154\n",
      "[43]\ttrain-rmse:0.40784\n",
      "[44]\ttrain-rmse:0.40482\n",
      "[45]\ttrain-rmse:0.40231\n",
      "[46]\ttrain-rmse:0.40039\n",
      "[47]\ttrain-rmse:0.39883\n",
      "[48]\ttrain-rmse:0.39749\n",
      "[49]\ttrain-rmse:0.39644\n",
      "[50]\ttrain-rmse:0.39554\n",
      "[51]\ttrain-rmse:0.39482\n",
      "[52]\ttrain-rmse:0.39421\n",
      "[53]\ttrain-rmse:0.39373\n",
      "[54]\ttrain-rmse:0.39336\n",
      "[55]\ttrain-rmse:0.39303\n",
      "[56]\ttrain-rmse:0.39278\n",
      "[57]\ttrain-rmse:0.39257\n",
      "[58]\ttrain-rmse:0.39240\n",
      "[59]\ttrain-rmse:0.39226\n",
      "[60]\ttrain-rmse:0.39215\n",
      "[61]\ttrain-rmse:0.39206\n",
      "[62]\ttrain-rmse:0.39198\n",
      "[63]\ttrain-rmse:0.39191\n",
      "[64]\ttrain-rmse:0.39186\n",
      "[65]\ttrain-rmse:0.39181\n",
      "[66]\ttrain-rmse:0.39179\n",
      "[67]\ttrain-rmse:0.39176\n",
      "[68]\ttrain-rmse:0.39174\n",
      "[69]\ttrain-rmse:0.39174\n",
      "[70]\ttrain-rmse:0.39172\n",
      "[71]\ttrain-rmse:0.39171\n",
      "[72]\ttrain-rmse:0.39170\n",
      "[73]\ttrain-rmse:0.39169\n",
      "[74]\ttrain-rmse:0.39169\n",
      "[75]\ttrain-rmse:0.39169\n",
      "[76]\ttrain-rmse:0.39169\n",
      "[77]\ttrain-rmse:0.39168\n",
      "[78]\ttrain-rmse:0.39168\n",
      "[79]\ttrain-rmse:0.39168\n",
      "[80]\ttrain-rmse:0.39167\n",
      "[81]\ttrain-rmse:0.39167\n",
      "[82]\ttrain-rmse:0.39167\n",
      "[83]\ttrain-rmse:0.39167\n"
     ]
    }
   ],
   "source": [
    "watchlist=[(train_matrix,'train')]\n",
    "gbt = xgb.train(params, train_matrix, n_best_trees, watchlist)"
   ]
  },
  {
   "cell_type": "code",
   "execution_count": 126,
   "metadata": {},
   "outputs": [
    {
     "ename": "AttributeError",
     "evalue": "module 'xgboost' has no attribute 'feature_importances_'",
     "output_type": "error",
     "traceback": [
      "\u001b[1;31m---------------------------------------------------------------------------\u001b[0m",
      "\u001b[1;31mAttributeError\u001b[0m                            Traceback (most recent call last)",
      "\u001b[1;32m<ipython-input-126-66a5accea0d8>\u001b[0m in \u001b[0;36m<module>\u001b[1;34m\u001b[0m\n\u001b[1;32m----> 1\u001b[1;33m \u001b[0mxgb\u001b[0m\u001b[1;33m.\u001b[0m\u001b[0mfeature_importances_\u001b[0m\u001b[1;33m\u001b[0m\u001b[1;33m\u001b[0m\u001b[0m\n\u001b[0m",
      "\u001b[1;31mAttributeError\u001b[0m: module 'xgboost' has no attribute 'feature_importances_'"
     ]
    }
   ],
   "source": [
    "xgb.feature_importances_"
   ]
  },
  {
   "cell_type": "markdown",
   "metadata": {},
   "source": [
    "### Evaluate"
   ]
  },
  {
   "cell_type": "code",
   "execution_count": 90,
   "metadata": {},
   "outputs": [
    {
     "data": {
      "text/plain": [
       "0.39337938438886727"
      ]
     },
     "execution_count": 90,
     "metadata": {},
     "output_type": "execute_result"
    }
   ],
   "source": [
    "y_test_pred = gbt.predict(test_matrix, ntree_limit = n_best_trees)\n",
    "np.sqrt(mean_squared_error(y_test,y_test_pred))"
   ]
  },
  {
   "cell_type": "markdown",
   "metadata": {},
   "source": [
    "We can see that , training RMSE is 0.39167, and the test set has RMSE 0.3934, the difference is n't very high."
   ]
  },
  {
   "cell_type": "code",
   "execution_count": 91,
   "metadata": {},
   "outputs": [
    {
     "data": {
      "text/plain": [
       "<matplotlib.axes._subplots.AxesSubplot at 0x14d53786940>"
      ]
     },
     "execution_count": 91,
     "metadata": {},
     "output_type": "execute_result"
    },
    {
     "data": {
      "image/png": "[encoded data removed]",
      "text/plain": [
       "<Figure size 432x288 with 1 Axes>"
      ]
     },
     "metadata": {},
     "output_type": "display_data"
    }
   ],
   "source": [
    "# check residual's distribution\n",
    "(y_test - y_test_pred).hist(bins = 60,edgecolor='black')"
   ]
  },
  {
   "cell_type": "markdown",
   "metadata": {},
   "source": [
    "From above, we can see the residual's distribution is nearly normal. Therefore, the trained model is acceptable."
   ]
  },
  {
   "cell_type": "code",
   "execution_count": 96,
   "metadata": {},
   "outputs": [],
   "source": [
    "gbt.save_model('gbt.model')"
   ]
  },
  {
   "cell_type": "markdown",
   "metadata": {},
   "source": [
    "<a id='answerquestion4'></a>\n",
    "## Answer question 4\n",
    "- Describe the main factors impacting employee salaries\n",
    "- Do you think the company has been treating its employees fairly? Do you see any bias?\n",
    "- What are the next steps you would suggest to the Head of HR?"
   ]
  },
  {
   "cell_type": "markdown",
   "metadata": {},
   "source": [
    "#### Main factors impacting salaries"
   ]
  },
  {
   "cell_type": "code",
   "execution_count": 97,
   "metadata": {},
   "outputs": [
    {
     "data": {
      "text/plain": [
       "<matplotlib.axes._subplots.AxesSubplot at 0x14d539bb2e0>"
      ]
     },
     "execution_count": 97,
     "metadata": {},
     "output_type": "execute_result"
    },
    {
     "data": {
      "image/png": "[encoded data removed]",
      "text/plain": [
       "<Figure size 432x288 with 1 Axes>"
      ]
     },
     "metadata": {},
     "output_type": "display_data"
    }
   ],
   "source": [
    "xgb.plot_importance(gbt)"
   ]
  },
  {
   "cell_type": "markdown",
   "metadata": {},
   "source": [
    "From the above figure, it can be found that the main factors impacting salaries includes: **'years of experience'**, and **'level'**. This is normal, since more experience deserve higher salary, and higher level, more salary."
   ]
  },
  {
   "cell_type": "markdown",
   "metadata": {},
   "source": [
    "#### Residuals Analysis"
   ]
  },
  {
   "cell_type": "code",
   "execution_count": 103,
   "metadata": {},
   "outputs": [],
   "source": [
    "# predict data\n",
    "whole_matrix = xgb.DMatrix(x_test)\n",
    "y_pred = gbt.predict(whole_matrix)\n",
    "\n",
    "predresults = pd.DataFrame({'y_test': np.exp(y_test),'y_pred': np.exp(y_pred)})\n",
    "\n",
    "# if bias > 0, the employee is over-paid; otherwise, the employee is under paid\n",
    "predresults['bias'] = predresults.y_test - predresults.y_pred"
   ]
  },
  {
   "cell_type": "code",
   "execution_count": 104,
   "metadata": {},
   "outputs": [
    {
     "data": {
      "text/html": [
       "<div>\n",
       "<style scoped>\n",
       "    .dataframe tbody tr th:only-of-type {\n",
       "        vertical-align: middle;\n",
       "    }\n",
       "\n",
       "    .dataframe tbody tr th {\n",
       "        vertical-align: top;\n",
       "    }\n",
       "\n",
       "    .dataframe thead th {\n",
       "        text-align: right;\n",
       "    }\n",
       "</style>\n",
       "<table border=\"1\" class=\"dataframe\">\n",
       "  <thead>\n",
       "    <tr style=\"text-align: right;\">\n",
       "      <th></th>\n",
       "      <th>y_test</th>\n",
       "      <th>y_pred</th>\n",
       "      <th>bias</th>\n",
       "      <th>signing_bonus</th>\n",
       "      <th>salary</th>\n",
       "      <th>degree_level</th>\n",
       "      <th>sex</th>\n",
       "      <th>yrs_experience</th>\n",
       "      <th>boss_id</th>\n",
       "      <th>dept</th>\n",
       "      <th>level</th>\n",
       "      <th>counts</th>\n",
       "    </tr>\n",
       "    <tr>\n",
       "      <th>employee_id</th>\n",
       "      <th></th>\n",
       "      <th></th>\n",
       "      <th></th>\n",
       "      <th></th>\n",
       "      <th></th>\n",
       "      <th></th>\n",
       "      <th></th>\n",
       "      <th></th>\n",
       "      <th></th>\n",
       "      <th></th>\n",
       "      <th></th>\n",
       "      <th></th>\n",
       "    </tr>\n",
       "  </thead>\n",
       "  <tbody>\n",
       "    <tr>\n",
       "      <th>151440</th>\n",
       "      <td>112000.0</td>\n",
       "      <td>179619.937500</td>\n",
       "      <td>-67619.937500</td>\n",
       "      <td>0</td>\n",
       "      <td>112000.0</td>\n",
       "      <td>High_School</td>\n",
       "      <td>M</td>\n",
       "      <td>4</td>\n",
       "      <td>191073.0</td>\n",
       "      <td>sales</td>\n",
       "      <td>IC</td>\n",
       "      <td>0</td>\n",
       "    </tr>\n",
       "    <tr>\n",
       "      <th>28676</th>\n",
       "      <td>99000.0</td>\n",
       "      <td>179619.937500</td>\n",
       "      <td>-80619.937500</td>\n",
       "      <td>0</td>\n",
       "      <td>99000.0</td>\n",
       "      <td>Bachelor</td>\n",
       "      <td>M</td>\n",
       "      <td>2</td>\n",
       "      <td>191485.0</td>\n",
       "      <td>sales</td>\n",
       "      <td>IC</td>\n",
       "      <td>0</td>\n",
       "    </tr>\n",
       "    <tr>\n",
       "      <th>75821</th>\n",
       "      <td>367000.0</td>\n",
       "      <td>222665.312500</td>\n",
       "      <td>144334.687500</td>\n",
       "      <td>1</td>\n",
       "      <td>367000.0</td>\n",
       "      <td>Bachelor</td>\n",
       "      <td>M</td>\n",
       "      <td>4</td>\n",
       "      <td>133927.0</td>\n",
       "      <td>engineering</td>\n",
       "      <td>IC</td>\n",
       "      <td>0</td>\n",
       "    </tr>\n",
       "    <tr>\n",
       "      <th>65690</th>\n",
       "      <td>286000.0</td>\n",
       "      <td>179817.390625</td>\n",
       "      <td>106182.609375</td>\n",
       "      <td>1</td>\n",
       "      <td>286000.0</td>\n",
       "      <td>Bachelor</td>\n",
       "      <td>M</td>\n",
       "      <td>5</td>\n",
       "      <td>35499.0</td>\n",
       "      <td>sales</td>\n",
       "      <td>IC</td>\n",
       "      <td>0</td>\n",
       "    </tr>\n",
       "    <tr>\n",
       "      <th>48120</th>\n",
       "      <td>398000.0</td>\n",
       "      <td>222665.312500</td>\n",
       "      <td>175334.687500</td>\n",
       "      <td>1</td>\n",
       "      <td>398000.0</td>\n",
       "      <td>Master</td>\n",
       "      <td>M</td>\n",
       "      <td>3</td>\n",
       "      <td>140317.0</td>\n",
       "      <td>engineering</td>\n",
       "      <td>MM</td>\n",
       "      <td>12</td>\n",
       "    </tr>\n",
       "  </tbody>\n",
       "</table>\n",
       "</div>"
      ],
      "text/plain": [
       "               y_test         y_pred           bias  signing_bonus    salary  \\\n",
       "employee_id                                                                    \n",
       "151440       112000.0  179619.937500  -67619.937500              0  112000.0   \n",
       "28676         99000.0  179619.937500  -80619.937500              0   99000.0   \n",
       "75821        367000.0  222665.312500  144334.687500              1  367000.0   \n",
       "65690        286000.0  179817.390625  106182.609375              1  286000.0   \n",
       "48120        398000.0  222665.312500  175334.687500              1  398000.0   \n",
       "\n",
       "            degree_level sex  yrs_experience   boss_id         dept level  \\\n",
       "employee_id                                                                 \n",
       "151440       High_School   M               4  191073.0        sales    IC   \n",
       "28676           Bachelor   M               2  191485.0        sales    IC   \n",
       "75821           Bachelor   M               4  133927.0  engineering    IC   \n",
       "65690           Bachelor   M               5   35499.0        sales    IC   \n",
       "48120             Master   M               3  140317.0  engineering    MM   \n",
       "\n",
       "             counts  \n",
       "employee_id          \n",
       "151440            0  \n",
       "28676             0  \n",
       "75821             0  \n",
       "65690             0  \n",
       "48120            12  "
      ]
     },
     "execution_count": 104,
     "metadata": {},
     "output_type": "execute_result"
    }
   ],
   "source": [
    "# join with employee's features\n",
    "predresults = predresults.join(data)\n",
    "predresults.head()"
   ]
  },
  {
   "cell_type": "code",
   "execution_count": 108,
   "metadata": {},
   "outputs": [],
   "source": [
    "# delete redundant column\n",
    "del predresults['y_test']"
   ]
  },
  {
   "cell_type": "code",
   "execution_count": 109,
   "metadata": {},
   "outputs": [
    {
     "data": {
      "text/plain": [
       "employee_id\n",
       "17837    -166875.390625\n",
       "39993    -163875.390625\n",
       "99006    -162875.390625\n",
       "176421   -161875.390625\n",
       "117024   -161665.312500\n",
       "              ...      \n",
       "169015    229041.234375\n",
       "125855    278273.632812\n",
       "110464    378342.093750\n",
       "51535     427334.687500\n",
       "61554     528342.093750\n",
       "Name: bias, Length: 3000, dtype: float64"
      ]
     },
     "execution_count": 109,
     "metadata": {},
     "output_type": "execute_result"
    }
   ],
   "source": [
    "predresults['bias'].sort_values()"
   ]
  },
  {
   "cell_type": "code",
   "execution_count": 110,
   "metadata": {},
   "outputs": [
    {
     "data": {
      "text/plain": [
       "<matplotlib.axes._subplots.AxesSubplot at 0x14d53322eb0>"
      ]
     },
     "execution_count": 110,
     "metadata": {},
     "output_type": "execute_result"
    },
    {
     "data": {
      "image/png": "[encoded data removed]",
      "text/plain": [
       "<Figure size 432x288 with 1 Axes>"
      ]
     },
     "metadata": {},
     "output_type": "display_data"
    }
   ],
   "source": [
    "predresults['bias'].hist(bins = 100)"
   ]
  },
  {
   "cell_type": "markdown",
   "metadata": {},
   "source": [
    "It can be found that the bias is nearly normal."
   ]
  },
  {
   "cell_type": "code",
   "execution_count": 112,
   "metadata": {},
   "outputs": [
    {
     "data": {
      "text/plain": [
       "Text(0, 0.5, 'Bias')"
      ]
     },
     "execution_count": 112,
     "metadata": {},
     "output_type": "execute_result"
    },
    {
     "data": {
      "image/png": "[encoded data removed]",
      "text/plain": [
       "<Figure size 432x288 with 1 Axes>"
      ]
     },
     "metadata": {},
     "output_type": "display_data"
    }
   ],
   "source": [
    "plt.scatter(predresults['salary'], predresults['bias'])\n",
    "plt.xlabel('True Salary')\n",
    "plt.ylabel('Bias')"
   ]
  },
  {
   "cell_type": "markdown",
   "metadata": {},
   "source": [
    "It can be seen that the employee with high salary are more likely to be overpaid."
   ]
  },
  {
   "cell_type": "markdown",
   "metadata": {},
   "source": [
    "### Is it fair? Any bias?"
   ]
  },
  {
   "cell_type": "markdown",
   "metadata": {},
   "source": [
    "In large scope, the company treat its employee fairly. The only bias I can see is that the management level is likely to be overpaid. Higher the level, more likely to be overpaid."
   ]
  },
  {
   "cell_type": "code",
   "execution_count": null,
   "metadata": {},
   "outputs": [],
   "source": []
  }
 ],
 "metadata": {
  "kernelspec": {
   "display_name": "Python 3",
   "language": "python",
   "name": "python3"
  },
  "language_info": {
   "codemirror_mode": {
    "name": "ipython",
    "version": 3
   },
   "file_extension": ".py",
   "mimetype": "text/x-python",
   "name": "python",
   "nbconvert_exporter": "python",
   "pygments_lexer": "ipython3",
   "version": "3.8.3"
  }
 },
 "nbformat": 4,
 "nbformat_minor": 4
}
